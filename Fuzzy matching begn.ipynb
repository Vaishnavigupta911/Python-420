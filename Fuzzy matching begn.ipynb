{
 "cells": [
  {
   "cell_type": "markdown",
   "id": "e4f27489",
   "metadata": {},
   "source": [
    "Fuzzy matching in python\n",
    "\n",
    "library - pyphonetics"
   ]
  },
  {
   "cell_type": "code",
   "execution_count": 1,
   "id": "bf96f67e",
   "metadata": {},
   "outputs": [
    {
     "name": "stdout",
     "output_type": "stream",
     "text": [
      "Requirement already satisfied: pyphonetics in c:\\users\\vaishnavi\\anaconda3\\lib\\site-packages (0.5.3)\n",
      "Requirement already satisfied: unidecode<2,>=1 in c:\\users\\vaishnavi\\anaconda3\\lib\\site-packages (from pyphonetics) (1.2.0)\n",
      "Note: you may need to restart the kernel to use updated packages.\n"
     ]
    }
   ],
   "source": [
    "pip install pyphonetics"
   ]
  },
  {
   "cell_type": "code",
   "execution_count": 2,
   "id": "ba9b15ed",
   "metadata": {},
   "outputs": [],
   "source": [
    " from pyphonetics import Soundex"
   ]
  },
  {
   "cell_type": "code",
   "execution_count": 3,
   "id": "b2586293",
   "metadata": {},
   "outputs": [],
   "source": [
    "#we create an object to hold this Soundex()\n",
    "snd=Soundex()\n"
   ]
  },
  {
   "cell_type": "code",
   "execution_count": 4,
   "id": "1a1570b4",
   "metadata": {},
   "outputs": [
    {
     "data": {
      "text/plain": [
       "'T000'"
      ]
     },
     "execution_count": 4,
     "metadata": {},
     "output_type": "execute_result"
    }
   ],
   "source": [
    "snd.phonetics(\"two\")  #A word is inserted\n",
    "#output is the sound of the input word"
   ]
  },
  {
   "cell_type": "code",
   "execution_count": 5,
   "id": "3180ba7f",
   "metadata": {},
   "outputs": [
    {
     "data": {
      "text/plain": [
       "'T000'"
      ]
     },
     "execution_count": 5,
     "metadata": {},
     "output_type": "execute_result"
    }
   ],
   "source": [
    "snd.phonetics('to')"
   ]
  },
  {
   "cell_type": "markdown",
   "id": "41ac1b74",
   "metadata": {},
   "source": [
    "clearly the above 2 words sound alike"
   ]
  },
  {
   "cell_type": "code",
   "execution_count": 6,
   "id": "7a7714c0",
   "metadata": {},
   "outputs": [
    {
     "data": {
      "text/plain": [
       "True"
      ]
     },
     "execution_count": 6,
     "metadata": {},
     "output_type": "execute_result"
    }
   ],
   "source": [
    "snd.sounds_like('two','to') #both sound the same"
   ]
  },
  {
   "cell_type": "code",
   "execution_count": 7,
   "id": "732aedfc",
   "metadata": {},
   "outputs": [
    {
     "data": {
      "text/plain": [
       "False"
      ]
     },
     "execution_count": 7,
     "metadata": {},
     "output_type": "execute_result"
    }
   ],
   "source": [
    "snd.sounds_like('tree','free')"
   ]
  },
  {
   "cell_type": "code",
   "execution_count": 8,
   "id": "4202ef76",
   "metadata": {},
   "outputs": [],
   "source": [
    "from pyphonetics import Metaphone"
   ]
  },
  {
   "cell_type": "code",
   "execution_count": 9,
   "id": "0bc5d3cf",
   "metadata": {},
   "outputs": [],
   "source": [
    "mp=Metaphone()"
   ]
  },
  {
   "cell_type": "code",
   "execution_count": 10,
   "id": "e51e958b",
   "metadata": {},
   "outputs": [
    {
     "data": {
      "text/plain": [
       "False"
      ]
     },
     "execution_count": 10,
     "metadata": {},
     "output_type": "execute_result"
    }
   ],
   "source": [
    "mp.sounds_like('Robert','Joseph')"
   ]
  },
  {
   "cell_type": "code",
   "execution_count": 11,
   "id": "56f9400f",
   "metadata": {},
   "outputs": [
    {
     "data": {
      "text/plain": [
       "True"
      ]
     },
     "execution_count": 11,
     "metadata": {},
     "output_type": "execute_result"
    }
   ],
   "source": [
    "mp.sounds_like('New Delhi','NewDelhi') \n",
    "#even with a space, it recognises two similar words"
   ]
  },
  {
   "cell_type": "code",
   "execution_count": 12,
   "id": "9d1c2c8b",
   "metadata": {},
   "outputs": [
    {
     "data": {
      "text/plain": [
       "'BKLT'"
      ]
     },
     "execution_count": 12,
     "metadata": {},
     "output_type": "execute_result"
    }
   ],
   "source": [
    "mp.phonetics('Bakelite')"
   ]
  },
  {
   "cell_type": "code",
   "execution_count": 13,
   "id": "85441162",
   "metadata": {},
   "outputs": [
    {
     "data": {
      "text/plain": [
       "True"
      ]
     },
     "execution_count": 13,
     "metadata": {},
     "output_type": "execute_result"
    }
   ],
   "source": [
    "mp.sounds_like('Bakelite','Bake-lite')"
   ]
  },
  {
   "cell_type": "markdown",
   "id": "0ac2523b",
   "metadata": {},
   "source": [
    "#### hamming distance--distance between words based on sound\n",
    "#### levenshtein distance-- distancce between words based on letters"
   ]
  },
  {
   "cell_type": "markdown",
   "id": "d4198e17",
   "metadata": {},
   "source": [
    "### fuzzy matching with rapidfuzz"
   ]
  },
  {
   "cell_type": "code",
   "execution_count": 14,
   "id": "9409defb",
   "metadata": {},
   "outputs": [
    {
     "name": "stdout",
     "output_type": "stream",
     "text": [
      "Requirement already satisfied: rapidfuzz in c:\\users\\vaishnavi\\anaconda3\\lib\\site-packages (3.12.1)Note: you may need to restart the kernel to use updated packages.\n",
      "\n"
     ]
    }
   ],
   "source": [
    "pip install rapidfuzz\n"
   ]
  },
  {
   "cell_type": "code",
   "execution_count": 16,
   "id": "355c4131",
   "metadata": {},
   "outputs": [],
   "source": [
    "from rapidfuzz import fuzz"
   ]
  },
  {
   "cell_type": "markdown",
   "id": "baa00c0d",
   "metadata": {},
   "source": [
    "#### simple ratio"
   ]
  },
  {
   "cell_type": "code",
   "execution_count": 18,
   "id": "3b641cde",
   "metadata": {},
   "outputs": [
    {
     "data": {
      "text/plain": [
       "94.11764705882352"
      ]
     },
     "execution_count": 18,
     "metadata": {},
     "output_type": "execute_result"
    }
   ],
   "source": [
    "fuzz.ratio('new delhi','newdelhi')\n",
    "#distnace between 2 words or strings\n",
    "#distance is less--ratio value is high"
   ]
  },
  {
   "cell_type": "markdown",
   "id": "12a81484",
   "metadata": {},
   "source": [
    "#### Ratio when tokens are sorted"
   ]
  },
  {
   "cell_type": "code",
   "execution_count": 19,
   "id": "46ab6996",
   "metadata": {},
   "outputs": [
    {
     "data": {
      "text/plain": [
       "100.0"
      ]
     },
     "execution_count": 19,
     "metadata": {},
     "output_type": "execute_result"
    }
   ],
   "source": [
    "fuzz.token_sort_ratio('united states of america','united america of states')\n",
    "#token--word in a string\n",
    "#we sort the word and then find the ratio/distance"
   ]
  },
  {
   "cell_type": "markdown",
   "id": "b7bf8ee4",
   "metadata": {},
   "source": [
    "levenshtein distance customization\n",
    "\n",
    "#### The Levenshtein distance is calculated as the minimum number of insertions, deletions, or substitutions needed to transform one string into another."
   ]
  },
  {
   "cell_type": "code",
   "execution_count": 21,
   "id": "2d241315",
   "metadata": {},
   "outputs": [],
   "source": [
    "from rapidfuzz.distance import Levenshtein"
   ]
  },
  {
   "cell_type": "code",
   "execution_count": 28,
   "id": "c13796c6",
   "metadata": {},
   "outputs": [
    {
     "data": {
      "text/plain": [
       "1"
      ]
     },
     "execution_count": 28,
     "metadata": {},
     "output_type": "execute_result"
    }
   ],
   "source": [
    "lev_dist = Levenshtein.distance('new delhi', 'newdelhi')\n",
    "lev_dist"
   ]
  },
  {
   "cell_type": "markdown",
   "id": "4fb9270d",
   "metadata": {},
   "source": [
    "Normalized levenshtein : distance between two words but normalized to fall between 0 and 1"
   ]
  },
  {
   "cell_type": "code",
   "execution_count": 33,
   "id": "7b491669",
   "metadata": {},
   "outputs": [],
   "source": [
    "norm_lev_dist = Levenshtein.normalized_distance('new delhi','delhi')"
   ]
  },
  {
   "cell_type": "code",
   "execution_count": 34,
   "id": "a912d19f",
   "metadata": {},
   "outputs": [
    {
     "data": {
      "text/plain": [
       "0.4444444444444444"
      ]
     },
     "execution_count": 34,
     "metadata": {},
     "output_type": "execute_result"
    }
   ],
   "source": [
    "norm_lev_dist"
   ]
  },
  {
   "cell_type": "markdown",
   "id": "42ef8843",
   "metadata": {},
   "source": [
    "putting weights to levenshtein distance's letter insertion,deletion, substitution"
   ]
  },
  {
   "cell_type": "code",
   "execution_count": 35,
   "id": "b5189109",
   "metadata": {},
   "outputs": [
    {
     "data": {
      "text/plain": [
       "1"
      ]
     },
     "execution_count": 35,
     "metadata": {},
     "output_type": "execute_result"
    }
   ],
   "source": [
    "Levenshtein.distance('new delhi', 'newdelhi',weights=(1,1,1)) \n",
    "#wts=insertion,deletion, substitution"
   ]
  },
  {
   "cell_type": "markdown",
   "id": "54d64375",
   "metadata": {},
   "source": [
    "as above we have a difference of a space character , there for as per the weight given to deletion, 1 , L distance is 1"
   ]
  },
  {
   "cell_type": "code",
   "execution_count": 36,
   "id": "c228d43e",
   "metadata": {},
   "outputs": [
    {
     "data": {
      "text/plain": [
       "2"
      ]
     },
     "execution_count": 36,
     "metadata": {},
     "output_type": "execute_result"
    }
   ],
   "source": [
    "Levenshtein.distance('new delhi', 'newdelhi',weights=(1,2,1)) "
   ]
  },
  {
   "cell_type": "markdown",
   "id": "8dd50026",
   "metadata": {},
   "source": [
    " as per the weight given to deletion, 2, L distance is 2 now"
   ]
  },
  {
   "cell_type": "markdown",
   "id": "7f5deb0a",
   "metadata": {},
   "source": [
    "#### comparing 2 strings in a dataframe\n",
    "using process module in rapidfuzz\n"
   ]
  },
  {
   "cell_type": "code",
   "execution_count": 37,
   "id": "f62ef323",
   "metadata": {},
   "outputs": [],
   "source": [
    "import pandas as pd"
   ]
  },
  {
   "cell_type": "code",
   "execution_count": 39,
   "id": "e5bcb418",
   "metadata": {},
   "outputs": [],
   "source": [
    "df=pd.DataFrame({'Place':['Orissa','Odissa','Mumbai','Bangalore','Bengaluru'],'Index':[20,30,50,60,70]})"
   ]
  },
  {
   "cell_type": "code",
   "execution_count": 40,
   "id": "72581722",
   "metadata": {},
   "outputs": [
    {
     "data": {
      "text/html": [
       "<div>\n",
       "<style scoped>\n",
       "    .dataframe tbody tr th:only-of-type {\n",
       "        vertical-align: middle;\n",
       "    }\n",
       "\n",
       "    .dataframe tbody tr th {\n",
       "        vertical-align: top;\n",
       "    }\n",
       "\n",
       "    .dataframe thead th {\n",
       "        text-align: right;\n",
       "    }\n",
       "</style>\n",
       "<table border=\"1\" class=\"dataframe\">\n",
       "  <thead>\n",
       "    <tr style=\"text-align: right;\">\n",
       "      <th></th>\n",
       "      <th>Place</th>\n",
       "      <th>Index</th>\n",
       "    </tr>\n",
       "  </thead>\n",
       "  <tbody>\n",
       "    <tr>\n",
       "      <th>0</th>\n",
       "      <td>Orissa</td>\n",
       "      <td>20</td>\n",
       "    </tr>\n",
       "    <tr>\n",
       "      <th>1</th>\n",
       "      <td>Odissa</td>\n",
       "      <td>30</td>\n",
       "    </tr>\n",
       "    <tr>\n",
       "      <th>2</th>\n",
       "      <td>Mumbai</td>\n",
       "      <td>50</td>\n",
       "    </tr>\n",
       "    <tr>\n",
       "      <th>3</th>\n",
       "      <td>Bangalore</td>\n",
       "      <td>60</td>\n",
       "    </tr>\n",
       "    <tr>\n",
       "      <th>4</th>\n",
       "      <td>Bengaluru</td>\n",
       "      <td>70</td>\n",
       "    </tr>\n",
       "  </tbody>\n",
       "</table>\n",
       "</div>"
      ],
      "text/plain": [
       "       Place  Index\n",
       "0     Orissa     20\n",
       "1     Odissa     30\n",
       "2     Mumbai     50\n",
       "3  Bangalore     60\n",
       "4  Bengaluru     70"
      ]
     },
     "execution_count": 40,
     "metadata": {},
     "output_type": "execute_result"
    }
   ],
   "source": [
    "df"
   ]
  },
  {
   "cell_type": "code",
   "execution_count": 41,
   "id": "876172e3",
   "metadata": {},
   "outputs": [
    {
     "data": {
      "text/plain": [
       "0       Orissa\n",
       "1       Odissa\n",
       "2       Mumbai\n",
       "3    Bangalore\n",
       "4    Bengaluru\n",
       "Name: Place, dtype: object"
      ]
     },
     "execution_count": 41,
     "metadata": {},
     "output_type": "execute_result"
    }
   ],
   "source": [
    "df.Place"
   ]
  },
  {
   "cell_type": "code",
   "execution_count": 46,
   "id": "67540fbf",
   "metadata": {},
   "outputs": [],
   "source": [
    "from rapidfuzz.process import extractOne, extract, extract_iter"
   ]
  },
  {
   "cell_type": "code",
   "execution_count": 44,
   "id": "42c5e153",
   "metadata": {},
   "outputs": [],
   "source": [
    "from rapidfuzz.distance import Levenshtein"
   ]
  },
  {
   "cell_type": "code",
   "execution_count": 45,
   "id": "d830febf",
   "metadata": {},
   "outputs": [],
   "source": [
    "from rapidfuzz.fuzz import ratio"
   ]
  },
  {
   "cell_type": "markdown",
   "id": "23e30820",
   "metadata": {},
   "source": [
    "#### We are comparing orissa with all values in the variable place in the df\n",
    "('Orissa', 100.0, 0) --normalized L distance , L distance"
   ]
  },
  {
   "cell_type": "code",
   "execution_count": 47,
   "id": "d0b231ac",
   "metadata": {},
   "outputs": [
    {
     "data": {
      "text/plain": [
       "[('Orissa', 100.0, 0),\n",
       " ('Odissa', 83.33333333333334, 1),\n",
       " ('Bangalore', 22.5, 3),\n",
       " ('Bengaluru', 22.5, 4),\n",
       " ('Mumbai', 16.666666666666664, 2)]"
      ]
     },
     "execution_count": 47,
     "metadata": {},
     "output_type": "execute_result"
    }
   ],
   "source": [
    "extract('Orissa',df.Place)"
   ]
  },
  {
   "cell_type": "markdown",
   "id": "115d22cd",
   "metadata": {},
   "source": [
    "#### Gives one value that matches the most with the input"
   ]
  },
  {
   "cell_type": "code",
   "execution_count": 48,
   "id": "714dceea",
   "metadata": {},
   "outputs": [
    {
     "data": {
      "text/plain": [
       "('Orissa', 92.3076923076923, 0)"
      ]
     },
     "execution_count": 48,
     "metadata": {},
     "output_type": "execute_result"
    }
   ],
   "source": [
    "extractOne('Odrissa',df.Place)"
   ]
  },
  {
   "cell_type": "markdown",
   "id": "7ea43df9",
   "metadata": {},
   "source": [
    "#### lets you iterate the comparison and give output if the distance/score is above a certain threshold"
   ]
  },
  {
   "cell_type": "code",
   "execution_count": 49,
   "id": "f733eece",
   "metadata": {},
   "outputs": [
    {
     "name": "stdout",
     "output_type": "stream",
     "text": [
      "('Bangalore', 100.0, 3)\n",
      "('Bengaluru', 66.66666666666667, 4)\n"
     ]
    }
   ],
   "source": [
    "for x in extract_iter('Bangalore',df.Place,score_cutoff=50):\n",
    "    print(x)"
   ]
  },
  {
   "cell_type": "code",
   "execution_count": null,
   "id": "7d98c12b",
   "metadata": {},
   "outputs": [],
   "source": []
  }
 ],
 "metadata": {
  "kernelspec": {
   "display_name": "Python 3 (ipykernel)",
   "language": "python",
   "name": "python3"
  },
  "language_info": {
   "codemirror_mode": {
    "name": "ipython",
    "version": 3
   },
   "file_extension": ".py",
   "mimetype": "text/x-python",
   "name": "python",
   "nbconvert_exporter": "python",
   "pygments_lexer": "ipython3",
   "version": "3.11.5"
  }
 },
 "nbformat": 4,
 "nbformat_minor": 5
}
