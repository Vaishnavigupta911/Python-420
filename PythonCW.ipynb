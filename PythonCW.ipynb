{
 "cells": [
  {
   "cell_type": "markdown",
   "id": "73ad7ad7",
   "metadata": {},
   "source": [
    "# CW 8.2.24 \n",
    "## Vaishnavi Gupta \n",
    "## 232PGF029"
   ]
  },
  {
   "attachments": {
    "Batman-Logo.png": {
     "image/png": "[encoded data removed]"
    }
   },
   "cell_type": "markdown",
   "id": "3a46280d",
   "metadata": {},
   "source": [
    "![Batman-Logo.png](attachment:Batman-Logo.png)"
   ]
  },
  {
   "cell_type": "code",
   "execution_count": null,
   "id": "918be8d0",
   "metadata": {},
   "outputs": [],
   "source": [
    "a= int(input(\"enter a number\"))  #accept 2 nos from user and perform addition"
   ]
  },
  {
   "cell_type": "code",
   "execution_count": null,
   "id": "794a4eb7",
   "metadata": {},
   "outputs": [],
   "source": [
    "b= int(input(\"enter variable\"))"
   ]
  },
  {
   "cell_type": "code",
   "execution_count": null,
   "id": "9d4f261c",
   "metadata": {},
   "outputs": [],
   "source": [
    "c=a+b\n",
    "c"
   ]
  },
  {
   "cell_type": "code",
   "execution_count": null,
   "id": "28a1a867",
   "metadata": {},
   "outputs": [],
   "source": [
    "print(\"addition of {0}+{1}={2}\".format(a,b,c))"
   ]
  },
  {
   "cell_type": "code",
   "execution_count": null,
   "id": "12a9972f",
   "metadata": {},
   "outputs": [],
   "source": [
    "print(\"addition of \",a,\"+\",b,\"=\",c)"
   ]
  },
  {
   "cell_type": "code",
   "execution_count": null,
   "id": "a2779ef0",
   "metadata": {
    "scrolled": false
   },
   "outputs": [],
   "source": [
    "import this #guidelines of python"
   ]
  },
  {
   "cell_type": "markdown",
   "id": "efafd0e6",
   "metadata": {},
   "source": [
    "CW 14/02/24"
   ]
  },
  {
   "cell_type": "code",
   "execution_count": null,
   "id": "ee751f21",
   "metadata": {},
   "outputs": [],
   "source": [
    "a=10\n",
    "b=100\n",
    "a+b"
   ]
  },
  {
   "cell_type": "markdown",
   "id": "b348b738",
   "metadata": {},
   "source": [
    "% is the magic operator "
   ]
  },
  {
   "cell_type": "code",
   "execution_count": null,
   "id": "7466ecad",
   "metadata": {},
   "outputs": [],
   "source": [
    "%quickref  #to get info regarding different errors"
   ]
  },
  {
   "cell_type": "markdown",
   "id": "efe8d7d5",
   "metadata": {},
   "source": [
    "# language syntax"
   ]
  },
  {
   "cell_type": "code",
   "execution_count": null,
   "id": "8290fc9a",
   "metadata": {},
   "outputs": [],
   "source": [
    "print(7*8)"
   ]
  },
  {
   "cell_type": "code",
   "execution_count": null,
   "id": "24241070",
   "metadata": {},
   "outputs": [],
   "source": [
    "c=(1,\n",
    "   11)   #no error even if range of the variable is written with indentation\n",
    "c"
   ]
  },
  {
   "cell_type": "code",
   "execution_count": null,
   "id": "a4c8e066",
   "metadata": {},
   "outputs": [],
   "source": [
    "a=7*3+\\  #line broken by a backslash\n",
    "5/2\n",
    "a"
   ]
  },
  {
   "cell_type": "code",
   "execution_count": null,
   "id": "0a50bbb4",
   "metadata": {},
   "outputs": [],
   "source": [
    "b=['a','b','c',\n",
    "  'd','e']  # a list\n",
    "b\n",
    "s=[54,54,5,668,89]\n",
    "s"
   ]
  },
  {
   "cell_type": "code",
   "execution_count": null,
   "id": "3d0498d0",
   "metadata": {},
   "outputs": [],
   "source": [
    "n=int(input(\"enter n\"))\n",
    "for i in range(n):\n",
    "    if(i%2==0):             #modulus operator find remainder of the division\n",
    "        print(i,\"even number\")\n",
    "    else:\n",
    "            print(i,\"odd number\")"
   ]
  },
  {
   "cell_type": "markdown",
   "id": "843db18f",
   "metadata": {},
   "source": [
    "Q1) Accept salary from user to display , give a hike of 25% and deductions of 5% to get the net salary"
   ]
  },
  {
   "cell_type": "code",
   "execution_count": null,
   "id": "6e1f968a",
   "metadata": {},
   "outputs": [],
   "source": [
    "salary=int(input(\"enter salary\"))"
   ]
  },
  {
   "cell_type": "code",
   "execution_count": null,
   "id": "2fdc28b7",
   "metadata": {},
   "outputs": [],
   "source": [
    "hike=salary+(salary*0.25)\n",
    "hike"
   ]
  },
  {
   "cell_type": "code",
   "execution_count": null,
   "id": "6ab046ac",
   "metadata": {},
   "outputs": [],
   "source": [
    "deduction= salary*0.05\n",
    "deduction"
   ]
  },
  {
   "cell_type": "code",
   "execution_count": null,
   "id": "73d5808f",
   "metadata": {},
   "outputs": [],
   "source": [
    "Netsalary=hike-deduction\n",
    "Netsalary"
   ]
  },
  {
   "cell_type": "markdown",
   "id": "efc3f6cb",
   "metadata": {},
   "source": [
    "Q2)find the perimeter of a square of some length a cm"
   ]
  },
  {
   "cell_type": "code",
   "execution_count": null,
   "id": "64b75a84",
   "metadata": {},
   "outputs": [],
   "source": [
    "a=int(input(\"enter side length\"))"
   ]
  },
  {
   "cell_type": "code",
   "execution_count": null,
   "id": "981e151b",
   "metadata": {},
   "outputs": [],
   "source": [
    "perimeter=4*a\n",
    "print(\"perimeter is\",perimeter,\"cm\")"
   ]
  },
  {
   "cell_type": "markdown",
   "id": "eb8ab7b8",
   "metadata": {},
   "source": [
    "Q3)find the perimeter of a rectangle of some l and b "
   ]
  },
  {
   "cell_type": "code",
   "execution_count": null,
   "id": "aaabbac5",
   "metadata": {},
   "outputs": [],
   "source": [
    "l=int(input(\"enter length of rectangle\"))\n",
    "b=int(input(\"enter breadth of rectangle\"))"
   ]
  },
  {
   "cell_type": "code",
   "execution_count": null,
   "id": "2a4b1c7b",
   "metadata": {},
   "outputs": [],
   "source": [
    "perimeter=2*(l+b)\n",
    "perimeter"
   ]
  },
  {
   "cell_type": "code",
   "execution_count": null,
   "id": "f0e0d802",
   "metadata": {},
   "outputs": [],
   "source": [
    "print(\"perimeter of rectangle is\",perimeter,\"cm\")"
   ]
  },
  {
   "cell_type": "markdown",
   "id": "8fbc868c",
   "metadata": {},
   "source": [
    "Q4) Find the area of an icecream cone of length l and radius r"
   ]
  },
  {
   "cell_type": "code",
   "execution_count": null,
   "id": "a596aa7c",
   "metadata": {},
   "outputs": [],
   "source": [
    "l=int(input(\"enter slanted height\" ))\n",
    "r=int(input(\"enter radius\"))\n"
   ]
  },
  {
   "cell_type": "code",
   "execution_count": null,
   "id": "abdc8e0d",
   "metadata": {},
   "outputs": [],
   "source": [
    "csa=(3.14*l*r)\n",
    "print(\"curved surface area of cone is\",csa,\"cm^2\")"
   ]
  },
  {
   "cell_type": "markdown",
   "id": "f3dde8c9",
   "metadata": {},
   "source": [
    "CONVERSIONS\n",
    "\n",
    "1 F00t= 12 inches"
   ]
  },
  {
   "cell_type": "code",
   "execution_count": null,
   "id": "9d34f553",
   "metadata": {},
   "outputs": [],
   "source": [
    "f=int(input(\"enter foots\"))\n",
    "inch=f*12\n",
    "print(\"foots:\",f,\"--------\",\"inches\",inch)\n"
   ]
  },
  {
   "cell_type": "code",
   "execution_count": null,
   "id": "62283544",
   "metadata": {},
   "outputs": [],
   "source": [
    "inch=int(input(\"enter inches\"))\n",
    "f=inch/12                          #1 inch =foot/12\n",
    "print(\"inches\",inch,\"----\",\"foots:\",f)"
   ]
  },
  {
   "cell_type": "markdown",
   "id": "db9da393",
   "metadata": {},
   "source": [
    "1 YARD= 3 FEET"
   ]
  },
  {
   "cell_type": "code",
   "execution_count": null,
   "id": "8db68f28",
   "metadata": {},
   "outputs": [],
   "source": [
    "y=int(input(\"enter yards\"))\n",
    "f=y*3\n",
    "print(\"yards\",y,\"-----\",\"feet\",f)"
   ]
  },
  {
   "cell_type": "code",
   "execution_count": null,
   "id": "a49d53f7",
   "metadata": {},
   "outputs": [],
   "source": [
    "f=int(input(\"enter feet\"))\n",
    "y=f/3\n",
    "print(\"feet\",f,\"-----\",\"yards\",y)"
   ]
  },
  {
   "cell_type": "markdown",
   "id": "683c84b4",
   "metadata": {},
   "source": [
    "1 ACRE = 43560 sq.feet"
   ]
  },
  {
   "cell_type": "code",
   "execution_count": null,
   "id": "f2fb7b93",
   "metadata": {},
   "outputs": [],
   "source": [
    "a=int(input(\"enter acres\"))\n",
    "sf=(a*43560)\n",
    "print(\"acres\",a,\"------\",\"sq.feet\",f)"
   ]
  },
  {
   "cell_type": "code",
   "execution_count": null,
   "id": "86aa6a05",
   "metadata": {},
   "outputs": [],
   "source": [
    "sf=int(input(\"enter square feets\"))\n",
    "a=sf/43560\n",
    "print(\"sq.feet\",sf,\"-----\",\"acres\",a)"
   ]
  },
  {
   "cell_type": "markdown",
   "id": "2074b12d",
   "metadata": {},
   "source": [
    "# DATA TYPES"
   ]
  },
  {
   "cell_type": "code",
   "execution_count": null,
   "id": "08b781e2",
   "metadata": {},
   "outputs": [],
   "source": [
    "b=3+56\n",
    "b        "
   ]
  },
  {
   "cell_type": "code",
   "execution_count": null,
   "id": "36ea85b2",
   "metadata": {},
   "outputs": [],
   "source": [
    "#complex number\n",
    "c=3+4j\n",
    "print(\"c=\",c)\n",
    "print(\"real part:\",c.real) #.real to put the real part\n",
    "print(\"imaginery part:\",c.imag)\n",
    "print(\"conjugate=\",c.conjugate())"
   ]
  },
  {
   "cell_type": "code",
   "execution_count": null,
   "id": "d05ac05f",
   "metadata": {},
   "outputs": [],
   "source": [
    "#converting real to integer\n",
    "print(\"int(3.14)=\",int(3.14))\n",
    "\n",
    "#converting integer to real\n",
    "print(\"float(3)=\",float(3))"
   ]
  },
  {
   "cell_type": "code",
   "execution_count": null,
   "id": "5e3b054b",
   "metadata": {},
   "outputs": [],
   "source": [
    "print(\"5.0/2+3=\",5.0/2+3)"
   ]
  },
  {
   "cell_type": "code",
   "execution_count": null,
   "id": "c3e4d421",
   "metadata": {},
   "outputs": [],
   "source": [
    "#integers in other base (base 8 instead of 10)\n",
    "print(\"int(20,8)=\",int(\"20\",8))  #base 8\n",
    "#20 is the decimal system value and we are checking its value in the octal(8) system"
   ]
  },
  {
   "cell_type": "code",
   "execution_count": null,
   "id": "1f082188",
   "metadata": {},
   "outputs": [],
   "source": [
    "print(\"int(20,16)=\",int(\"20\",16))  #base 16\n",
    "#20 is the decimal system value and we are checking its value in the (8) hexadecimal system"
   ]
  },
  {
   "cell_type": "markdown",
   "id": "10397d64",
   "metadata": {},
   "source": [
    "bitwise operations"
   ]
  },
  {
   "cell_type": "markdown",
   "id": "76e1d4a0",
   "metadata": {},
   "source": [
    " The integers are first converted into binary and then operations are performed on each bit or corresponding pair of bits, hence the name bitwise operators. The result is then returned in decimal format.\n",
    " \n",
    " \n",
    "left shift(<<)\n",
    "right shift(>>)\n",
    "and (&)\n",
    "or(|)\n",
    "exclusive or (^)\n",
    "inversion(~)\n",
    "\n",
    "example\n",
    "a = 10 = 1010 (Binary)\n",
    "b = 4 =  0100 (Binary)\n",
    "\n",
    "a & b = 1010 (multiplication)\n",
    "         &\n",
    "        0100\n",
    "      = 0000\n",
    "      = 0 (Decimal)"
   ]
  },
  {
   "cell_type": "code",
   "execution_count": null,
   "id": "316dd6e7",
   "metadata": {},
   "outputs": [],
   "source": [
    "a=7  #01111\n",
    "b=9  #1001"
   ]
  },
  {
   "cell_type": "code",
   "execution_count": null,
   "id": "59a05529",
   "metadata": {},
   "outputs": [],
   "source": [
    "a>>1 #shift by 1 bit"
   ]
  },
  {
   "cell_type": "code",
   "execution_count": null,
   "id": "4d3bad9a",
   "metadata": {},
   "outputs": [],
   "source": [
    "a<<2 #shift by 2 bit to the left"
   ]
  },
  {
   "cell_type": "code",
   "execution_count": null,
   "id": "36b7dfe8",
   "metadata": {},
   "outputs": [],
   "source": [
    "a>>2"
   ]
  },
  {
   "cell_type": "code",
   "execution_count": null,
   "id": "4b7b3711",
   "metadata": {},
   "outputs": [],
   "source": [
    "b>>1"
   ]
  },
  {
   "cell_type": "code",
   "execution_count": null,
   "id": "ba8b7a02",
   "metadata": {},
   "outputs": [],
   "source": [
    "b<<1"
   ]
  },
  {
   "cell_type": "code",
   "execution_count": null,
   "id": "74ae132a",
   "metadata": {},
   "outputs": [],
   "source": [
    "a & b # & operations on numbers are multiplication only"
   ]
  },
  {
   "cell_type": "code",
   "execution_count": null,
   "id": "76c3d56f",
   "metadata": {},
   "outputs": [],
   "source": [
    "a|b"
   ]
  },
  {
   "cell_type": "code",
   "execution_count": null,
   "id": "efa3ed77",
   "metadata": {},
   "outputs": [],
   "source": [
    "a^b #exon operator"
   ]
  },
  {
   "cell_type": "code",
   "execution_count": null,
   "id": "01b5e445",
   "metadata": {},
   "outputs": [],
   "source": [
    "~a #not operator \n",
    "#negation of a"
   ]
  },
  {
   "cell_type": "code",
   "execution_count": null,
   "id": "dc5ae3cd",
   "metadata": {},
   "outputs": [],
   "source": [
    "a=34.5656\n",
    "round(a)\n"
   ]
  },
  {
   "cell_type": "code",
   "execution_count": null,
   "id": "93a3aa88",
   "metadata": {},
   "outputs": [],
   "source": [
    "b=-9.34\n",
    "abs(b)"
   ]
  },
  {
   "cell_type": "code",
   "execution_count": null,
   "id": "e1747cd7",
   "metadata": {},
   "outputs": [],
   "source": [
    "c=3\n",
    "pow(c,3) #raise c to the power 3"
   ]
  },
  {
   "cell_type": "code",
   "execution_count": null,
   "id": "26e9f26a",
   "metadata": {},
   "outputs": [],
   "source": [
    "oct(24) #octal value of decimal no.24"
   ]
  },
  {
   "cell_type": "code",
   "execution_count": null,
   "id": "5a6682d7",
   "metadata": {},
   "outputs": [],
   "source": [
    "hex(24) #hexadecimal value of decimal of 24"
   ]
  },
  {
   "cell_type": "code",
   "execution_count": null,
   "id": "78c7ed0c",
   "metadata": {},
   "outputs": [],
   "source": [
    "c=2\n",
    "pow(c,100)"
   ]
  },
  {
   "cell_type": "code",
   "execution_count": null,
   "id": "2090a98e",
   "metadata": {},
   "outputs": [],
   "source": [
    "s=\"camel\"\n",
    "\n",
    "for ch in s:\n",
    "    print(ch)\n",
    "    "
   ]
  },
  {
   "cell_type": "code",
   "execution_count": null,
   "id": "f5f3e1ff",
   "metadata": {},
   "outputs": [],
   "source": [
    "for i in range(7):\n",
    "    print(i,end=\",\")"
   ]
  },
  {
   "cell_type": "markdown",
   "id": "99260706",
   "metadata": {},
   "source": [
    "%s: string format \n",
    "%d: \n",
    "%0"
   ]
  },
  {
   "cell_type": "code",
   "execution_count": null,
   "id": "cf23218a",
   "metadata": {},
   "outputs": [],
   "source": [
    "s=\"camel\"\n",
    "\n",
    "#concatenation\n",
    "print(\"the \"+ s +\" ran away!\") #you can augment various statements and variables"
   ]
  },
  {
   "cell_type": "code",
   "execution_count": null,
   "id": "970cc424",
   "metadata": {},
   "outputs": [],
   "source": []
  },
  {
   "cell_type": "code",
   "execution_count": null,
   "id": "0c8503b9",
   "metadata": {},
   "outputs": [],
   "source": [
    "l=[12,1,55,45,78,956] #list\n",
    "l[3] #in python, position starts from 0\n",
    "\n",
    "l[3:5] # range of data positions to extract from the list\n",
    "\n",
    "l[:3] #till position 3\n",
    "\n",
    "l[-4] #data is accessed from left and counting starts from -1 instead of 0\n"
   ]
  },
  {
   "cell_type": "code",
   "execution_count": null,
   "id": "5ee8fac7",
   "metadata": {},
   "outputs": [],
   "source": [
    "import string\n",
    "#the alphabets\n",
    "a= string.ascii_letters #fetch the english letters\n",
    "a"
   ]
  },
  {
   "cell_type": "code",
   "execution_count": null,
   "id": "e0745373",
   "metadata": {},
   "outputs": [],
   "source": [
    "dir(string)  #string related directories"
   ]
  },
  {
   "cell_type": "markdown",
   "id": "2b2eae66",
   "metadata": {},
   "source": [
    "CONDITIONAL STATEMENTS"
   ]
  },
  {
   "cell_type": "code",
   "execution_count": null,
   "id": "d345bb1e",
   "metadata": {},
   "outputs": [],
   "source": [
    "if(2>3):\n",
    "    print(\"good\")\n",
    "else:\n",
    "    print(\"bad\")"
   ]
  },
  {
   "cell_type": "code",
   "execution_count": null,
   "id": "f1c5bd9e",
   "metadata": {},
   "outputs": [],
   "source": [
    "#largest of 3 nos.\n",
    "a=2\n",
    "b=8\n",
    "c=1\n",
    "\n",
    "if(a>b) and (a>c):\n",
    "    print(\"a is the largest\",a)\n",
    "elif((b>a)and (b>c)):                 #elseif\n",
    "    print(\"b is the largest\",b)\n",
    "else:\n",
    "    print(\"c is the largest\",c)\n",
    "    "
   ]
  },
  {
   "cell_type": "code",
   "execution_count": null,
   "id": "0f5da248",
   "metadata": {},
   "outputs": [],
   "source": [
    "i=0  #while loop\n",
    "s=0   #always define i or other variables involved in the condition above the statement\n",
    "while(i<10):\n",
    "    print(i,end=\",\")\n",
    "    s=s+i\n",
    "    i=i+1 \n",
    "print(\"sum of sequence=\",s)\n"
   ]
  },
  {
   "cell_type": "code",
   "execution_count": null,
   "id": "9009aeff",
   "metadata": {},
   "outputs": [],
   "source": [
    "n=int(input(\"enter n\"))\n",
    "s=0\n",
    "for i in range(1,n):\n",
    "    print(i,end=\" \")\n",
    "    r=i+1\n",
    "    s=s+i\n",
    "    print(\"sum of sequence=\",s)"
   ]
  },
  {
   "cell_type": "code",
   "execution_count": null,
   "id": "3b96dd95",
   "metadata": {},
   "outputs": [],
   "source": [
    "#tn=a+(n-1)*d arithmatic progression\n",
    "\n",
    "n=int(input(\"enter n\"))\n",
    "a=int(input(\"enter a\"))\n",
    "d=int(input(\"enter d\"))\n",
    "\n",
    "s=0\n",
    "for i in range(1,n):\n",
    "    t=a+(i-1)*d\n",
    "    print(t,end=\",\")"
   ]
  },
  {
   "cell_type": "code",
   "execution_count": null,
   "id": "fb6c9cda",
   "metadata": {},
   "outputs": [],
   "source": [
    "n=int(input(\"enter n\"))\n",
    "s=0\n",
    "r=0\n",
    "for i in range(1,n):\n",
    "    r=1/i  #another variable or iterate is defined \n",
    "    s=s+r\n",
    "    print(r,end=\",\")\n",
    "print(\"Sum of sequence\",s)"
   ]
  },
  {
   "cell_type": "markdown",
   "id": "de850266",
   "metadata": {},
   "source": [
    "# User defined functions \n",
    "def  #elaborate the function\n",
    "call(function call)\n"
   ]
  },
  {
   "cell_type": "code",
   "execution_count": null,
   "id": "39025ed2",
   "metadata": {},
   "outputs": [],
   "source": [
    "def Add():    #Add() is the name of the function\n",
    "    a=2\n",
    "    b=4\n",
    "    c=a+b\n",
    "    print(\"addition of a + b is\",c) #you have to call the function, this is just definition and not the execution\n",
    "    \n",
    "Add()\n",
    "\n",
    "def Add(a,b):    #Add(a,b) is the name of the function with the variables\n",
    "    c=a+b\n",
    "    print(\"addition of a + b is\",c)\n",
    "\n",
    "a=int(input(\"enter a\"))  #write input lines separate from function definition\n",
    "b=int(input(\"enter b\"))\n",
    "\n",
    "R=Add(a,b)\n",
    "\n",
    "print(R)"
   ]
  },
  {
   "cell_type": "markdown",
   "id": "e8ac5eb3",
   "metadata": {},
   "source": [
    "Q1) Accept age and salary from then user and perform the following \n",
    "\n",
    "a) ReadData() to accept the inputs from user\n",
    "\n",
    "b) Calculate() hike of 25% for the existing salary\n",
    "\n",
    "c) Display() print the Calculated salary and age"
   ]
  },
  {
   "cell_type": "code",
   "execution_count": null,
   "id": "294c69af",
   "metadata": {},
   "outputs": [],
   "source": [
    "def ReadData():  # ReadData() is a new user defined function\n",
    "    age=int(input(\"enter age\"))\n",
    "    salary=int(input(\"enter salary\"))\n",
    "    return(age,salary)  #output is depicted in this way\n",
    "\n",
    "#ReadData() #call in the function"
   ]
  },
  {
   "cell_type": "code",
   "execution_count": null,
   "id": "6e0687d0",
   "metadata": {},
   "outputs": [],
   "source": [
    "def Calculate():\n",
    "    A,S= ReadData()   # ReadData() is embedded inside the next function\n",
    "    netsal=S+(S*0.25)\n",
    "    return(netsal)"
   ]
  },
  {
   "cell_type": "code",
   "execution_count": null,
   "id": "bf62bedf",
   "metadata": {},
   "outputs": [],
   "source": [
    "def Display():\n",
    "    r=Calculate()\n",
    "    print(r)\n"
   ]
  },
  {
   "cell_type": "code",
   "execution_count": null,
   "id": "13b972e4",
   "metadata": {},
   "outputs": [],
   "source": [
    "Display()"
   ]
  },
  {
   "cell_type": "markdown",
   "id": "60ced9cd",
   "metadata": {},
   "source": [
    "function to find factorial of a number"
   ]
  },
  {
   "cell_type": "code",
   "execution_count": null,
   "id": "78ea6c9e",
   "metadata": {},
   "outputs": [],
   "source": [
    "def readdata(): \n",
    "    n=int(input(\"enter a number\"))\n",
    "    return(n)"
   ]
  },
  {
   "cell_type": "code",
   "execution_count": null,
   "id": "b8095a06",
   "metadata": {},
   "outputs": [],
   "source": [
    "def calculate(n):\n",
    "    f=1                     #f is fixed\n",
    "    for i in range(1,n+1):  #as n starts from 0 we need to put n+1 to account for the last number as we have started from 1\n",
    "        f=f*i\n",
    "    return(f)\n"
   ]
  },
  {
   "cell_type": "code",
   "execution_count": null,
   "id": "ea93c294",
   "metadata": {},
   "outputs": [],
   "source": [
    "def display(n,f):\n",
    "    print(\"factorial of {0} is {1} \".format(n,f))\n",
    "    "
   ]
  },
  {
   "cell_type": "code",
   "execution_count": null,
   "id": "08eebb87",
   "metadata": {},
   "outputs": [],
   "source": [
    "#we can call all functions one by one\n",
    "num=readdata()\n",
    "fact=calculate(num) #embedding the previous function into the next\n",
    "display(num,fact)\n"
   ]
  },
  {
   "cell_type": "markdown",
   "id": "a7462096",
   "metadata": {},
   "source": [
    "WE SHOULD ALWAYS WRITE OUR CODES IN CHUNKS SO AS TO MAKE IT MORE READABLE AND CLEAR"
   ]
  },
  {
   "cell_type": "markdown",
   "id": "bfe36be5",
   "metadata": {},
   "source": [
    "# list"
   ]
  },
  {
   "cell_type": "code",
   "execution_count": null,
   "id": "d7b499b3",
   "metadata": {},
   "outputs": [],
   "source": [
    "l1=[]    #square  brackets are used\n",
    "type(l1)  #it is an empty list"
   ]
  },
  {
   "cell_type": "code",
   "execution_count": null,
   "id": "49f6eba6",
   "metadata": {},
   "outputs": [],
   "source": [
    "l2=list()  #empty list through list() function\n",
    "l2"
   ]
  },
  {
   "cell_type": "code",
   "execution_count": null,
   "id": "c50f0eb6",
   "metadata": {},
   "outputs": [],
   "source": [
    "l1=[1,5,8,6,7,9,2,78,2]  #indexing starts from 0 (from left) in python\n",
    "l1 \n",
    "l2=[7,8,9,7,6,9]\n",
    "\n",
    "l1+l2 "
   ]
  },
  {
   "cell_type": "code",
   "execution_count": null,
   "id": "128fb6f8",
   "metadata": {},
   "outputs": [],
   "source": [
    "l1.append(100)        #append allows us to insert an element only at the end of the list"
   ]
  },
  {
   "cell_type": "code",
   "execution_count": null,
   "id": "d9204013",
   "metadata": {},
   "outputs": [],
   "source": [
    "l1.insert(4,2000)  #insert allows to insert elemenst at any position\n",
    "                    #insert(index,element)"
   ]
  },
  {
   "cell_type": "code",
   "execution_count": null,
   "id": "67cea36d",
   "metadata": {},
   "outputs": [],
   "source": [
    "#to add data into list from inputs\n",
    "\n",
    "l2=[]\n",
    "n=int(input(\"enter how many elements you want?\"))\n",
    "for i in range(n):         #range from 0 to n\n",
    "    e=int(input(\"enter an element \"))\n",
    "    l2.append(e)\n",
    "l2   "
   ]
  },
  {
   "cell_type": "markdown",
   "id": "ee0adb51",
   "metadata": {},
   "source": [
    "ACCEPT A STUDENT'S SIX SUBJECT MARKS USING LIST\n"
   ]
  },
  {
   "cell_type": "code",
   "execution_count": null,
   "id": "4371006c",
   "metadata": {
    "scrolled": true
   },
   "outputs": [],
   "source": [
    "n=int(input(\"enter how many students? \"))\n",
    "marks=[]                   #empty list where marks input for each student will be included\n",
    "\n",
    "#for loop will be used to get n*6=6n inputs\n",
    "for i in range(n):\n",
    "    name=input(\"enter your name \") \n",
    "    m1=int(input(\"enter marks 1 \"))\n",
    "    marks.append(m1)                   #append the list marks each time with the input\n",
    "    m2=int(input(\"enter marks 2 \"))\n",
    "    marks.append(m2)     \n",
    "    m3=int(input(\"enter marks 3 \"))\n",
    "    marks.append(m3)            \n",
    "    m4=int(input(\"enter marks 4 \"))\n",
    "    marks.append(m4)  \n",
    "    m5=int(input(\"enter marks 5 \"))\n",
    "    marks.append(m5)\n",
    "    m6=int(input(\"enter marks 6 \"))\n",
    "    marks.append(m6)\n",
    "           \n",
    "    sum=m1+m2+m3+m4+m5+m6\n",
    "    avg=sum/6\n",
    "    \n",
    "    print(\"--------------\\n\")\n",
    "    print(name,\"marks\")\n",
    "    print(\"total=\",sum,\"avg=\",avg)\n",
    "    \n",
    "marks #call in the list"
   ]
  },
  {
   "cell_type": "code",
   "execution_count": null,
   "id": "8b662923",
   "metadata": {},
   "outputs": [],
   "source": [
    "n=int(input(\"how many elements\"))\n",
    "lika=list()\n",
    "for i in range(n):\n",
    "    e=int(input())\n",
    "    lika.append(e)\n",
    "lika\n",
    "\n",
    "#sorting the elemets of list\n",
    "lika.sort(reverse=False) #by default it is set to ascending\n",
    "lika"
   ]
  },
  {
   "cell_type": "markdown",
   "id": "6e584ba4",
   "metadata": {},
   "source": [
    "function with parameter and without return"
   ]
  },
  {
   "cell_type": "code",
   "execution_count": null,
   "id": "e29c3623",
   "metadata": {},
   "outputs": [],
   "source": [
    "def getpercentage(n,total,maximum):  #here the variables inside are called formal parameter which are used to define the function\n",
    "    avg=(total/maximum)*100\n",
    "    print(\"-----------------------\")\n",
    "    print(n,\"pcm percentage is \",round(avg,3)) #round off to 3 digits\n",
    "#this function will be used the in the next part "
   ]
  },
  {
   "cell_type": "code",
   "execution_count": null,
   "id": "d276e093",
   "metadata": {},
   "outputs": [],
   "source": [
    "def getdetails():\n",
    "    n=int(input(\"enter how many students? \"))\n",
    "    for i in range(n):\n",
    "        maxi=300\n",
    "        name=input(\"enter your name \")\n",
    "        m1=int(input(\"enter marks of maths \"))\n",
    "        m2=int(input(\"enter marks of physics \"))\n",
    "        m3=int(input(\"enter marks of chemistry \"))\n",
    "        all=m1+m2+m3\n",
    "        getpercentage(name,all,maxi)   #embedded with getpercentage() function. \n",
    "                                        #we have applied getpercentage on name,all,maxi called actual parameter\n",
    "        \n",
    "        print(\"---------------------\")\n",
    "        \n",
    "getdetails()"
   ]
  },
  {
   "cell_type": "markdown",
   "id": "2c98e5e2",
   "metadata": {},
   "source": [
    "# Ways to define a function\n",
    "\n",
    "## 1.Function with parameter and with return\n",
    "\n",
    "parameters----actual and formal \n",
    "\n",
    "formal parameters are like variables used to define the function\n",
    "\n",
    "actual parameters are the values we can put in place of those variables while working with the defined functions"
   ]
  },
  {
   "cell_type": "code",
   "execution_count": null,
   "id": "78f237f0",
   "metadata": {},
   "outputs": [],
   "source": [
    "a=int(input(\"enter a \"))\n",
    "b=int(input(\"enter b \"))"
   ]
  },
  {
   "cell_type": "code",
   "execution_count": null,
   "id": "05621516",
   "metadata": {},
   "outputs": [],
   "source": [
    "def add(x,y):  #x,y are formal parameters used in defining the function\n",
    "    z=x+y\n",
    "    return z"
   ]
  },
  {
   "cell_type": "code",
   "execution_count": null,
   "id": "d12543ba",
   "metadata": {},
   "outputs": [],
   "source": [
    "r=add(a,b)  #r is assigned the function with actual parameters being used as inputs in place of the formal ones\n",
    "print(\"sum of {0}+{1}={2}\".format(a,b,r))"
   ]
  },
  {
   "cell_type": "markdown",
   "id": "5594cfdb",
   "metadata": {},
   "source": [
    "## 2.Function with parameter and without return"
   ]
  },
  {
   "cell_type": "code",
   "execution_count": null,
   "id": "66b6028f",
   "metadata": {},
   "outputs": [],
   "source": [
    "a=int(input(\"enter a \"))\n",
    "b=int(input(\"enter b \"))\n",
    "\n",
    "def add(x,y):    \n",
    "    z=x+y\n",
    "    print(\"sum of {0}+{1} = {2}\".format(x,y,z))   #defined function includes printing of the ouput\n",
    "                                                #here position 0,1,2 inside the format is swapped with a,b,c\n",
    "add(a,b) #put the inputs/ actual parameters"
   ]
  },
  {
   "cell_type": "markdown",
   "id": "f3e15e07",
   "metadata": {},
   "source": [
    "## 3.function without parameters and with return"
   ]
  },
  {
   "cell_type": "code",
   "execution_count": null,
   "id": "b87240e3",
   "metadata": {},
   "outputs": [],
   "source": [
    "def substraction():          #parameters inside the function not used\n",
    "    a=int(input(\"enter a \"))\n",
    "    b=int(input(\"enter b \"))\n",
    "    c=a-b\n",
    "    return c         #as we are using return funtion to catch the output of the function \n",
    "                     #then we should not be using print function inside the definition\n",
    "\n",
    "result = substraction() #output of the function is caught in \"return\" so when we assign the function to some variable it will\n",
    "                        #automatically catch the output of the function only and not just execute the function\n",
    "    \n",
    "print(\"substraction = \",result)  #we didn't have to call in the function, we can print the output separately as the output \n",
    "                                #is stored through return function and we can assign it a name"
   ]
  },
  {
   "cell_type": "markdown",
   "id": "f7ef0f08",
   "metadata": {},
   "source": [
    "## 4.function without parameters and without return"
   ]
  },
  {
   "cell_type": "code",
   "execution_count": null,
   "id": "ad351647",
   "metadata": {},
   "outputs": [],
   "source": [
    "def addition():\n",
    "    a=int(input(\"eneter a \"))\n",
    "    b=int(input(\"enter b \"))\n",
    "    c=a+b\n",
    "    print(\"sum of {0}+{1}={2}\".format(a,b,c))\n",
    "addition()"
   ]
  },
  {
   "cell_type": "markdown",
   "id": "30e6cf31",
   "metadata": {},
   "source": [
    "Q2. WRITE A PROGRAM TO CREATE A multiplication TABLE"
   ]
  },
  {
   "cell_type": "code",
   "execution_count": null,
   "id": "e76412a6",
   "metadata": {},
   "outputs": [],
   "source": [
    "for i in range(1,11):        \n",
    "        j=16\n",
    "        i*j\n",
    "        print(j,\"X\",i,\"=\",i*j)\n",
    "        "
   ]
  },
  {
   "cell_type": "code",
   "execution_count": null,
   "id": "48ff4641",
   "metadata": {},
   "outputs": [],
   "source": [
    "for i in range(11,21):\n",
    "    i**2\n",
    "    print(\"square of \",i,\"=\",i**2)\n"
   ]
  },
  {
   "cell_type": "markdown",
   "id": "6f0371cd",
   "metadata": {},
   "source": [
    "A question's working"
   ]
  },
  {
   "cell_type": "code",
   "execution_count": null,
   "id": "62b83e5d",
   "metadata": {},
   "outputs": [],
   "source": [
    "cat= input(\"enter[c/i/d]\") #category can be commercial domestic and international\n",
    "u=int(input(\"how many units consumed? \"))"
   ]
  },
  {
   "cell_type": "code",
   "execution_count": null,
   "id": "60a94125",
   "metadata": {},
   "outputs": [],
   "source": [
    "min=1500 \n",
    "if((cat==\"c\") or (cat==\"C\")):  #USER CAN INPUT SMALL c or C\n",
    "    if(u<=5000):\n",
    "        BA=min\n",
    "        print(\"bill amount= \",BA)\n",
    "    elif(u>=5001 and u<10000):\n",
    "        BA=min+(u-5000)*0.25\n",
    "        print(\"bill amount= \",BA)\n",
    "    elif(u>=10001 and u<=20000):\n",
    "        BA=min+((u-5000)*0.25)+((U-10000)*0.23)\n",
    "        print(\"bill amount= \",BA)\n",
    "    elif(u>20000):\n",
    "        BA=min+((u-5000)*0.25)+((U-10000)*0.23)+((u-20000)*0.2)\n",
    "        print(\"bill amount= \",BA)"
   ]
  },
  {
   "cell_type": "markdown",
   "id": "1f3f2d35",
   "metadata": {},
   "source": [
    "# 06.03.2024"
   ]
  },
  {
   "cell_type": "code",
   "execution_count": null,
   "id": "03898dab",
   "metadata": {},
   "outputs": [],
   "source": [
    "cat= input(\"enter[c/i/d]\") #category can be commercial domestic and international\n",
    "u=int(input(\"how many units consumed? \"))"
   ]
  },
  {
   "cell_type": "code",
   "execution_count": null,
   "id": "4a61bfe9",
   "metadata": {},
   "outputs": [],
   "source": [
    "min=1800\n",
    "if((cat==\"i\")or(cat==\"I\")):\n",
    "    if(u<=5000):\n",
    "        BA=min\n",
    "        print(\"bill amount= \",BA)\n",
    "        elif((u>5000)and(u<=10000)):\n",
    "            BA=min+()\n",
    "        \n",
    "        #????? complete it"
   ]
  },
  {
   "cell_type": "code",
   "execution_count": null,
   "id": "d34f8eb6",
   "metadata": {},
   "outputs": [],
   "source": [
    "\n",
    "n=int(input(\"number of users \"))\n",
    "L=[]                                 #this list collects all the names and passwords\n",
    "                                     #You can use tuples,dictionary, etc to inlcude more data\n",
    "for i in range(n):              #I STARTS FROM 0 BY DEFAULT\n",
    "    uname=input(\"enter your username \")           #FOR EACH ENTRY THIS COMPLETE ITERATION IS DONE AND IS INCLUEDED IN THE LIST\n",
    "    pw=input(\"enter your password \")\n",
    "    L.append(uname)\n",
    "    L.append(pw)\n",
    "    print(\"user name is \",uname,\"and password is \",pw)\n",
    "\n",
    "L   #call in the list\n"
   ]
  },
  {
   "cell_type": "code",
   "execution_count": null,
   "id": "4801d2c5",
   "metadata": {},
   "outputs": [],
   "source": [
    "#transfer the information of inputs collected into a file\n",
    "\n",
    "with open(\"logindata.txt\",\"w\") as f:   #a txt file with the name logindata is created\n",
    "    f.write(str(L))                      #COLLECT DATA OF LIST L as string\n",
    "    \n",
    "    #this txt file is in python dir, go check it"
   ]
  },
  {
   "cell_type": "markdown",
   "id": "cf27b451",
   "metadata": {},
   "source": [
    "# Creating GUI or graphical user interface"
   ]
  },
  {
   "cell_type": "markdown",
   "id": "cc52c0ab",
   "metadata": {},
   "source": [
    "## visit https://visualtk.com/ and create a GUI using labels,entry, button and the corresponding code for it you paste here to get the same GUI"
   ]
  },
  {
   "cell_type": "code",
   "execution_count": null,
   "id": "b741b8da",
   "metadata": {},
   "outputs": [],
   "source": [
    "import tkinter as tk\n",
    "\n",
    "def submit():\n",
    "    username = entry_username.get()\n",
    "    password = entry_password.get()\n",
    "    with open(\"user_data.txt\", \"w\") as file:\n",
    "        file.write(f\"Username: {username}\\nPassword: {password}\")\n",
    "    clear_entries()\n",
    "\n",
    "def clear_entries():\n",
    "    entry_username.delete(0, tk.END)\n",
    "    entry_password.delete(0, tk.END)\n",
    "\n",
    "def cancel():\n",
    "    clear_entries()\n",
    "\n",
    "# Create the main window\n",
    "root = tk.Tk()\n",
    "root.title(\"User Login\")\n",
    "\n",
    "# Create labels, entries, and buttons\n",
    "label_username = tk.Label(root, text=\"Username:\")\n",
    "label_username.pack()\n",
    "entry_username = tk.Entry(root)\n",
    "entry_username.pack()\n",
    "\n",
    "label_password = tk.Label(root, text=\"Password:\")\n",
    "label_password.pack()\n",
    "entry_password = tk.Entry(root, show=\"*\")\n",
    "entry_password.pack()\n",
    "\n",
    "btn_submit = tk.Button(root, text=\"Submit\", command=submit)\n",
    "btn_submit.pack()\n",
    "\n",
    "btn_cancel = tk.Button(root, text=\"Cancel\", command=cancel)\n",
    "btn_cancel.pack()\n",
    "\n",
    "# Start the GUI event loop\n",
    "root.mainloop()"
   ]
  },
  {
   "cell_type": "markdown",
   "id": "0ed9b260",
   "metadata": {},
   "source": [
    "# Working with SQL"
   ]
  },
  {
   "cell_type": "code",
   "execution_count": null,
   "id": "ec5f1aef",
   "metadata": {},
   "outputs": [],
   "source": [
    "import sqlite3\n",
    "conn=sqlite3.connect(\"my.db\") #conn is user defined name for the connection\n",
    "cursor=conn.cursor() #built in function to connect with sql library"
   ]
  },
  {
   "cell_type": "code",
   "execution_count": null,
   "id": "96134672",
   "metadata": {},
   "outputs": [],
   "source": [
    "#SQL QUERY CODES ARE WRITTEN INSIDE TRIPLE QUOTATIONS\n",
    "conn.execute(\"\"\"                                       \n",
    "create table student1(\n",
    "sid integer primary key autoincrement not null,\n",
    "sname text  not null)\"\"\")\n",
    "print(\"table student1 created successfully\")\n"
   ]
  },
  {
   "cell_type": "code",
   "execution_count": null,
   "id": "e2805e61",
   "metadata": {},
   "outputs": [],
   "source": [
    "conn.execute(\"\"\"\n",
    "CREATE TABLE Course(\n",
    "CID INTEGER PRIMARY KEY AUTOINCREMENT NOT NULL,\n",
    "CNAME TEXT NOT NULL, si INTERGER,FOREIGN KEY(\"si\") REFERENCES Student(SID))\n",
    "\"\"\")\n",
    "\n",
    "print(\"table course created successfully\")"
   ]
  },
  {
   "cell_type": "code",
   "execution_count": null,
   "id": "a35bc734",
   "metadata": {},
   "outputs": [],
   "source": [
    "conn.execute(\"INSERT INTO Student1(SID,Sname) VALUES (1111,'Mona')\");\n",
    "conn.execute(\"INSERT INTO Student1(SID,Sname) VALUES (1112,'Mohsin')\");\n",
    "conn.execute(\"INSERT INTO Student1(SID,Sname) VALUES (1113,'Ali')\");\n",
    "conn.execute(\"INSERT INTO Student1(SID,Sname) VALUES (1114,'Priya')\");\n",
    "conn.commit()\n",
    "print(\"records inserted successfully\")"
   ]
  },
  {
   "cell_type": "code",
   "execution_count": null,
   "id": "85e74739",
   "metadata": {},
   "outputs": [],
   "source": [
    "#display record\n",
    "cursor=conn.execute(\"SELECT * from Student1\")\n",
    "print(\"SID\\tSNAME \\n---------------\")\n",
    "for row in cursor:\n",
    "    print(\"{}\\t{}\".format(row[0],row[1]))"
   ]
  },
  {
   "cell_type": "markdown",
   "id": "6383b76f",
   "metadata": {},
   "source": [
    "H.W-------Create a GUI, to get input and convert into distance/volume etc.\n",
    "\n",
    "also create a new database in SQL "
   ]
  },
  {
   "cell_type": "markdown",
   "id": "a5abec86",
   "metadata": {},
   "source": [
    "# 20.3.24, data structures (syntax meaning in notes)"
   ]
  },
  {
   "cell_type": "code",
   "execution_count": null,
   "id": "e00132d4",
   "metadata": {},
   "outputs": [],
   "source": [
    "#creating lists with different ways\n",
    "#you have noted it down in the copy!!\n",
    "\n",
    "numbers=[]\n",
    "print(numbers)"
   ]
  },
  {
   "cell_type": "code",
   "execution_count": null,
   "id": "6ef9c8c9",
   "metadata": {},
   "outputs": [],
   "source": [
    "numbers=[1,2,3,5,4] #list\n",
    "print(numbers)"
   ]
  },
  {
   "cell_type": "code",
   "execution_count": null,
   "id": "58baf9ff",
   "metadata": {},
   "outputs": [],
   "source": [
    "numbers=list(range(1,5))\n",
    "print(numbers)"
   ]
  },
  {
   "cell_type": "code",
   "execution_count": null,
   "id": "01aae334",
   "metadata": {},
   "outputs": [],
   "source": [
    "r=[1,\"hey\",[1,2],9.87,\"f\"]\n",
    "print(r)"
   ]
  },
  {
   "cell_type": "code",
   "execution_count": null,
   "id": "557f0140",
   "metadata": {},
   "outputs": [],
   "source": [
    "print(len(r))"
   ]
  },
  {
   "cell_type": "code",
   "execution_count": null,
   "id": "69d3b15c",
   "metadata": {},
   "outputs": [],
   "source": [
    "print(r[0])\n",
    "print(r[-1])"
   ]
  },
  {
   "cell_type": "code",
   "execution_count": null,
   "id": "3acee2b7",
   "metadata": {},
   "outputs": [],
   "source": [
    "r.append(3)\n",
    "print(r)"
   ]
  },
  {
   "cell_type": "code",
   "execution_count": null,
   "id": "95570cfd",
   "metadata": {},
   "outputs": [],
   "source": [
    "b=[1,5,2]\n",
    "print(r+b)"
   ]
  },
  {
   "cell_type": "code",
   "execution_count": null,
   "id": "70de9245",
   "metadata": {},
   "outputs": [],
   "source": [
    "r[0]=\"hey_there\"\n",
    "print(r)"
   ]
  },
  {
   "cell_type": "code",
   "execution_count": null,
   "id": "406bdf2c",
   "metadata": {},
   "outputs": [],
   "source": [
    "r[0:2]=[300,400]\n",
    "print(r)"
   ]
  },
  {
   "cell_type": "code",
   "execution_count": null,
   "id": "ea645148",
   "metadata": {},
   "outputs": [],
   "source": [
    "b[:]=[]\n",
    "print(b)"
   ]
  },
  {
   "cell_type": "code",
   "execution_count": null,
   "id": "1ec2e25c",
   "metadata": {},
   "outputs": [],
   "source": [
    "r.insert(1,\"are\")\n",
    "print(r)"
   ]
  },
  {
   "cell_type": "code",
   "execution_count": null,
   "id": "186bc54c",
   "metadata": {},
   "outputs": [],
   "source": [
    "str_list=[\"hey\",\"there\",\"how\",\"are\",\"you\"]\n",
    "print(str_list[2:])\n",
    "print(str_list[:2])\n",
    "print(str_list[-3:])\n",
    "print(str_list[:-3])\n",
    "print(str_list[1:4])"
   ]
  },
  {
   "cell_type": "code",
   "execution_count": null,
   "id": "264b3936",
   "metadata": {},
   "outputs": [],
   "source": [
    "r.extend([1,5,6])\n",
    "print(r)"
   ]
  },
  {
   "cell_type": "code",
   "execution_count": null,
   "id": "7c9a62e0",
   "metadata": {},
   "outputs": [],
   "source": [
    "r.remove(300)\n",
    "print(r)\n"
   ]
  },
  {
   "cell_type": "code",
   "execution_count": null,
   "id": "79952fe9",
   "metadata": {},
   "outputs": [],
   "source": [
    "r.reverse()\n",
    "print(r)"
   ]
  },
  {
   "cell_type": "code",
   "execution_count": null,
   "id": "2a186443",
   "metadata": {},
   "outputs": [],
   "source": [
    "a=[1,4,5,3,87,4]\n",
    "a.sort()\n",
    "print(sorted(a))"
   ]
  },
  {
   "cell_type": "code",
   "execution_count": 2,
   "id": "f115589f",
   "metadata": {},
   "outputs": [
    {
     "ename": "NameError",
     "evalue": "name 'a' is not defined",
     "output_type": "error",
     "traceback": [
      "\u001b[1;31m---------------------------------------------------------------------------\u001b[0m",
      "\u001b[1;31mNameError\u001b[0m                                 Traceback (most recent call last)",
      "Cell \u001b[1;32mIn[2], line 1\u001b[0m\n\u001b[1;32m----> 1\u001b[0m \u001b[38;5;28mprint\u001b[39m(\u001b[38;5;28mlen\u001b[39m(a))\n\u001b[0;32m      2\u001b[0m \u001b[38;5;28mprint\u001b[39m(\u001b[38;5;28mmax\u001b[39m(a))\n\u001b[0;32m      3\u001b[0m \u001b[38;5;28mprint\u001b[39m(\u001b[38;5;28mmin\u001b[39m(a))\n",
      "\u001b[1;31mNameError\u001b[0m: name 'a' is not defined"
     ]
    }
   ],
   "source": [
    "print(len(a))\n",
    "print(max(a))\n",
    "print(min(a))\n",
    "print(sum(a))"
   ]
  },
  {
   "cell_type": "markdown",
   "id": "c38483f6",
   "metadata": {},
   "source": [
    "# List comprehension \n",
    "extracting elements from a list to another"
   ]
  },
  {
   "cell_type": "code",
   "execution_count": 4,
   "id": "ba637cbc",
   "metadata": {},
   "outputs": [
    {
     "data": {
      "text/plain": [
       "[6, 7, 32]"
      ]
     },
     "execution_count": 4,
     "metadata": {},
     "output_type": "execute_result"
    }
   ],
   "source": [
    "a=[4,6,7,32]\n",
    "b=[x for x in a if x>5] #looping is done without the loop syntax\n",
    "b\n",
    "#alternatively\n",
    "b=[]\n",
    "a=[4,6,7,32]\n",
    "for x in a:\n",
    "    if x>5:\n",
    "        b.append(x)\n",
    "b"
   ]
  },
  {
   "cell_type": "code",
   "execution_count": 5,
   "id": "19b3eb0f",
   "metadata": {},
   "outputs": [
    {
     "data": {
      "text/plain": [
       "[6, 7, 32]"
      ]
     },
     "execution_count": 5,
     "metadata": {},
     "output_type": "execute_result"
    }
   ],
   "source": [
    "b=[]\n",
    "a=[4,6,7,32]\n",
    "for x in a:\n",
    "    if x>5:\n",
    "        b.append(x)\n",
    "b"
   ]
  },
  {
   "cell_type": "code",
   "execution_count": 6,
   "id": "cf7be00b",
   "metadata": {},
   "outputs": [
    {
     "data": {
      "text/plain": [
       "[12, 14, 64]"
      ]
     },
     "execution_count": 6,
     "metadata": {},
     "output_type": "execute_result"
    }
   ],
   "source": [
    "a=[4,6,7,32]\n",
    "b=[x*2 for x in a if x>5]  #multiply each x>5 with 2 and include in b\n",
    "b"
   ]
  },
  {
   "cell_type": "code",
   "execution_count": 7,
   "id": "33837f6e",
   "metadata": {},
   "outputs": [
    {
     "data": {
      "text/plain": [
       "['ch', 'cb']"
      ]
     },
     "execution_count": 7,
     "metadata": {},
     "output_type": "execute_result"
    }
   ],
   "source": [
    "names=[\"ch\",\"dh\",\"eh\",\"cb\",\"tb\",\"td\"]\n",
    "new_names=[name for name in names if name.lower().startswith(\"c\")] #extract elements that start with c in lowercase\n",
    "new_names"
   ]
  },
  {
   "cell_type": "code",
   "execution_count": 10,
   "id": "e33c13e9",
   "metadata": {},
   "outputs": [
    {
     "ename": "NameError",
     "evalue": "name 'size' is not defined",
     "output_type": "error",
     "traceback": [
      "\u001b[1;31m---------------------------------------------------------------------------\u001b[0m",
      "\u001b[1;31mNameError\u001b[0m                                 Traceback (most recent call last)",
      "Cell \u001b[1;32mIn[10], line 2\u001b[0m\n\u001b[0;32m      1\u001b[0m \u001b[38;5;28;01mimport\u001b[39;00m \u001b[38;5;21;01mnumpy\u001b[39;00m \u001b[38;5;28;01mas\u001b[39;00m \u001b[38;5;21;01mnp\u001b[39;00m\n\u001b[1;32m----> 2\u001b[0m A\u001b[38;5;241m=\u001b[39mnp\u001b[38;5;241m.\u001b[39mrandom\u001b[38;5;241m.\u001b[39mrandint(\u001b[38;5;241m10\u001b[39m,size(\u001b[38;5;241m4\u001b[39m,\u001b[38;5;241m4\u001b[39m)) \u001b[38;5;66;03m#random elements=> random integers.=>upper limit of the value nos can take\u001b[39;00m\n\u001b[0;32m      3\u001b[0m                                                                     \u001b[38;5;66;03m#=>4 rows and 4 colomns\u001b[39;00m\n\u001b[0;32m      4\u001b[0m \u001b[38;5;28mprint\u001b[39m(A)\n",
      "\u001b[1;31mNameError\u001b[0m: name 'size' is not defined"
     ]
    }
   ],
   "source": [
    "import numpy as np\n",
    "A=np.random.randint(10,size(4,4)) #random elements=> random integers.=>upper limit of the value nos can take\n",
    "                                                                    #=>4 rows and 4 colomns\n",
    "print(A)"
   ]
  },
  {
   "cell_type": "code",
   "execution_count": null,
   "id": "0b631bc5",
   "metadata": {},
   "outputs": [],
   "source": []
  },
  {
   "cell_type": "code",
   "execution_count": null,
   "id": "981949f0",
   "metadata": {},
   "outputs": [],
   "source": []
  },
  {
   "cell_type": "code",
   "execution_count": null,
   "id": "e7512073",
   "metadata": {},
   "outputs": [],
   "source": []
  },
  {
   "cell_type": "code",
   "execution_count": null,
   "id": "5375a37d",
   "metadata": {},
   "outputs": [],
   "source": []
  },
  {
   "cell_type": "code",
   "execution_count": null,
   "id": "fd9f80a2",
   "metadata": {},
   "outputs": [],
   "source": []
  },
  {
   "cell_type": "code",
   "execution_count": null,
   "id": "ac4999eb",
   "metadata": {},
   "outputs": [],
   "source": []
  },
  {
   "cell_type": "markdown",
   "id": "2659a6fe",
   "metadata": {},
   "source": [
    " # DEMO IA QUESTION PRACTICE\n",
    " "
   ]
  },
  {
   "cell_type": "markdown",
   "id": "9fd12b0a",
   "metadata": {},
   "source": [
    "1.a) The volume of a sphere with radius r is 4/3 π r3. What is the volume of a sphere\n",
    "with radius 5? Hints: π is about 3.141592, and 392.6 is the wrong answer!"
   ]
  },
  {
   "cell_type": "code",
   "execution_count": null,
   "id": "a4eb6faa",
   "metadata": {},
   "outputs": [],
   "source": [
    "r = float(input(\"Enter radius: \"))\n",
    "vol = (4/3) * 3.141592 * (r**3)\n",
    "print(\"Volume of sphere is:\", vol)"
   ]
  },
  {
   "cell_type": "markdown",
   "id": "490c0d10",
   "metadata": {},
   "source": [
    "b) Suppose the cover price of a book is 249 Rs, but bookstores get a 40% discount. Shipping\n",
    "costs 30 Rs for the ﬁrst copy and 15 Rs for each additional copy. What is the total cost for\n",
    "60 copies? "
   ]
  },
  {
   "cell_type": "code",
   "execution_count": null,
   "id": "4290f241",
   "metadata": {},
   "outputs": [],
   "source": [
    "b=int(input(\"Enter book price \"))\n",
    "disc=(.40)*b\n",
    "c=int(input(\"enter shipping cost \"))\n",
    "d=int(input(\"enter per unit cost \"))\n",
    "n=int(input(\"enter no of copies \"))\n",
    "\n",
    "totalcost=n*(b-disc)-c-(n-1)*d\n",
    "print(\"total cost is \",totalcost)"
   ]
  },
  {
   "cell_type": "markdown",
   "id": "24a45975",
   "metadata": {},
   "source": [
    "2(a) Write a program that asks for the width and length (in meters) of a rectangular floor,\n",
    "and then calculates and displays the total amount of carpet needed to cover the floor. \n",
    "\n",
    "\n",
    "(b) Write a program that does the same as in question 2a, but also asks for the cost per\n",
    "square meter of carpet. Then have the program display three things:\n",
    "\n",
    "● The total amount of carpet, in square meters \n",
    "\n",
    "● The total amount of carpet, in square cms\n",
    "\n",
    "● The total cost of the carpet "
   ]
  },
  {
   "cell_type": "code",
   "execution_count": null,
   "id": "84e607c7",
   "metadata": {},
   "outputs": [],
   "source": [
    "l=int(input(\"enter length in metres \"))\n",
    "b=int(input(\"enter width in metres \"))\n",
    "area=l*b\n",
    "print(\"amount of carpet required is \", area,\"m^2\")"
   ]
  },
  {
   "cell_type": "code",
   "execution_count": null,
   "id": "292775af",
   "metadata": {},
   "outputs": [],
   "source": [
    "c=int(input(\"enter cost per square metre \"))\n",
    "\n",
    "cost=c*area\n",
    "print(\"The total cost of the carpet \",cost)\n",
    "print(\"amount of carpet required in cm^2 \",area*100, \"cm^2\")"
   ]
  },
  {
   "cell_type": "markdown",
   "id": "9b692227",
   "metadata": {},
   "source": [
    "3.Write a program that calculates the following values: \n",
    "\n",
    "a. Sum of the ﬁrst n numbers: 1 + 2 + 3 + … + n\n",
    "\n",
    "b. Sum of the ﬁrst n odd numbers: 1 + 3 + 5 + … + 2n-1\n",
    "\n",
    "c. Sum a series of numbers entered by the user until the value 999 is entered. Note: 999\n",
    "should not be part of the sum. "
   ]
  },
  {
   "cell_type": "code",
   "execution_count": null,
   "id": "c71a4622",
   "metadata": {},
   "outputs": [],
   "source": [
    "n=int(input(\"enter n\"))\n",
    "s=0\n",
    "for i in range(0,n):\n",
    "    r=i+1  #another variable or iterate is defined (this one is for iteration)\n",
    "    s=s+r       #this is one for summation\n",
    "    print(r,end=\",\")\n",
    "print(\"Sum of sequence\",s)\n",
    "\n",
    "#using functions\n",
    "\n",
    "n=int(input(\"enter n\"))\n",
    "def summ(n):\n",
    "    return n * (n + 1) / 2\n",
    "\n",
    "summ(n)"
   ]
  },
  {
   "cell_type": "code",
   "execution_count": null,
   "id": "692a397f",
   "metadata": {},
   "outputs": [],
   "source": [
    "# Sum of the first n odd numbers\n",
    "def sum_odd(n):\n",
    "    return n ** 2\n",
    "\n",
    "sum_odd(n)\n"
   ]
  },
  {
   "cell_type": "code",
   "execution_count": null,
   "id": "6988fe88",
   "metadata": {},
   "outputs": [],
   "source": [
    "# Sum of the first n numbers\n",
    "def sum_first_n(n):\n",
    "    return n * (n + 1) // 2\n",
    "\n",
    "# Sum of the first n odd numbers\n",
    "def sum_first_n_odd(n):\n",
    "    return n ** 2\n",
    "\n",
    "# Sum of a series of numbers entered by the user until 999 is entered\n",
    "def sum_until_999():\n",
    "    total = 0\n",
    "    while True:\n",
    "        num = int(input(\"Enter a number (999 to stop): \"))\n",
    "        if num == 999:\n",
    "            break\n",
    "        total += num\n",
    "    return total\n",
    "\n",
    "# Main program\n",
    "n = int(input(\"Enter a value for n: \"))\n",
    "print(\"Sum of the first\", n, \"numbers is:\", sum_first_n(n))\n",
    "print(\"Sum of the first\", n, \"odd numbers is:\", sum_first_n_odd(n))\n",
    "print(\"Sum of numbers entered by user until 999 is:\", sum_until_999())\n"
   ]
  },
  {
   "cell_type": "markdown",
   "id": "baa142a3",
   "metadata": {},
   "source": [
    " 4.(a) Write a program that reads five numbers between 1 and 30. For each number that’s \n",
    "read, your program should display the same number of adjacent asterisks (*'s). For \n",
    "example, if your program reads the number 7, it should display *******. Display the bars\n",
    "of asterisks after you read all five numbers.\n",
    "\n",
    "(b). Write a program that displays all possible combinations for picking two numbers\n",
    "from integers 1 to 7. Also display the total number of all combinations.\n",
    " "
   ]
  },
  {
   "cell_type": "code",
   "execution_count": null,
   "id": "e748aca2",
   "metadata": {},
   "outputs": [],
   "source": [
    "# Function to display asterisks\n",
    "def display_asterisks(n):\n",
    "    if n < 1 or n > 30:\n",
    "        return \"\"\n",
    "    return \"*\" * n\n",
    "\n",
    "# Read five numbers and display asterisks\n",
    "numbers = []\n",
    "for _ in range(5):\n",
    "    num = int(input(\"Enter a number between 1 and 30: \"))\n",
    "    numbers.append(num)\n",
    "\n",
    "# Display bars of asterisks\n",
    "for num in numbers:\n",
    "    print(display_asterisks(num))\n",
    "\n",
    "    "
   ]
  },
  {
   "cell_type": "code",
   "execution_count": null,
   "id": "0dafcca2",
   "metadata": {},
   "outputs": [],
   "source": [
    "combinations = []\n",
    "\n",
    "# Generate and store combinations\n",
    "for i in range(1, 8):\n",
    "    for j in range(i+1, 8):\n",
    "        combinations.append((i, j))\n",
    "\n",
    "# Display combinations\n",
    "for combo in combinations:\n",
    "    print(combo)\n",
    "\n",
    "# Display total number of combinations\n",
    "print(\"Total number of combinations:\", len(combinations))"
   ]
  },
  {
   "cell_type": "markdown",
   "id": "856e4990",
   "metadata": {},
   "source": [
    "6.(a). Write a function called sum(). This function expects two numbers, named low and\n",
    "high, as arguments. The function calculates and returns the sum of all of the numbers\n",
    "between low and high, inclusive. \n",
    "\n",
    "(b).  The Pythagorean theorem states that the square of the hypotenuse is equal to the\n",
    "sum of the squares of the other two sides of a right-angled triangle. Write a function\n",
    "named pyth() which takes the lengths of these two sides as arguments, and returns the\n",
    "triangle’s hypotenuse. "
   ]
  },
  {
   "cell_type": "code",
   "execution_count": null,
   "id": "f6a8e4df",
   "metadata": {},
   "outputs": [],
   "source": [
    "import math\n",
    "l=int(input(\"enter length of side AB \"))\n",
    "b=int(input(\"enter length of side BC \"))\n",
    "\n",
    "def pyth(x,y):\n",
    "    return math.sqrt(x**2+y**2)\n",
    "    \n",
    "pyth(l,b)    \n",
    "   "
   ]
  },
  {
   "cell_type": "markdown",
   "id": "222bbfc4",
   "metadata": {},
   "source": [
    "8.(a) Calculate the average of the numbers of the sum entered by user, take this data\n",
    "from user (10,22,37,41,53,64).  \n",
    "\n",
    "(b). List 5 built-in functions of Dictionary with examples."
   ]
  },
  {
   "cell_type": "code",
   "execution_count": 1,
   "id": "15782ce5",
   "metadata": {},
   "outputs": [
    {
     "name": "stdout",
     "output_type": "stream",
     "text": [
      "enter no. of inputs6\n",
      "enter the number 10\n",
      "enter the number 22\n",
      "enter the number 37\n",
      "enter the number 41\n",
      "enter the number 53\n",
      "enter the number 64\n"
     ]
    },
    {
     "data": {
      "text/plain": [
       "37.833333333333336"
      ]
     },
     "execution_count": 1,
     "metadata": {},
     "output_type": "execute_result"
    }
   ],
   "source": [
    "n=int(input(\"enter no. of inputs\"))\n",
    "l1=[]\n",
    "\n",
    "def summ():\n",
    "    for i in range(n):\n",
    "            e=int(input(\"enter the number \"))\n",
    "            l1.append(e)\n",
    "            \n",
    "    return sum(l1)/n\n",
    "\n",
    "summ()\n",
    "    "
   ]
  },
  {
   "cell_type": "markdown",
   "id": "22c07765",
   "metadata": {},
   "source": [
    ". (a). A Western calendar year is a leap year if it is divisible by 4, unless it is a century year\n",
    "that is not divisible by 400. (1800 and 1900 are not leap years while 1600 and 2000 are.)\n",
    "Write a program that calculates whether an input Western calendar year is a leap year.\n",
    "\n",
    "(b). Accept Date of Birth from user (Hint use date or datetime) and print total number of\n",
    "days and minutes till today. "
   ]
  },
  {
   "cell_type": "code",
   "execution_count": 7,
   "id": "0760e754",
   "metadata": {},
   "outputs": [
    {
     "name": "stdout",
     "output_type": "stream",
     "text": [
      "enter year 2024\n",
      "2024  is a leap year\n"
     ]
    }
   ],
   "source": [
    "year=int(input(\"enter year \"))\n",
    "if (year%4==0) or (year%100==0 and year/400):\n",
    "    print(year,\" is a leap year\")\n",
    "else: \n",
    "    print(year,\" is not a leap year\")\n",
    "    \n",
    "        "
   ]
  },
  {
   "cell_type": "markdown",
   "id": "8afcf82c",
   "metadata": {},
   "source": [
    "# Importing pandas library"
   ]
  },
  {
   "cell_type": "code",
   "execution_count": 1,
   "id": "d10eff00",
   "metadata": {},
   "outputs": [],
   "source": [
    "import pandas as pd #shortcut name is created for pandas"
   ]
  },
  {
   "cell_type": "code",
   "execution_count": 4,
   "id": "92818f16",
   "metadata": {},
   "outputs": [
    {
     "data": {
      "text/plain": [
       "'2.0.3'"
      ]
     },
     "execution_count": 4,
     "metadata": {},
     "output_type": "execute_result"
    }
   ],
   "source": [
    "pd.__version__ #to check the version of pandas \n",
    "#it is double underscore nad not single one"
   ]
  },
  {
   "cell_type": "code",
   "execution_count": 5,
   "id": "c69bc0d3",
   "metadata": {},
   "outputs": [],
   "source": [
    "import warnings\n",
    "warnings.filterwarnings(\"ignore\")"
   ]
  },
  {
   "cell_type": "markdown",
   "id": "9676bef5",
   "metadata": {},
   "source": [
    "print out all the versions information of the librarires that are required by the pandas library\n"
   ]
  },
  {
   "cell_type": "code",
   "execution_count": 6,
   "id": "78a113c4",
   "metadata": {},
   "outputs": [
    {
     "name": "stdout",
     "output_type": "stream",
     "text": [
      "\n",
      "INSTALLED VERSIONS\n",
      "------------------\n",
      "commit           : 0f437949513225922d851e9581723d82120684a6\n",
      "python           : 3.11.5.final.0\n",
      "python-bits      : 64\n",
      "OS               : Windows\n",
      "OS-release       : 10\n",
      "Version          : 10.0.22631\n",
      "machine          : AMD64\n",
      "processor        : Intel64 Family 6 Model 154 Stepping 4, GenuineIntel\n",
      "byteorder        : little\n",
      "LC_ALL           : None\n",
      "LANG             : None\n",
      "LOCALE           : English_India.1252\n",
      "\n",
      "pandas           : 2.0.3\n",
      "numpy            : 1.24.3\n",
      "pytz             : 2023.3.post1\n",
      "dateutil         : 2.8.2\n",
      "setuptools       : 68.0.0\n",
      "pip              : 23.2.1\n",
      "Cython           : None\n",
      "pytest           : 7.4.0\n",
      "hypothesis       : None\n",
      "sphinx           : 5.0.2\n",
      "blosc            : None\n",
      "feather          : None\n",
      "xlsxwriter       : None\n",
      "lxml.etree       : 4.9.3\n",
      "html5lib         : None\n",
      "pymysql          : None\n",
      "psycopg2         : None\n",
      "jinja2           : 3.1.2\n",
      "IPython          : 8.15.0\n",
      "pandas_datareader: None\n",
      "bs4              : 4.12.2\n",
      "bottleneck       : 1.3.5\n",
      "brotli           : \n",
      "fastparquet      : None\n",
      "fsspec           : 2023.4.0\n",
      "gcsfs            : None\n",
      "matplotlib       : 3.7.2\n",
      "numba            : 0.57.1\n",
      "numexpr          : 2.8.4\n",
      "odfpy            : None\n",
      "openpyxl         : 3.0.10\n",
      "pandas_gbq       : None\n",
      "pyarrow          : 11.0.0\n",
      "pyreadstat       : None\n",
      "pyxlsb           : None\n",
      "s3fs             : 2023.4.0\n",
      "scipy            : 1.11.1\n",
      "snappy           : \n",
      "sqlalchemy       : 1.4.39\n",
      "tables           : 3.8.0\n",
      "tabulate         : 0.8.10\n",
      "xarray           : 2023.6.0\n",
      "xlrd             : None\n",
      "zstandard        : 0.19.0\n",
      "tzdata           : 2023.3\n",
      "qtpy             : 2.2.0\n",
      "pyqt5            : None\n"
     ]
    }
   ],
   "source": [
    "pd.show_versions()"
   ]
  },
  {
   "cell_type": "code",
   "execution_count": 8,
   "id": "8e7847e9",
   "metadata": {},
   "outputs": [],
   "source": [
    "import numpy as np"
   ]
  },
  {
   "cell_type": "code",
   "execution_count": 13,
   "id": "794f89db",
   "metadata": {},
   "outputs": [],
   "source": [
    "#creating a dictionary (it later needs to be converted into a dataframe) in python\n",
    "#np.nan means no value is assigned\n",
    "data={\"animal\":[\"cat\",\"cat\",\"snake\",\"dog\",\"dog\",\"cat\",\"snake\",\"cat\",\"dog\",\"dog\"],\n",
    "      \"age\":[2,3,5,np.nan,6,9,1,2,3,2], \n",
    "      \"visits\":[1,5,2,4,7,3,9,3,5,4],\n",
    "      \"priority\":[\"yes\",\"yes\",\"no\",\"yes\",\"no\",\"no\",\"yes\",\"no\",\"yes\",\"yes\"]}"
   ]
  },
  {
   "cell_type": "code",
   "execution_count": 14,
   "id": "c28087e2",
   "metadata": {},
   "outputs": [
    {
     "data": {
      "text/plain": [
       "{'animal': ['cat',\n",
       "  'cat',\n",
       "  'snake',\n",
       "  'dog',\n",
       "  'dog',\n",
       "  'cat',\n",
       "  'snake',\n",
       "  'cat',\n",
       "  'dog',\n",
       "  'dog'],\n",
       " 'age': [2, 3, 5, nan, 6, 9, 1, 2, 3, 2],\n",
       " 'visits': [1, 5, 2, 4, 7, 3, 9, 3, 5, 4],\n",
       " 'priority': ['yes',\n",
       "  'yes',\n",
       "  'no',\n",
       "  'yes',\n",
       "  'no',\n",
       "  'no',\n",
       "  'yes',\n",
       "  'no',\n",
       "  'yes',\n",
       "  'yes']}"
      ]
     },
     "execution_count": 14,
     "metadata": {},
     "output_type": "execute_result"
    }
   ],
   "source": [
    "data"
   ]
  },
  {
   "cell_type": "code",
   "execution_count": 15,
   "id": "3b453400",
   "metadata": {},
   "outputs": [
    {
     "data": {
      "text/html": [
       "<div>\n",
       "<style scoped>\n",
       "    .dataframe tbody tr th:only-of-type {\n",
       "        vertical-align: middle;\n",
       "    }\n",
       "\n",
       "    .dataframe tbody tr th {\n",
       "        vertical-align: top;\n",
       "    }\n",
       "\n",
       "    .dataframe thead th {\n",
       "        text-align: right;\n",
       "    }\n",
       "</style>\n",
       "<table border=\"1\" class=\"dataframe\">\n",
       "  <thead>\n",
       "    <tr style=\"text-align: right;\">\n",
       "      <th></th>\n",
       "      <th>animal</th>\n",
       "      <th>age</th>\n",
       "      <th>visits</th>\n",
       "      <th>priority</th>\n",
       "    </tr>\n",
       "  </thead>\n",
       "  <tbody>\n",
       "    <tr>\n",
       "      <th>0</th>\n",
       "      <td>cat</td>\n",
       "      <td>2.0</td>\n",
       "      <td>1</td>\n",
       "      <td>yes</td>\n",
       "    </tr>\n",
       "    <tr>\n",
       "      <th>1</th>\n",
       "      <td>cat</td>\n",
       "      <td>3.0</td>\n",
       "      <td>5</td>\n",
       "      <td>yes</td>\n",
       "    </tr>\n",
       "    <tr>\n",
       "      <th>2</th>\n",
       "      <td>snake</td>\n",
       "      <td>5.0</td>\n",
       "      <td>2</td>\n",
       "      <td>no</td>\n",
       "    </tr>\n",
       "    <tr>\n",
       "      <th>3</th>\n",
       "      <td>dog</td>\n",
       "      <td>NaN</td>\n",
       "      <td>4</td>\n",
       "      <td>yes</td>\n",
       "    </tr>\n",
       "    <tr>\n",
       "      <th>4</th>\n",
       "      <td>dog</td>\n",
       "      <td>6.0</td>\n",
       "      <td>7</td>\n",
       "      <td>no</td>\n",
       "    </tr>\n",
       "  </tbody>\n",
       "</table>\n",
       "</div>"
      ],
      "text/plain": [
       "  animal  age  visits priority\n",
       "0    cat  2.0       1      yes\n",
       "1    cat  3.0       5      yes\n",
       "2  snake  5.0       2       no\n",
       "3    dog  NaN       4      yes\n",
       "4    dog  6.0       7       no"
      ]
     },
     "execution_count": 15,
     "metadata": {},
     "output_type": "execute_result"
    }
   ],
   "source": [
    "df=pd.DataFrame(data)\n",
    "df.head()"
   ]
  },
  {
   "cell_type": "code",
   "execution_count": 16,
   "id": "a5a18ff1",
   "metadata": {},
   "outputs": [
    {
     "data": {
      "text/html": [
       "<div>\n",
       "<style scoped>\n",
       "    .dataframe tbody tr th:only-of-type {\n",
       "        vertical-align: middle;\n",
       "    }\n",
       "\n",
       "    .dataframe tbody tr th {\n",
       "        vertical-align: top;\n",
       "    }\n",
       "\n",
       "    .dataframe thead th {\n",
       "        text-align: right;\n",
       "    }\n",
       "</style>\n",
       "<table border=\"1\" class=\"dataframe\">\n",
       "  <thead>\n",
       "    <tr style=\"text-align: right;\">\n",
       "      <th></th>\n",
       "      <th>animal</th>\n",
       "      <th>age</th>\n",
       "      <th>visits</th>\n",
       "      <th>priority</th>\n",
       "    </tr>\n",
       "  </thead>\n",
       "  <tbody>\n",
       "    <tr>\n",
       "      <th>a</th>\n",
       "      <td>cat</td>\n",
       "      <td>2.0</td>\n",
       "      <td>1</td>\n",
       "      <td>yes</td>\n",
       "    </tr>\n",
       "    <tr>\n",
       "      <th>b</th>\n",
       "      <td>cat</td>\n",
       "      <td>3.0</td>\n",
       "      <td>5</td>\n",
       "      <td>yes</td>\n",
       "    </tr>\n",
       "    <tr>\n",
       "      <th>c</th>\n",
       "      <td>snake</td>\n",
       "      <td>5.0</td>\n",
       "      <td>2</td>\n",
       "      <td>no</td>\n",
       "    </tr>\n",
       "    <tr>\n",
       "      <th>d</th>\n",
       "      <td>dog</td>\n",
       "      <td>NaN</td>\n",
       "      <td>4</td>\n",
       "      <td>yes</td>\n",
       "    </tr>\n",
       "    <tr>\n",
       "      <th>e</th>\n",
       "      <td>dog</td>\n",
       "      <td>6.0</td>\n",
       "      <td>7</td>\n",
       "      <td>no</td>\n",
       "    </tr>\n",
       "  </tbody>\n",
       "</table>\n",
       "</div>"
      ],
      "text/plain": [
       "  animal  age  visits priority\n",
       "a    cat  2.0       1      yes\n",
       "b    cat  3.0       5      yes\n",
       "c  snake  5.0       2       no\n",
       "d    dog  NaN       4      yes\n",
       "e    dog  6.0       7       no"
      ]
     },
     "execution_count": 16,
     "metadata": {},
     "output_type": "execute_result"
    }
   ],
   "source": [
    "labels=[\"a\",\"b\",\"c\",\"d\",\"e\",\"f\",\"g\",\"h\",\"i\",\"j\"]\n",
    "df=pd.DataFrame(data,index=labels) #assigning row nos\n",
    "df.head()#upper rows of the df\n",
    "df.head(7) #upper 7 rows of the df "
   ]
  },
  {
   "cell_type": "code",
   "execution_count": 19,
   "id": "76fecc21",
   "metadata": {},
   "outputs": [
    {
     "data": {
      "text/html": [
       "<div>\n",
       "<style scoped>\n",
       "    .dataframe tbody tr th:only-of-type {\n",
       "        vertical-align: middle;\n",
       "    }\n",
       "\n",
       "    .dataframe tbody tr th {\n",
       "        vertical-align: top;\n",
       "    }\n",
       "\n",
       "    .dataframe thead th {\n",
       "        text-align: right;\n",
       "    }\n",
       "</style>\n",
       "<table border=\"1\" class=\"dataframe\">\n",
       "  <thead>\n",
       "    <tr style=\"text-align: right;\">\n",
       "      <th></th>\n",
       "      <th>animal</th>\n",
       "      <th>age</th>\n",
       "      <th>visits</th>\n",
       "      <th>priority</th>\n",
       "    </tr>\n",
       "  </thead>\n",
       "  <tbody>\n",
       "    <tr>\n",
       "      <th>f</th>\n",
       "      <td>cat</td>\n",
       "      <td>9.0</td>\n",
       "      <td>3</td>\n",
       "      <td>no</td>\n",
       "    </tr>\n",
       "    <tr>\n",
       "      <th>g</th>\n",
       "      <td>snake</td>\n",
       "      <td>1.0</td>\n",
       "      <td>9</td>\n",
       "      <td>yes</td>\n",
       "    </tr>\n",
       "    <tr>\n",
       "      <th>h</th>\n",
       "      <td>cat</td>\n",
       "      <td>2.0</td>\n",
       "      <td>3</td>\n",
       "      <td>no</td>\n",
       "    </tr>\n",
       "    <tr>\n",
       "      <th>i</th>\n",
       "      <td>dog</td>\n",
       "      <td>3.0</td>\n",
       "      <td>5</td>\n",
       "      <td>yes</td>\n",
       "    </tr>\n",
       "    <tr>\n",
       "      <th>j</th>\n",
       "      <td>dog</td>\n",
       "      <td>2.0</td>\n",
       "      <td>4</td>\n",
       "      <td>yes</td>\n",
       "    </tr>\n",
       "  </tbody>\n",
       "</table>\n",
       "</div>"
      ],
      "text/plain": [
       "  animal  age  visits priority\n",
       "f    cat  9.0       3       no\n",
       "g  snake  1.0       9      yes\n",
       "h    cat  2.0       3       no\n",
       "i    dog  3.0       5      yes\n",
       "j    dog  2.0       4      yes"
      ]
     },
     "execution_count": 19,
     "metadata": {},
     "output_type": "execute_result"
    }
   ],
   "source": [
    "df.tail()  #lower rows of the df"
   ]
  },
  {
   "cell_type": "markdown",
   "id": "29c2cc0b",
   "metadata": {},
   "source": [
    "### exporting this dataframe in excel"
   ]
  },
  {
   "cell_type": "code",
   "execution_count": 20,
   "id": "94498cb8",
   "metadata": {},
   "outputs": [],
   "source": [
    "df.to_csv(\"data.csv\")  #saved in your python directory--c/users/vaishnavi/python dir"
   ]
  },
  {
   "cell_type": "markdown",
   "id": "a1c918f7",
   "metadata": {},
   "source": [
    "### reading data from excel"
   ]
  },
  {
   "cell_type": "code",
   "execution_count": 33,
   "id": "20d09737",
   "metadata": {},
   "outputs": [
    {
     "data": {
      "text/html": [
       "<div>\n",
       "<style scoped>\n",
       "    .dataframe tbody tr th:only-of-type {\n",
       "        vertical-align: middle;\n",
       "    }\n",
       "\n",
       "    .dataframe tbody tr th {\n",
       "        vertical-align: top;\n",
       "    }\n",
       "\n",
       "    .dataframe thead th {\n",
       "        text-align: right;\n",
       "    }\n",
       "</style>\n",
       "<table border=\"1\" class=\"dataframe\">\n",
       "  <thead>\n",
       "    <tr style=\"text-align: right;\">\n",
       "      <th></th>\n",
       "      <th>Unnamed: 0</th>\n",
       "      <th>animal</th>\n",
       "      <th>age</th>\n",
       "      <th>visits</th>\n",
       "      <th>priority</th>\n",
       "    </tr>\n",
       "  </thead>\n",
       "  <tbody>\n",
       "    <tr>\n",
       "      <th>0</th>\n",
       "      <td>a</td>\n",
       "      <td>cat</td>\n",
       "      <td>2.0</td>\n",
       "      <td>1</td>\n",
       "      <td>yes</td>\n",
       "    </tr>\n",
       "    <tr>\n",
       "      <th>1</th>\n",
       "      <td>b</td>\n",
       "      <td>cat</td>\n",
       "      <td>3.0</td>\n",
       "      <td>5</td>\n",
       "      <td>yes</td>\n",
       "    </tr>\n",
       "    <tr>\n",
       "      <th>2</th>\n",
       "      <td>c</td>\n",
       "      <td>snake</td>\n",
       "      <td>5.0</td>\n",
       "      <td>2</td>\n",
       "      <td>no</td>\n",
       "    </tr>\n",
       "    <tr>\n",
       "      <th>3</th>\n",
       "      <td>d</td>\n",
       "      <td>dog</td>\n",
       "      <td>NaN</td>\n",
       "      <td>4</td>\n",
       "      <td>yes</td>\n",
       "    </tr>\n",
       "    <tr>\n",
       "      <th>4</th>\n",
       "      <td>e</td>\n",
       "      <td>dog</td>\n",
       "      <td>6.0</td>\n",
       "      <td>7</td>\n",
       "      <td>no</td>\n",
       "    </tr>\n",
       "    <tr>\n",
       "      <th>5</th>\n",
       "      <td>f</td>\n",
       "      <td>cat</td>\n",
       "      <td>9.0</td>\n",
       "      <td>3</td>\n",
       "      <td>no</td>\n",
       "    </tr>\n",
       "    <tr>\n",
       "      <th>6</th>\n",
       "      <td>g</td>\n",
       "      <td>snake</td>\n",
       "      <td>1.0</td>\n",
       "      <td>9</td>\n",
       "      <td>yes</td>\n",
       "    </tr>\n",
       "    <tr>\n",
       "      <th>7</th>\n",
       "      <td>h</td>\n",
       "      <td>cat</td>\n",
       "      <td>2.0</td>\n",
       "      <td>3</td>\n",
       "      <td>no</td>\n",
       "    </tr>\n",
       "    <tr>\n",
       "      <th>8</th>\n",
       "      <td>i</td>\n",
       "      <td>dog</td>\n",
       "      <td>3.0</td>\n",
       "      <td>5</td>\n",
       "      <td>yes</td>\n",
       "    </tr>\n",
       "    <tr>\n",
       "      <th>9</th>\n",
       "      <td>j</td>\n",
       "      <td>dog</td>\n",
       "      <td>2.0</td>\n",
       "      <td>4</td>\n",
       "      <td>yes</td>\n",
       "    </tr>\n",
       "  </tbody>\n",
       "</table>\n",
       "</div>"
      ],
      "text/plain": [
       "  Unnamed: 0 animal  age  visits priority\n",
       "0          a    cat  2.0       1      yes\n",
       "1          b    cat  3.0       5      yes\n",
       "2          c  snake  5.0       2       no\n",
       "3          d    dog  NaN       4      yes\n",
       "4          e    dog  6.0       7       no\n",
       "5          f    cat  9.0       3       no\n",
       "6          g  snake  1.0       9      yes\n",
       "7          h    cat  2.0       3       no\n",
       "8          i    dog  3.0       5      yes\n",
       "9          j    dog  2.0       4      yes"
      ]
     },
     "execution_count": 33,
     "metadata": {},
     "output_type": "execute_result"
    }
   ],
   "source": [
    "#copy as path the location of your file by right clicking \n",
    "#we add an \"r\" to reverse the backslash orientation\n",
    "df=pd.read_csv(r\"C:\\Users\\Vaishnavi\\Python dir\\data.csv\") \n",
    "df"
   ]
  },
  {
   "cell_type": "code",
   "execution_count": 28,
   "id": "6e326916",
   "metadata": {},
   "outputs": [],
   "source": [
    "d={\"sid\":[10,12,13,14,15],\n",
    "   \"sname\":[\"Neelama\",\"POO\",\"KAleem\",\"Sonu\",\"Afu\"],\n",
    "   \"M1\":[10,23,56,78,23],\n",
    "   \"M2\":[45,78,33,90,27]}\n",
    "labels=[\"a\",\"b\",\"c\",\"d\",\"e\"]\n",
    "student1=pd.DataFrame(d,index=labels)\n",
    "student1\n",
    "\n",
    "student1.to_csv(\"data2.csv\") #you can save to excel file with \"to_excel\"\n"
   ]
  },
  {
   "cell_type": "code",
   "execution_count": 31,
   "id": "30f7a55f",
   "metadata": {},
   "outputs": [
    {
     "data": {
      "text/html": [
       "<div>\n",
       "<style scoped>\n",
       "    .dataframe tbody tr th:only-of-type {\n",
       "        vertical-align: middle;\n",
       "    }\n",
       "\n",
       "    .dataframe tbody tr th {\n",
       "        vertical-align: top;\n",
       "    }\n",
       "\n",
       "    .dataframe thead th {\n",
       "        text-align: right;\n",
       "    }\n",
       "</style>\n",
       "<table border=\"1\" class=\"dataframe\">\n",
       "  <thead>\n",
       "    <tr style=\"text-align: right;\">\n",
       "      <th></th>\n",
       "      <th>Unnamed: 0</th>\n",
       "      <th>sid</th>\n",
       "      <th>sname</th>\n",
       "      <th>M1</th>\n",
       "      <th>M2</th>\n",
       "    </tr>\n",
       "  </thead>\n",
       "  <tbody>\n",
       "    <tr>\n",
       "      <th>0</th>\n",
       "      <td>a</td>\n",
       "      <td>10</td>\n",
       "      <td>Neelama</td>\n",
       "      <td>10</td>\n",
       "      <td>45</td>\n",
       "    </tr>\n",
       "    <tr>\n",
       "      <th>1</th>\n",
       "      <td>b</td>\n",
       "      <td>12</td>\n",
       "      <td>POO</td>\n",
       "      <td>23</td>\n",
       "      <td>78</td>\n",
       "    </tr>\n",
       "    <tr>\n",
       "      <th>2</th>\n",
       "      <td>c</td>\n",
       "      <td>13</td>\n",
       "      <td>KAleem</td>\n",
       "      <td>56</td>\n",
       "      <td>33</td>\n",
       "    </tr>\n",
       "    <tr>\n",
       "      <th>3</th>\n",
       "      <td>d</td>\n",
       "      <td>14</td>\n",
       "      <td>Sonu</td>\n",
       "      <td>78</td>\n",
       "      <td>90</td>\n",
       "    </tr>\n",
       "    <tr>\n",
       "      <th>4</th>\n",
       "      <td>e</td>\n",
       "      <td>15</td>\n",
       "      <td>Afu</td>\n",
       "      <td>23</td>\n",
       "      <td>27</td>\n",
       "    </tr>\n",
       "  </tbody>\n",
       "</table>\n",
       "</div>"
      ],
      "text/plain": [
       "  Unnamed: 0  sid    sname  M1  M2\n",
       "0          a   10  Neelama  10  45\n",
       "1          b   12      POO  23  78\n",
       "2          c   13   KAleem  56  33\n",
       "3          d   14     Sonu  78  90\n",
       "4          e   15      Afu  23  27"
      ]
     },
     "execution_count": 31,
     "metadata": {},
     "output_type": "execute_result"
    }
   ],
   "source": [
    "df2=pd.read_csv(r\"C:\\Users\\Vaishnavi\\Python dir\\data2.csv\")\n",
    "df2"
   ]
  },
  {
   "cell_type": "markdown",
   "id": "eb0aaeac",
   "metadata": {},
   "source": [
    "Slicing the dataframe (obtaining subsets of data)"
   ]
  },
  {
   "cell_type": "code",
   "execution_count": 35,
   "id": "65c3f72e",
   "metadata": {},
   "outputs": [
    {
     "data": {
      "text/plain": [
       "0    Neelama\n",
       "1        POO\n",
       "2     KAleem\n",
       "3       Sonu\n",
       "4        Afu\n",
       "Name: sname, dtype: object"
      ]
     },
     "execution_count": 35,
     "metadata": {},
     "output_type": "execute_result"
    }
   ],
   "source": [
    "df2.iloc[:,2] #iloc means index location \n",
    "# depicts all rows for 2nd column"
   ]
  },
  {
   "cell_type": "code",
   "execution_count": 38,
   "id": "4b8f3942",
   "metadata": {},
   "outputs": [
    {
     "data": {
      "text/plain": [
       "Unnamed: 0      b\n",
       "sid            12\n",
       "sname         POO\n",
       "M1             23\n",
       "M2             78\n",
       "Name: 1, dtype: object"
      ]
     },
     "execution_count": 38,
     "metadata": {},
     "output_type": "execute_result"
    }
   ],
   "source": [
    "df2.iloc[1,:] #depicts 1 rows for all columns"
   ]
  },
  {
   "cell_type": "code",
   "execution_count": 39,
   "id": "c2460cd5",
   "metadata": {},
   "outputs": [
    {
     "data": {
      "text/html": [
       "<div>\n",
       "<style scoped>\n",
       "    .dataframe tbody tr th:only-of-type {\n",
       "        vertical-align: middle;\n",
       "    }\n",
       "\n",
       "    .dataframe tbody tr th {\n",
       "        vertical-align: top;\n",
       "    }\n",
       "\n",
       "    .dataframe thead th {\n",
       "        text-align: right;\n",
       "    }\n",
       "</style>\n",
       "<table border=\"1\" class=\"dataframe\">\n",
       "  <thead>\n",
       "    <tr style=\"text-align: right;\">\n",
       "      <th></th>\n",
       "      <th>Unnamed: 0</th>\n",
       "      <th>sid</th>\n",
       "      <th>sname</th>\n",
       "      <th>M1</th>\n",
       "      <th>M2</th>\n",
       "    </tr>\n",
       "  </thead>\n",
       "  <tbody>\n",
       "    <tr>\n",
       "      <th>0</th>\n",
       "      <td>a</td>\n",
       "      <td>10</td>\n",
       "      <td>Neelama</td>\n",
       "      <td>10</td>\n",
       "      <td>45</td>\n",
       "    </tr>\n",
       "    <tr>\n",
       "      <th>2</th>\n",
       "      <td>c</td>\n",
       "      <td>13</td>\n",
       "      <td>KAleem</td>\n",
       "      <td>56</td>\n",
       "      <td>33</td>\n",
       "    </tr>\n",
       "  </tbody>\n",
       "</table>\n",
       "</div>"
      ],
      "text/plain": [
       "  Unnamed: 0  sid    sname  M1  M2\n",
       "0          a   10  Neelama  10  45\n",
       "2          c   13   KAleem  56  33"
      ]
     },
     "execution_count": 39,
     "metadata": {},
     "output_type": "execute_result"
    }
   ],
   "source": [
    "df2.iloc[0:4:2] #go from 0 to 4 and skip 2"
   ]
  },
  {
   "cell_type": "code",
   "execution_count": 41,
   "id": "51a6b874",
   "metadata": {},
   "outputs": [
    {
     "data": {
      "text/plain": [
       "0    10\n",
       "1    23\n",
       "2    56\n",
       "3    78\n",
       "4    23\n",
       "Name: M1, dtype: int64"
      ]
     },
     "execution_count": 41,
     "metadata": {},
     "output_type": "execute_result"
    }
   ],
   "source": [
    "df2.iloc[:,-2] #depicts all rows for 2nd last column"
   ]
  },
  {
   "cell_type": "markdown",
   "id": "f68408fe",
   "metadata": {},
   "source": []
  },
  {
   "cell_type": "code",
   "execution_count": 45,
   "id": "43e5bc73",
   "metadata": {},
   "outputs": [
    {
     "data": {
      "text/plain": [
       "sid    12\n",
       "Name: 1, dtype: object"
      ]
     },
     "execution_count": 45,
     "metadata": {},
     "output_type": "execute_result"
    }
   ],
   "source": [
    "df2.iloc[1,1:2] #depicts 1st row values for columns 1 to 2"
   ]
  },
  {
   "cell_type": "code",
   "execution_count": 46,
   "id": "c07e3068",
   "metadata": {},
   "outputs": [
    {
     "data": {
      "text/html": [
       "<div>\n",
       "<style scoped>\n",
       "    .dataframe tbody tr th:only-of-type {\n",
       "        vertical-align: middle;\n",
       "    }\n",
       "\n",
       "    .dataframe tbody tr th {\n",
       "        vertical-align: top;\n",
       "    }\n",
       "\n",
       "    .dataframe thead th {\n",
       "        text-align: right;\n",
       "    }\n",
       "</style>\n",
       "<table border=\"1\" class=\"dataframe\">\n",
       "  <thead>\n",
       "    <tr style=\"text-align: right;\">\n",
       "      <th></th>\n",
       "      <th>Unnamed: 0</th>\n",
       "      <th>sid</th>\n",
       "    </tr>\n",
       "  </thead>\n",
       "  <tbody>\n",
       "    <tr>\n",
       "      <th>2</th>\n",
       "      <td>c</td>\n",
       "      <td>13</td>\n",
       "    </tr>\n",
       "  </tbody>\n",
       "</table>\n",
       "</div>"
      ],
      "text/plain": [
       "  Unnamed: 0  sid\n",
       "2          c   13"
      ]
     },
     "execution_count": 46,
     "metadata": {},
     "output_type": "execute_result"
    }
   ],
   "source": [
    "df2.iloc[2:3,0:2] #depicts rows 2 to 3 for columns 0 to 2"
   ]
  },
  {
   "cell_type": "code",
   "execution_count": 47,
   "id": "178092b4",
   "metadata": {},
   "outputs": [
    {
     "data": {
      "text/html": [
       "<div>\n",
       "<style scoped>\n",
       "    .dataframe tbody tr th:only-of-type {\n",
       "        vertical-align: middle;\n",
       "    }\n",
       "\n",
       "    .dataframe tbody tr th {\n",
       "        vertical-align: top;\n",
       "    }\n",
       "\n",
       "    .dataframe thead th {\n",
       "        text-align: right;\n",
       "    }\n",
       "</style>\n",
       "<table border=\"1\" class=\"dataframe\">\n",
       "  <thead>\n",
       "    <tr style=\"text-align: right;\">\n",
       "      <th></th>\n",
       "      <th>sname</th>\n",
       "      <th>M1</th>\n",
       "    </tr>\n",
       "  </thead>\n",
       "  <tbody>\n",
       "    <tr>\n",
       "      <th>1</th>\n",
       "      <td>POO</td>\n",
       "      <td>23</td>\n",
       "    </tr>\n",
       "    <tr>\n",
       "      <th>2</th>\n",
       "      <td>KAleem</td>\n",
       "      <td>56</td>\n",
       "    </tr>\n",
       "  </tbody>\n",
       "</table>\n",
       "</div>"
      ],
      "text/plain": [
       "    sname  M1\n",
       "1     POO  23\n",
       "2  KAleem  56"
      ]
     },
     "execution_count": 47,
     "metadata": {},
     "output_type": "execute_result"
    }
   ],
   "source": [
    "df2.iloc[1:3,2:4]"
   ]
  },
  {
   "cell_type": "code",
   "execution_count": 48,
   "id": "58218cfa",
   "metadata": {},
   "outputs": [
    {
     "name": "stdout",
     "output_type": "stream",
     "text": [
      "<class 'pandas.core.frame.DataFrame'>\n",
      "RangeIndex: 5 entries, 0 to 4\n",
      "Data columns (total 5 columns):\n",
      " #   Column      Non-Null Count  Dtype \n",
      "---  ------      --------------  ----- \n",
      " 0   Unnamed: 0  5 non-null      object\n",
      " 1   sid         5 non-null      int64 \n",
      " 2   sname       5 non-null      object\n",
      " 3   M1          5 non-null      int64 \n",
      " 4   M2          5 non-null      int64 \n",
      "dtypes: int64(3), object(2)\n",
      "memory usage: 332.0+ bytes\n"
     ]
    }
   ],
   "source": [
    "df2.info()"
   ]
  },
  {
   "cell_type": "code",
   "execution_count": 50,
   "id": "e4779cd0",
   "metadata": {},
   "outputs": [
    {
     "data": {
      "text/html": [
       "<div>\n",
       "<style scoped>\n",
       "    .dataframe tbody tr th:only-of-type {\n",
       "        vertical-align: middle;\n",
       "    }\n",
       "\n",
       "    .dataframe tbody tr th {\n",
       "        vertical-align: top;\n",
       "    }\n",
       "\n",
       "    .dataframe thead th {\n",
       "        text-align: right;\n",
       "    }\n",
       "</style>\n",
       "<table border=\"1\" class=\"dataframe\">\n",
       "  <thead>\n",
       "    <tr style=\"text-align: right;\">\n",
       "      <th></th>\n",
       "      <th>sid</th>\n",
       "      <th>M1</th>\n",
       "      <th>M2</th>\n",
       "    </tr>\n",
       "  </thead>\n",
       "  <tbody>\n",
       "    <tr>\n",
       "      <th>count</th>\n",
       "      <td>5.000000</td>\n",
       "      <td>5.000000</td>\n",
       "      <td>5.00000</td>\n",
       "    </tr>\n",
       "    <tr>\n",
       "      <th>mean</th>\n",
       "      <td>12.800000</td>\n",
       "      <td>38.000000</td>\n",
       "      <td>54.60000</td>\n",
       "    </tr>\n",
       "    <tr>\n",
       "      <th>std</th>\n",
       "      <td>1.923538</td>\n",
       "      <td>28.098043</td>\n",
       "      <td>27.93385</td>\n",
       "    </tr>\n",
       "    <tr>\n",
       "      <th>min</th>\n",
       "      <td>10.000000</td>\n",
       "      <td>10.000000</td>\n",
       "      <td>27.00000</td>\n",
       "    </tr>\n",
       "    <tr>\n",
       "      <th>25%</th>\n",
       "      <td>12.000000</td>\n",
       "      <td>23.000000</td>\n",
       "      <td>33.00000</td>\n",
       "    </tr>\n",
       "    <tr>\n",
       "      <th>50%</th>\n",
       "      <td>13.000000</td>\n",
       "      <td>23.000000</td>\n",
       "      <td>45.00000</td>\n",
       "    </tr>\n",
       "    <tr>\n",
       "      <th>75%</th>\n",
       "      <td>14.000000</td>\n",
       "      <td>56.000000</td>\n",
       "      <td>78.00000</td>\n",
       "    </tr>\n",
       "    <tr>\n",
       "      <th>max</th>\n",
       "      <td>15.000000</td>\n",
       "      <td>78.000000</td>\n",
       "      <td>90.00000</td>\n",
       "    </tr>\n",
       "  </tbody>\n",
       "</table>\n",
       "</div>"
      ],
      "text/plain": [
       "             sid         M1        M2\n",
       "count   5.000000   5.000000   5.00000\n",
       "mean   12.800000  38.000000  54.60000\n",
       "std     1.923538  28.098043  27.93385\n",
       "min    10.000000  10.000000  27.00000\n",
       "25%    12.000000  23.000000  33.00000\n",
       "50%    13.000000  23.000000  45.00000\n",
       "75%    14.000000  56.000000  78.00000\n",
       "max    15.000000  78.000000  90.00000"
      ]
     },
     "execution_count": 50,
     "metadata": {},
     "output_type": "execute_result"
    }
   ],
   "source": [
    "df2.describe()"
   ]
  },
  {
   "cell_type": "code",
   "execution_count": 62,
   "id": "dcfc4017",
   "metadata": {},
   "outputs": [
    {
     "ename": "SyntaxError",
     "evalue": "incomplete input (208396755.py, line 1)",
     "output_type": "error",
     "traceback": [
      "\u001b[1;36m  Cell \u001b[1;32mIn[62], line 1\u001b[1;36m\u001b[0m\n\u001b[1;33m    df.loc[df.index[[2,3]],[[\"animal\",\"age\"]] #using \"loc\" only you have to put the value of index\u001b[0m\n\u001b[1;37m                                                                                                   ^\u001b[0m\n\u001b[1;31mSyntaxError\u001b[0m\u001b[1;31m:\u001b[0m incomplete input\n"
     ]
    }
   ],
   "source": [
    "df.loc[df.index[[2,3]],[[\"animal\",\"age\"]] #using \"loc\" only you have to put the value of index "
   ]
  },
  {
   "cell_type": "code",
   "execution_count": 60,
   "id": "35e80bdb",
   "metadata": {},
   "outputs": [
    {
     "data": {
      "text/html": [
       "<div>\n",
       "<style scoped>\n",
       "    .dataframe tbody tr th:only-of-type {\n",
       "        vertical-align: middle;\n",
       "    }\n",
       "\n",
       "    .dataframe tbody tr th {\n",
       "        vertical-align: top;\n",
       "    }\n",
       "\n",
       "    .dataframe thead th {\n",
       "        text-align: right;\n",
       "    }\n",
       "</style>\n",
       "<table border=\"1\" class=\"dataframe\">\n",
       "  <thead>\n",
       "    <tr style=\"text-align: right;\">\n",
       "      <th></th>\n",
       "      <th>Unnamed: 0</th>\n",
       "      <th>animal</th>\n",
       "      <th>age</th>\n",
       "      <th>visits</th>\n",
       "      <th>priority</th>\n",
       "    </tr>\n",
       "  </thead>\n",
       "  <tbody>\n",
       "    <tr>\n",
       "      <th>1</th>\n",
       "      <td>b</td>\n",
       "      <td>cat</td>\n",
       "      <td>3.0</td>\n",
       "      <td>5</td>\n",
       "      <td>yes</td>\n",
       "    </tr>\n",
       "    <tr>\n",
       "      <th>3</th>\n",
       "      <td>d</td>\n",
       "      <td>dog</td>\n",
       "      <td>NaN</td>\n",
       "      <td>4</td>\n",
       "      <td>yes</td>\n",
       "    </tr>\n",
       "    <tr>\n",
       "      <th>4</th>\n",
       "      <td>e</td>\n",
       "      <td>dog</td>\n",
       "      <td>6.0</td>\n",
       "      <td>7</td>\n",
       "      <td>no</td>\n",
       "    </tr>\n",
       "    <tr>\n",
       "      <th>5</th>\n",
       "      <td>f</td>\n",
       "      <td>cat</td>\n",
       "      <td>9.0</td>\n",
       "      <td>3</td>\n",
       "      <td>no</td>\n",
       "    </tr>\n",
       "    <tr>\n",
       "      <th>6</th>\n",
       "      <td>g</td>\n",
       "      <td>snake</td>\n",
       "      <td>1.0</td>\n",
       "      <td>9</td>\n",
       "      <td>yes</td>\n",
       "    </tr>\n",
       "    <tr>\n",
       "      <th>7</th>\n",
       "      <td>h</td>\n",
       "      <td>cat</td>\n",
       "      <td>2.0</td>\n",
       "      <td>3</td>\n",
       "      <td>no</td>\n",
       "    </tr>\n",
       "    <tr>\n",
       "      <th>8</th>\n",
       "      <td>i</td>\n",
       "      <td>dog</td>\n",
       "      <td>3.0</td>\n",
       "      <td>5</td>\n",
       "      <td>yes</td>\n",
       "    </tr>\n",
       "    <tr>\n",
       "      <th>9</th>\n",
       "      <td>j</td>\n",
       "      <td>dog</td>\n",
       "      <td>2.0</td>\n",
       "      <td>4</td>\n",
       "      <td>yes</td>\n",
       "    </tr>\n",
       "  </tbody>\n",
       "</table>\n",
       "</div>"
      ],
      "text/plain": [
       "  Unnamed: 0 animal  age  visits priority\n",
       "1          b    cat  3.0       5      yes\n",
       "3          d    dog  NaN       4      yes\n",
       "4          e    dog  6.0       7       no\n",
       "5          f    cat  9.0       3       no\n",
       "6          g  snake  1.0       9      yes\n",
       "7          h    cat  2.0       3       no\n",
       "8          i    dog  3.0       5      yes\n",
       "9          j    dog  2.0       4      yes"
      ]
     },
     "execution_count": 60,
     "metadata": {},
     "output_type": "execute_result"
    }
   ],
   "source": [
    "df[df[\"visits\"]>=3] #select the rows fro the column visits greater than 3"
   ]
  },
  {
   "cell_type": "code",
   "execution_count": 61,
   "id": "d2275ce8",
   "metadata": {},
   "outputs": [
    {
     "data": {
      "text/html": [
       "<div>\n",
       "<style scoped>\n",
       "    .dataframe tbody tr th:only-of-type {\n",
       "        vertical-align: middle;\n",
       "    }\n",
       "\n",
       "    .dataframe tbody tr th {\n",
       "        vertical-align: top;\n",
       "    }\n",
       "\n",
       "    .dataframe thead th {\n",
       "        text-align: right;\n",
       "    }\n",
       "</style>\n",
       "<table border=\"1\" class=\"dataframe\">\n",
       "  <thead>\n",
       "    <tr style=\"text-align: right;\">\n",
       "      <th></th>\n",
       "      <th>Unnamed: 0</th>\n",
       "      <th>animal</th>\n",
       "      <th>age</th>\n",
       "      <th>visits</th>\n",
       "      <th>priority</th>\n",
       "    </tr>\n",
       "  </thead>\n",
       "  <tbody>\n",
       "    <tr>\n",
       "      <th>3</th>\n",
       "      <td>d</td>\n",
       "      <td>dog</td>\n",
       "      <td>NaN</td>\n",
       "      <td>4</td>\n",
       "      <td>yes</td>\n",
       "    </tr>\n",
       "  </tbody>\n",
       "</table>\n",
       "</div>"
      ],
      "text/plain": [
       "  Unnamed: 0 animal  age  visits priority\n",
       "3          d    dog  NaN       4      yes"
      ]
     },
     "execution_count": 61,
     "metadata": {},
     "output_type": "execute_result"
    }
   ],
   "source": [
    "df[df[\"age\"].isnull()] #null values in data frame is depicted"
   ]
  },
  {
   "cell_type": "code",
   "execution_count": 63,
   "id": "78bbc4c4",
   "metadata": {},
   "outputs": [
    {
     "data": {
      "text/html": [
       "<div>\n",
       "<style scoped>\n",
       "    .dataframe tbody tr th:only-of-type {\n",
       "        vertical-align: middle;\n",
       "    }\n",
       "\n",
       "    .dataframe tbody tr th {\n",
       "        vertical-align: top;\n",
       "    }\n",
       "\n",
       "    .dataframe thead th {\n",
       "        text-align: right;\n",
       "    }\n",
       "</style>\n",
       "<table border=\"1\" class=\"dataframe\">\n",
       "  <thead>\n",
       "    <tr style=\"text-align: right;\">\n",
       "      <th></th>\n",
       "      <th>Unnamed: 0</th>\n",
       "      <th>animal</th>\n",
       "      <th>age</th>\n",
       "      <th>visits</th>\n",
       "      <th>priority</th>\n",
       "    </tr>\n",
       "  </thead>\n",
       "  <tbody>\n",
       "    <tr>\n",
       "      <th>0</th>\n",
       "      <td>a</td>\n",
       "      <td>cat</td>\n",
       "      <td>2.0</td>\n",
       "      <td>1</td>\n",
       "      <td>yes</td>\n",
       "    </tr>\n",
       "    <tr>\n",
       "      <th>7</th>\n",
       "      <td>h</td>\n",
       "      <td>cat</td>\n",
       "      <td>2.0</td>\n",
       "      <td>3</td>\n",
       "      <td>no</td>\n",
       "    </tr>\n",
       "  </tbody>\n",
       "</table>\n",
       "</div>"
      ],
      "text/plain": [
       "  Unnamed: 0 animal  age  visits priority\n",
       "0          a    cat  2.0       1      yes\n",
       "7          h    cat  2.0       3       no"
      ]
     },
     "execution_count": 63,
     "metadata": {},
     "output_type": "execute_result"
    }
   ],
   "source": [
    "df[(df[\"animal\"]==\"cat\")&(df[\"age\"]<3)] #select the rows where animal is a cat and  thee age is is less than 3"
   ]
  },
  {
   "cell_type": "code",
   "execution_count": 64,
   "id": "02b447cf",
   "metadata": {},
   "outputs": [
    {
     "data": {
      "text/html": [
       "<div>\n",
       "<style scoped>\n",
       "    .dataframe tbody tr th:only-of-type {\n",
       "        vertical-align: middle;\n",
       "    }\n",
       "\n",
       "    .dataframe tbody tr th {\n",
       "        vertical-align: top;\n",
       "    }\n",
       "\n",
       "    .dataframe thead th {\n",
       "        text-align: right;\n",
       "    }\n",
       "</style>\n",
       "<table border=\"1\" class=\"dataframe\">\n",
       "  <thead>\n",
       "    <tr style=\"text-align: right;\">\n",
       "      <th></th>\n",
       "      <th>Unnamed: 0</th>\n",
       "      <th>animal</th>\n",
       "      <th>age</th>\n",
       "      <th>visits</th>\n",
       "      <th>priority</th>\n",
       "    </tr>\n",
       "  </thead>\n",
       "  <tbody>\n",
       "    <tr>\n",
       "      <th>0</th>\n",
       "      <td>a</td>\n",
       "      <td>cat</td>\n",
       "      <td>2.0</td>\n",
       "      <td>1</td>\n",
       "      <td>yes</td>\n",
       "    </tr>\n",
       "    <tr>\n",
       "      <th>1</th>\n",
       "      <td>b</td>\n",
       "      <td>cat</td>\n",
       "      <td>3.0</td>\n",
       "      <td>5</td>\n",
       "      <td>yes</td>\n",
       "    </tr>\n",
       "    <tr>\n",
       "      <th>7</th>\n",
       "      <td>h</td>\n",
       "      <td>cat</td>\n",
       "      <td>2.0</td>\n",
       "      <td>3</td>\n",
       "      <td>no</td>\n",
       "    </tr>\n",
       "    <tr>\n",
       "      <th>8</th>\n",
       "      <td>i</td>\n",
       "      <td>dog</td>\n",
       "      <td>3.0</td>\n",
       "      <td>5</td>\n",
       "      <td>yes</td>\n",
       "    </tr>\n",
       "    <tr>\n",
       "      <th>9</th>\n",
       "      <td>j</td>\n",
       "      <td>dog</td>\n",
       "      <td>2.0</td>\n",
       "      <td>4</td>\n",
       "      <td>yes</td>\n",
       "    </tr>\n",
       "  </tbody>\n",
       "</table>\n",
       "</div>"
      ],
      "text/plain": [
       "  Unnamed: 0 animal  age  visits priority\n",
       "0          a    cat  2.0       1      yes\n",
       "1          b    cat  3.0       5      yes\n",
       "7          h    cat  2.0       3       no\n",
       "8          i    dog  3.0       5      yes\n",
       "9          j    dog  2.0       4      yes"
      ]
     },
     "execution_count": 64,
     "metadata": {},
     "output_type": "execute_result"
    }
   ],
   "source": [
    "df[df[\"age\"].between(2,4)] #select the rows where the age is between 2 and 4(inclusive)"
   ]
  },
  {
   "cell_type": "code",
   "execution_count": 65,
   "id": "dfb1a5a9",
   "metadata": {},
   "outputs": [
    {
     "data": {
      "text/html": [
       "<div>\n",
       "<style scoped>\n",
       "    .dataframe tbody tr th:only-of-type {\n",
       "        vertical-align: middle;\n",
       "    }\n",
       "\n",
       "    .dataframe tbody tr th {\n",
       "        vertical-align: top;\n",
       "    }\n",
       "\n",
       "    .dataframe thead th {\n",
       "        text-align: right;\n",
       "    }\n",
       "</style>\n",
       "<table border=\"1\" class=\"dataframe\">\n",
       "  <thead>\n",
       "    <tr style=\"text-align: right;\">\n",
       "      <th></th>\n",
       "      <th>Unnamed: 0</th>\n",
       "      <th>animal</th>\n",
       "      <th>age</th>\n",
       "      <th>visits</th>\n",
       "      <th>priority</th>\n",
       "    </tr>\n",
       "  </thead>\n",
       "  <tbody>\n",
       "    <tr>\n",
       "      <th>0</th>\n",
       "      <td>a</td>\n",
       "      <td>cat</td>\n",
       "      <td>2.0</td>\n",
       "      <td>1.0</td>\n",
       "      <td>yes</td>\n",
       "    </tr>\n",
       "    <tr>\n",
       "      <th>1</th>\n",
       "      <td>b</td>\n",
       "      <td>cat</td>\n",
       "      <td>3.0</td>\n",
       "      <td>5.0</td>\n",
       "      <td>yes</td>\n",
       "    </tr>\n",
       "    <tr>\n",
       "      <th>2</th>\n",
       "      <td>c</td>\n",
       "      <td>snake</td>\n",
       "      <td>5.0</td>\n",
       "      <td>2.0</td>\n",
       "      <td>no</td>\n",
       "    </tr>\n",
       "    <tr>\n",
       "      <th>3</th>\n",
       "      <td>d</td>\n",
       "      <td>dog</td>\n",
       "      <td>NaN</td>\n",
       "      <td>4.0</td>\n",
       "      <td>yes</td>\n",
       "    </tr>\n",
       "    <tr>\n",
       "      <th>4</th>\n",
       "      <td>e</td>\n",
       "      <td>dog</td>\n",
       "      <td>6.0</td>\n",
       "      <td>7.0</td>\n",
       "      <td>no</td>\n",
       "    </tr>\n",
       "    <tr>\n",
       "      <th>5</th>\n",
       "      <td>f</td>\n",
       "      <td>cat</td>\n",
       "      <td>9.0</td>\n",
       "      <td>3.0</td>\n",
       "      <td>no</td>\n",
       "    </tr>\n",
       "    <tr>\n",
       "      <th>6</th>\n",
       "      <td>g</td>\n",
       "      <td>snake</td>\n",
       "      <td>1.0</td>\n",
       "      <td>9.0</td>\n",
       "      <td>yes</td>\n",
       "    </tr>\n",
       "    <tr>\n",
       "      <th>7</th>\n",
       "      <td>h</td>\n",
       "      <td>cat</td>\n",
       "      <td>2.0</td>\n",
       "      <td>3.0</td>\n",
       "      <td>no</td>\n",
       "    </tr>\n",
       "    <tr>\n",
       "      <th>8</th>\n",
       "      <td>i</td>\n",
       "      <td>dog</td>\n",
       "      <td>3.0</td>\n",
       "      <td>5.0</td>\n",
       "      <td>yes</td>\n",
       "    </tr>\n",
       "    <tr>\n",
       "      <th>9</th>\n",
       "      <td>j</td>\n",
       "      <td>dog</td>\n",
       "      <td>2.0</td>\n",
       "      <td>4.0</td>\n",
       "      <td>yes</td>\n",
       "    </tr>\n",
       "    <tr>\n",
       "      <th>f</th>\n",
       "      <td>NaN</td>\n",
       "      <td>NaN</td>\n",
       "      <td>1.5</td>\n",
       "      <td>NaN</td>\n",
       "      <td>NaN</td>\n",
       "    </tr>\n",
       "  </tbody>\n",
       "</table>\n",
       "</div>"
      ],
      "text/plain": [
       "  Unnamed: 0 animal  age  visits priority\n",
       "0          a    cat  2.0     1.0      yes\n",
       "1          b    cat  3.0     5.0      yes\n",
       "2          c  snake  5.0     2.0       no\n",
       "3          d    dog  NaN     4.0      yes\n",
       "4          e    dog  6.0     7.0       no\n",
       "5          f    cat  9.0     3.0       no\n",
       "6          g  snake  1.0     9.0      yes\n",
       "7          h    cat  2.0     3.0       no\n",
       "8          i    dog  3.0     5.0      yes\n",
       "9          j    dog  2.0     4.0      yes\n",
       "f        NaN    NaN  1.5     NaN      NaN"
      ]
     },
     "execution_count": 65,
     "metadata": {},
     "output_type": "execute_result"
    }
   ],
   "source": [
    "#change the age in row f to 1.5\n",
    "df.loc[\"f\",\"age\"]=1.5 #assigning new value to the row f of age\n",
    "df"
   ]
  },
  {
   "cell_type": "code",
   "execution_count": 67,
   "id": "4ac59f62",
   "metadata": {},
   "outputs": [
    {
     "data": {
      "text/plain": [
       "43.0"
      ]
     },
     "execution_count": 67,
     "metadata": {},
     "output_type": "execute_result"
    }
   ],
   "source": [
    "#calculate the sum of values in a column of df\n",
    "df[\"visits\"].sum()"
   ]
  },
  {
   "cell_type": "code",
   "execution_count": 68,
   "id": "f78a9136",
   "metadata": {},
   "outputs": [
    {
     "data": {
      "text/plain": [
       "animal\n",
       "cat      4.000000\n",
       "dog      3.666667\n",
       "snake    3.000000\n",
       "Name: age, dtype: float64"
      ]
     },
     "execution_count": 68,
     "metadata": {},
     "output_type": "execute_result"
    }
   ],
   "source": [
    "#calculate the mean age for each different animal in df \n",
    "#grouping data and finding mean\n",
    "df.groupby(\"animal\")[\"age\"].mean()"
   ]
  },
  {
   "cell_type": "code",
   "execution_count": 69,
   "id": "b61cbf2b",
   "metadata": {},
   "outputs": [
    {
     "data": {
      "text/plain": [
       "animal\n",
       "cat      4\n",
       "dog      4\n",
       "snake    2\n",
       "Name: count, dtype: int64"
      ]
     },
     "execution_count": 69,
     "metadata": {},
     "output_type": "execute_result"
    }
   ],
   "source": [
    "#count the number of rows in a column\n",
    "df[\"animal\"].value_counts()"
   ]
  },
  {
   "cell_type": "code",
   "execution_count": 70,
   "id": "14acb979",
   "metadata": {},
   "outputs": [
    {
     "data": {
      "text/html": [
       "<div>\n",
       "<style scoped>\n",
       "    .dataframe tbody tr th:only-of-type {\n",
       "        vertical-align: middle;\n",
       "    }\n",
       "\n",
       "    .dataframe tbody tr th {\n",
       "        vertical-align: top;\n",
       "    }\n",
       "\n",
       "    .dataframe thead th {\n",
       "        text-align: right;\n",
       "    }\n",
       "</style>\n",
       "<table border=\"1\" class=\"dataframe\">\n",
       "  <thead>\n",
       "    <tr style=\"text-align: right;\">\n",
       "      <th></th>\n",
       "      <th>Unnamed: 0</th>\n",
       "      <th>animal</th>\n",
       "      <th>age</th>\n",
       "      <th>visits</th>\n",
       "      <th>priority</th>\n",
       "    </tr>\n",
       "  </thead>\n",
       "  <tbody>\n",
       "    <tr>\n",
       "      <th>0</th>\n",
       "      <td>a</td>\n",
       "      <td>cat</td>\n",
       "      <td>2.0</td>\n",
       "      <td>1.0</td>\n",
       "      <td>yes</td>\n",
       "    </tr>\n",
       "    <tr>\n",
       "      <th>2</th>\n",
       "      <td>c</td>\n",
       "      <td>snake</td>\n",
       "      <td>5.0</td>\n",
       "      <td>2.0</td>\n",
       "      <td>no</td>\n",
       "    </tr>\n",
       "    <tr>\n",
       "      <th>5</th>\n",
       "      <td>f</td>\n",
       "      <td>cat</td>\n",
       "      <td>9.0</td>\n",
       "      <td>3.0</td>\n",
       "      <td>no</td>\n",
       "    </tr>\n",
       "    <tr>\n",
       "      <th>7</th>\n",
       "      <td>h</td>\n",
       "      <td>cat</td>\n",
       "      <td>2.0</td>\n",
       "      <td>3.0</td>\n",
       "      <td>no</td>\n",
       "    </tr>\n",
       "    <tr>\n",
       "      <th>3</th>\n",
       "      <td>d</td>\n",
       "      <td>dog</td>\n",
       "      <td>NaN</td>\n",
       "      <td>4.0</td>\n",
       "      <td>yes</td>\n",
       "    </tr>\n",
       "    <tr>\n",
       "      <th>9</th>\n",
       "      <td>j</td>\n",
       "      <td>dog</td>\n",
       "      <td>2.0</td>\n",
       "      <td>4.0</td>\n",
       "      <td>yes</td>\n",
       "    </tr>\n",
       "    <tr>\n",
       "      <th>1</th>\n",
       "      <td>b</td>\n",
       "      <td>cat</td>\n",
       "      <td>3.0</td>\n",
       "      <td>5.0</td>\n",
       "      <td>yes</td>\n",
       "    </tr>\n",
       "    <tr>\n",
       "      <th>8</th>\n",
       "      <td>i</td>\n",
       "      <td>dog</td>\n",
       "      <td>3.0</td>\n",
       "      <td>5.0</td>\n",
       "      <td>yes</td>\n",
       "    </tr>\n",
       "    <tr>\n",
       "      <th>4</th>\n",
       "      <td>e</td>\n",
       "      <td>dog</td>\n",
       "      <td>6.0</td>\n",
       "      <td>7.0</td>\n",
       "      <td>no</td>\n",
       "    </tr>\n",
       "    <tr>\n",
       "      <th>6</th>\n",
       "      <td>g</td>\n",
       "      <td>snake</td>\n",
       "      <td>1.0</td>\n",
       "      <td>9.0</td>\n",
       "      <td>yes</td>\n",
       "    </tr>\n",
       "    <tr>\n",
       "      <th>f</th>\n",
       "      <td>NaN</td>\n",
       "      <td>NaN</td>\n",
       "      <td>1.5</td>\n",
       "      <td>NaN</td>\n",
       "      <td>NaN</td>\n",
       "    </tr>\n",
       "  </tbody>\n",
       "</table>\n",
       "</div>"
      ],
      "text/plain": [
       "  Unnamed: 0 animal  age  visits priority\n",
       "0          a    cat  2.0     1.0      yes\n",
       "2          c  snake  5.0     2.0       no\n",
       "5          f    cat  9.0     3.0       no\n",
       "7          h    cat  2.0     3.0       no\n",
       "3          d    dog  NaN     4.0      yes\n",
       "9          j    dog  2.0     4.0      yes\n",
       "1          b    cat  3.0     5.0      yes\n",
       "8          i    dog  3.0     5.0      yes\n",
       "4          e    dog  6.0     7.0       no\n",
       "6          g  snake  1.0     9.0      yes\n",
       "f        NaN    NaN  1.5     NaN      NaN"
      ]
     },
     "execution_count": 70,
     "metadata": {},
     "output_type": "execute_result"
    }
   ],
   "source": [
    "#sort dataframe first by the values in age in descending order, then by the value in the visits column in ascending order\n",
    "#row i should be first and row d shoud be last\n",
    "df.sort_values(by=[\"visits\"],ascending=[True])"
   ]
  },
  {
   "cell_type": "code",
   "execution_count": 71,
   "id": "fdc20ac5",
   "metadata": {},
   "outputs": [],
   "source": [
    "#the \"priority\" column contains the values \"yes\" and \"no\". replace this colomn of boolean values: \n",
    "#\"yes\" should be True and \"no\"  should be false\n"
   ]
  },
  {
   "cell_type": "markdown",
   "id": "d4e25f53",
   "metadata": {},
   "source": [
    "Creating a dataframe using random values "
   ]
  },
  {
   "cell_type": "code",
   "execution_count": 72,
   "id": "c3313aae",
   "metadata": {},
   "outputs": [],
   "source": [
    "import random"
   ]
  },
  {
   "cell_type": "code",
   "execution_count": 77,
   "id": "86e13eb0",
   "metadata": {},
   "outputs": [
    {
     "name": "stdout",
     "output_type": "stream",
     "text": [
      "          0         1         2\n",
      "0  0.576439  0.208590  0.900620\n",
      "1  0.249308  0.623186  0.679939\n",
      "2  0.291226  0.740169  0.055705\n",
      "3  0.550236  0.756831  0.465894\n",
      "4  0.697904  0.168687  0.007942\n"
     ]
    }
   ],
   "source": [
    "df3=pd.DataFrame(np.random.random(size=(5,3)))\n",
    "print(df3)"
   ]
  },
  {
   "cell_type": "code",
   "execution_count": 79,
   "id": "4d0c3f54",
   "metadata": {},
   "outputs": [
    {
     "data": {
      "text/html": [
       "<div>\n",
       "<style scoped>\n",
       "    .dataframe tbody tr th:only-of-type {\n",
       "        vertical-align: middle;\n",
       "    }\n",
       "\n",
       "    .dataframe tbody tr th {\n",
       "        vertical-align: top;\n",
       "    }\n",
       "\n",
       "    .dataframe thead th {\n",
       "        text-align: right;\n",
       "    }\n",
       "</style>\n",
       "<table border=\"1\" class=\"dataframe\">\n",
       "  <thead>\n",
       "    <tr style=\"text-align: right;\">\n",
       "      <th></th>\n",
       "      <th>0</th>\n",
       "      <th>1</th>\n",
       "      <th>2</th>\n",
       "    </tr>\n",
       "  </thead>\n",
       "  <tbody>\n",
       "    <tr>\n",
       "      <th>0</th>\n",
       "      <td>0.014556</td>\n",
       "      <td>-0.353293</td>\n",
       "      <td>0.338737</td>\n",
       "    </tr>\n",
       "    <tr>\n",
       "      <th>1</th>\n",
       "      <td>-0.268170</td>\n",
       "      <td>0.105709</td>\n",
       "      <td>0.162461</td>\n",
       "    </tr>\n",
       "    <tr>\n",
       "      <th>2</th>\n",
       "      <td>-0.071141</td>\n",
       "      <td>0.377803</td>\n",
       "      <td>-0.306662</td>\n",
       "    </tr>\n",
       "    <tr>\n",
       "      <th>3</th>\n",
       "      <td>-0.040751</td>\n",
       "      <td>0.165844</td>\n",
       "      <td>-0.125093</td>\n",
       "    </tr>\n",
       "    <tr>\n",
       "      <th>4</th>\n",
       "      <td>0.406393</td>\n",
       "      <td>-0.122824</td>\n",
       "      <td>-0.283569</td>\n",
       "    </tr>\n",
       "  </tbody>\n",
       "</table>\n",
       "</div>"
      ],
      "text/plain": [
       "          0         1         2\n",
       "0  0.014556 -0.353293  0.338737\n",
       "1 -0.268170  0.105709  0.162461\n",
       "2 -0.071141  0.377803 -0.306662\n",
       "3 -0.040751  0.165844 -0.125093\n",
       "4  0.406393 -0.122824 -0.283569"
      ]
     },
     "execution_count": 79,
     "metadata": {},
     "output_type": "execute_result"
    }
   ],
   "source": [
    "df3.sub(df3.mean(axis=1),axis=0) #axis=1 means column and axis=0 means row\n",
    "#sub function performs subtraction \n",
    "#we are finding mean deviation perhaps"
   ]
  },
  {
   "cell_type": "markdown",
   "id": "d9ab35fa",
   "metadata": {},
   "source": [
    " filtering data in pandas"
   ]
  },
  {
   "cell_type": "code",
   "execution_count": 80,
   "id": "8b6e431c",
   "metadata": {},
   "outputs": [],
   "source": [
    "import pandas as pd"
   ]
  },
  {
   "cell_type": "code",
   "execution_count": 82,
   "id": "a1c92117",
   "metadata": {},
   "outputs": [
    {
     "name": "stdout",
     "output_type": "stream",
     "text": [
      "  Unnamed: 0 animal  age  visits priority\n",
      "1          b    cat  3.0     5.0      yes\n",
      "4          e    dog  6.0     7.0       no\n",
      "6          g  snake  1.0     9.0      yes\n",
      "8          i    dog  3.0     5.0      yes\n"
     ]
    }
   ],
   "source": [
    "filtered_df=df.query(\"visits>=5\") #we filter rows using query\n",
    "print(filtered_df)"
   ]
  },
  {
   "cell_type": "markdown",
   "id": "3adc8ecb",
   "metadata": {},
   "source": [
    "# data analysis in python"
   ]
  },
  {
   "cell_type": "code",
   "execution_count": 88,
   "id": "dbb4b92a",
   "metadata": {},
   "outputs": [
    {
     "data": {
      "text/html": [
       "<div>\n",
       "<style scoped>\n",
       "    .dataframe tbody tr th:only-of-type {\n",
       "        vertical-align: middle;\n",
       "    }\n",
       "\n",
       "    .dataframe tbody tr th {\n",
       "        vertical-align: top;\n",
       "    }\n",
       "\n",
       "    .dataframe thead th {\n",
       "        text-align: right;\n",
       "    }\n",
       "</style>\n",
       "<table border=\"1\" class=\"dataframe\">\n",
       "  <thead>\n",
       "    <tr style=\"text-align: right;\">\n",
       "      <th></th>\n",
       "      <th>PassengerId</th>\n",
       "      <th>Survived</th>\n",
       "      <th>Pclass</th>\n",
       "      <th>Name</th>\n",
       "      <th>Sex</th>\n",
       "      <th>Age</th>\n",
       "      <th>SibSp</th>\n",
       "      <th>Parch</th>\n",
       "      <th>Ticket</th>\n",
       "      <th>Fare</th>\n",
       "      <th>Cabin</th>\n",
       "      <th>Embarked</th>\n",
       "    </tr>\n",
       "  </thead>\n",
       "  <tbody>\n",
       "    <tr>\n",
       "      <th>0</th>\n",
       "      <td>1</td>\n",
       "      <td>0</td>\n",
       "      <td>3</td>\n",
       "      <td>Braund, Mr. Owen Harris</td>\n",
       "      <td>male</td>\n",
       "      <td>22.0</td>\n",
       "      <td>1</td>\n",
       "      <td>0</td>\n",
       "      <td>A/5 21171</td>\n",
       "      <td>7.2500</td>\n",
       "      <td>NaN</td>\n",
       "      <td>S</td>\n",
       "    </tr>\n",
       "    <tr>\n",
       "      <th>1</th>\n",
       "      <td>2</td>\n",
       "      <td>1</td>\n",
       "      <td>1</td>\n",
       "      <td>Cumings, Mrs. John Bradley (Florence Briggs Th...</td>\n",
       "      <td>female</td>\n",
       "      <td>38.0</td>\n",
       "      <td>1</td>\n",
       "      <td>0</td>\n",
       "      <td>PC 17599</td>\n",
       "      <td>71.2833</td>\n",
       "      <td>C85</td>\n",
       "      <td>C</td>\n",
       "    </tr>\n",
       "    <tr>\n",
       "      <th>2</th>\n",
       "      <td>3</td>\n",
       "      <td>1</td>\n",
       "      <td>3</td>\n",
       "      <td>Heikkinen, Miss. Laina</td>\n",
       "      <td>female</td>\n",
       "      <td>26.0</td>\n",
       "      <td>0</td>\n",
       "      <td>0</td>\n",
       "      <td>STON/O2. 3101282</td>\n",
       "      <td>7.9250</td>\n",
       "      <td>NaN</td>\n",
       "      <td>S</td>\n",
       "    </tr>\n",
       "    <tr>\n",
       "      <th>3</th>\n",
       "      <td>4</td>\n",
       "      <td>1</td>\n",
       "      <td>1</td>\n",
       "      <td>Futrelle, Mrs. Jacques Heath (Lily May Peel)</td>\n",
       "      <td>female</td>\n",
       "      <td>35.0</td>\n",
       "      <td>1</td>\n",
       "      <td>0</td>\n",
       "      <td>113803</td>\n",
       "      <td>53.1000</td>\n",
       "      <td>C123</td>\n",
       "      <td>S</td>\n",
       "    </tr>\n",
       "    <tr>\n",
       "      <th>4</th>\n",
       "      <td>5</td>\n",
       "      <td>0</td>\n",
       "      <td>3</td>\n",
       "      <td>Allen, Mr. William Henry</td>\n",
       "      <td>male</td>\n",
       "      <td>35.0</td>\n",
       "      <td>0</td>\n",
       "      <td>0</td>\n",
       "      <td>373450</td>\n",
       "      <td>8.0500</td>\n",
       "      <td>NaN</td>\n",
       "      <td>S</td>\n",
       "    </tr>\n",
       "  </tbody>\n",
       "</table>\n",
       "</div>"
      ],
      "text/plain": [
       "   PassengerId  Survived  Pclass  \\\n",
       "0            1         0       3   \n",
       "1            2         1       1   \n",
       "2            3         1       3   \n",
       "3            4         1       1   \n",
       "4            5         0       3   \n",
       "\n",
       "                                                Name     Sex   Age  SibSp  \\\n",
       "0                            Braund, Mr. Owen Harris    male  22.0      1   \n",
       "1  Cumings, Mrs. John Bradley (Florence Briggs Th...  female  38.0      1   \n",
       "2                             Heikkinen, Miss. Laina  female  26.0      0   \n",
       "3       Futrelle, Mrs. Jacques Heath (Lily May Peel)  female  35.0      1   \n",
       "4                           Allen, Mr. William Henry    male  35.0      0   \n",
       "\n",
       "   Parch            Ticket     Fare Cabin Embarked  \n",
       "0      0         A/5 21171   7.2500   NaN        S  \n",
       "1      0          PC 17599  71.2833   C85        C  \n",
       "2      0  STON/O2. 3101282   7.9250   NaN        S  \n",
       "3      0            113803  53.1000  C123        S  \n",
       "4      0            373450   8.0500   NaN        S  "
      ]
     },
     "execution_count": 88,
     "metadata": {},
     "output_type": "execute_result"
    }
   ],
   "source": [
    "import pandas as pd\n",
    "\n",
    "df=pd.read_csv(r\"C:\\Users\\Vaishnavi\\Desktop\\python datasets\\titanic.csv\")\n",
    "df.head()"
   ]
  },
  {
   "cell_type": "markdown",
   "id": "9e63dcb7",
   "metadata": {},
   "source": [
    "get the no of row and coloumns of the dataframe"
   ]
  },
  {
   "cell_type": "code",
   "execution_count": 90,
   "id": "60ab792b",
   "metadata": {},
   "outputs": [
    {
     "data": {
      "text/plain": [
       "(891, 12)"
      ]
     },
     "execution_count": 90,
     "metadata": {},
     "output_type": "execute_result"
    }
   ],
   "source": [
    "df.shape "
   ]
  },
  {
   "cell_type": "markdown",
   "id": "842a521e",
   "metadata": {},
   "source": [
    "summary of only the numerical info in the dataset"
   ]
  },
  {
   "cell_type": "code",
   "execution_count": 91,
   "id": "4f3c2886",
   "metadata": {},
   "outputs": [
    {
     "data": {
      "text/html": [
       "<div>\n",
       "<style scoped>\n",
       "    .dataframe tbody tr th:only-of-type {\n",
       "        vertical-align: middle;\n",
       "    }\n",
       "\n",
       "    .dataframe tbody tr th {\n",
       "        vertical-align: top;\n",
       "    }\n",
       "\n",
       "    .dataframe thead th {\n",
       "        text-align: right;\n",
       "    }\n",
       "</style>\n",
       "<table border=\"1\" class=\"dataframe\">\n",
       "  <thead>\n",
       "    <tr style=\"text-align: right;\">\n",
       "      <th></th>\n",
       "      <th>PassengerId</th>\n",
       "      <th>Survived</th>\n",
       "      <th>Pclass</th>\n",
       "      <th>Age</th>\n",
       "      <th>SibSp</th>\n",
       "      <th>Parch</th>\n",
       "      <th>Fare</th>\n",
       "    </tr>\n",
       "  </thead>\n",
       "  <tbody>\n",
       "    <tr>\n",
       "      <th>count</th>\n",
       "      <td>891.000000</td>\n",
       "      <td>891.000000</td>\n",
       "      <td>891.000000</td>\n",
       "      <td>714.000000</td>\n",
       "      <td>891.000000</td>\n",
       "      <td>891.000000</td>\n",
       "      <td>891.000000</td>\n",
       "    </tr>\n",
       "    <tr>\n",
       "      <th>mean</th>\n",
       "      <td>446.000000</td>\n",
       "      <td>0.383838</td>\n",
       "      <td>2.308642</td>\n",
       "      <td>29.699118</td>\n",
       "      <td>0.523008</td>\n",
       "      <td>0.381594</td>\n",
       "      <td>32.204208</td>\n",
       "    </tr>\n",
       "    <tr>\n",
       "      <th>std</th>\n",
       "      <td>257.353842</td>\n",
       "      <td>0.486592</td>\n",
       "      <td>0.836071</td>\n",
       "      <td>14.526497</td>\n",
       "      <td>1.102743</td>\n",
       "      <td>0.806057</td>\n",
       "      <td>49.693429</td>\n",
       "    </tr>\n",
       "    <tr>\n",
       "      <th>min</th>\n",
       "      <td>1.000000</td>\n",
       "      <td>0.000000</td>\n",
       "      <td>1.000000</td>\n",
       "      <td>0.420000</td>\n",
       "      <td>0.000000</td>\n",
       "      <td>0.000000</td>\n",
       "      <td>0.000000</td>\n",
       "    </tr>\n",
       "    <tr>\n",
       "      <th>25%</th>\n",
       "      <td>223.500000</td>\n",
       "      <td>0.000000</td>\n",
       "      <td>2.000000</td>\n",
       "      <td>20.125000</td>\n",
       "      <td>0.000000</td>\n",
       "      <td>0.000000</td>\n",
       "      <td>7.910400</td>\n",
       "    </tr>\n",
       "    <tr>\n",
       "      <th>50%</th>\n",
       "      <td>446.000000</td>\n",
       "      <td>0.000000</td>\n",
       "      <td>3.000000</td>\n",
       "      <td>28.000000</td>\n",
       "      <td>0.000000</td>\n",
       "      <td>0.000000</td>\n",
       "      <td>14.454200</td>\n",
       "    </tr>\n",
       "    <tr>\n",
       "      <th>75%</th>\n",
       "      <td>668.500000</td>\n",
       "      <td>1.000000</td>\n",
       "      <td>3.000000</td>\n",
       "      <td>38.000000</td>\n",
       "      <td>1.000000</td>\n",
       "      <td>0.000000</td>\n",
       "      <td>31.000000</td>\n",
       "    </tr>\n",
       "    <tr>\n",
       "      <th>max</th>\n",
       "      <td>891.000000</td>\n",
       "      <td>1.000000</td>\n",
       "      <td>3.000000</td>\n",
       "      <td>80.000000</td>\n",
       "      <td>8.000000</td>\n",
       "      <td>6.000000</td>\n",
       "      <td>512.329200</td>\n",
       "    </tr>\n",
       "  </tbody>\n",
       "</table>\n",
       "</div>"
      ],
      "text/plain": [
       "       PassengerId    Survived      Pclass         Age       SibSp  \\\n",
       "count   891.000000  891.000000  891.000000  714.000000  891.000000   \n",
       "mean    446.000000    0.383838    2.308642   29.699118    0.523008   \n",
       "std     257.353842    0.486592    0.836071   14.526497    1.102743   \n",
       "min       1.000000    0.000000    1.000000    0.420000    0.000000   \n",
       "25%     223.500000    0.000000    2.000000   20.125000    0.000000   \n",
       "50%     446.000000    0.000000    3.000000   28.000000    0.000000   \n",
       "75%     668.500000    1.000000    3.000000   38.000000    1.000000   \n",
       "max     891.000000    1.000000    3.000000   80.000000    8.000000   \n",
       "\n",
       "            Parch        Fare  \n",
       "count  891.000000  891.000000  \n",
       "mean     0.381594   32.204208  \n",
       "std      0.806057   49.693429  \n",
       "min      0.000000    0.000000  \n",
       "25%      0.000000    7.910400  \n",
       "50%      0.000000   14.454200  \n",
       "75%      0.000000   31.000000  \n",
       "max      6.000000  512.329200  "
      ]
     },
     "execution_count": 91,
     "metadata": {},
     "output_type": "execute_result"
    }
   ],
   "source": [
    "df.describe() #only numeric values are described"
   ]
  },
  {
   "cell_type": "code",
   "execution_count": 92,
   "id": "6f190bc2",
   "metadata": {},
   "outputs": [
    {
     "data": {
      "text/html": [
       "<div>\n",
       "<style scoped>\n",
       "    .dataframe tbody tr th:only-of-type {\n",
       "        vertical-align: middle;\n",
       "    }\n",
       "\n",
       "    .dataframe tbody tr th {\n",
       "        vertical-align: top;\n",
       "    }\n",
       "\n",
       "    .dataframe thead th {\n",
       "        text-align: right;\n",
       "    }\n",
       "</style>\n",
       "<table border=\"1\" class=\"dataframe\">\n",
       "  <thead>\n",
       "    <tr style=\"text-align: right;\">\n",
       "      <th></th>\n",
       "      <th>Name</th>\n",
       "      <th>Sex</th>\n",
       "      <th>Ticket</th>\n",
       "      <th>Cabin</th>\n",
       "      <th>Embarked</th>\n",
       "    </tr>\n",
       "  </thead>\n",
       "  <tbody>\n",
       "    <tr>\n",
       "      <th>count</th>\n",
       "      <td>891</td>\n",
       "      <td>891</td>\n",
       "      <td>891</td>\n",
       "      <td>204</td>\n",
       "      <td>889</td>\n",
       "    </tr>\n",
       "    <tr>\n",
       "      <th>unique</th>\n",
       "      <td>891</td>\n",
       "      <td>2</td>\n",
       "      <td>681</td>\n",
       "      <td>147</td>\n",
       "      <td>3</td>\n",
       "    </tr>\n",
       "    <tr>\n",
       "      <th>top</th>\n",
       "      <td>Braund, Mr. Owen Harris</td>\n",
       "      <td>male</td>\n",
       "      <td>347082</td>\n",
       "      <td>B96 B98</td>\n",
       "      <td>S</td>\n",
       "    </tr>\n",
       "    <tr>\n",
       "      <th>freq</th>\n",
       "      <td>1</td>\n",
       "      <td>577</td>\n",
       "      <td>7</td>\n",
       "      <td>4</td>\n",
       "      <td>644</td>\n",
       "    </tr>\n",
       "  </tbody>\n",
       "</table>\n",
       "</div>"
      ],
      "text/plain": [
       "                           Name   Sex  Ticket    Cabin Embarked\n",
       "count                       891   891     891      204      889\n",
       "unique                      891     2     681      147        3\n",
       "top     Braund, Mr. Owen Harris  male  347082  B96 B98        S\n",
       "freq                          1   577       7        4      644"
      ]
     },
     "execution_count": 92,
     "metadata": {},
     "output_type": "execute_result"
    }
   ],
   "source": [
    "df.describe(include=\"object\") #summary of string values is included now"
   ]
  },
  {
   "cell_type": "markdown",
   "id": "83abeb49",
   "metadata": {},
   "source": [
    "delete a column or row"
   ]
  },
  {
   "cell_type": "code",
   "execution_count": 95,
   "id": "c62a42c6",
   "metadata": {},
   "outputs": [
    {
     "data": {
      "text/html": [
       "<div>\n",
       "<style scoped>\n",
       "    .dataframe tbody tr th:only-of-type {\n",
       "        vertical-align: middle;\n",
       "    }\n",
       "\n",
       "    .dataframe tbody tr th {\n",
       "        vertical-align: top;\n",
       "    }\n",
       "\n",
       "    .dataframe thead th {\n",
       "        text-align: right;\n",
       "    }\n",
       "</style>\n",
       "<table border=\"1\" class=\"dataframe\">\n",
       "  <thead>\n",
       "    <tr style=\"text-align: right;\">\n",
       "      <th></th>\n",
       "      <th>Survived</th>\n",
       "      <th>Pclass</th>\n",
       "      <th>Name</th>\n",
       "      <th>Sex</th>\n",
       "      <th>Age</th>\n",
       "      <th>SibSp</th>\n",
       "      <th>Parch</th>\n",
       "      <th>Ticket</th>\n",
       "      <th>Fare</th>\n",
       "      <th>Cabin</th>\n",
       "      <th>Embarked</th>\n",
       "    </tr>\n",
       "  </thead>\n",
       "  <tbody>\n",
       "    <tr>\n",
       "      <th>0</th>\n",
       "      <td>0</td>\n",
       "      <td>3</td>\n",
       "      <td>Braund, Mr. Owen Harris</td>\n",
       "      <td>male</td>\n",
       "      <td>22.0</td>\n",
       "      <td>1</td>\n",
       "      <td>0</td>\n",
       "      <td>A/5 21171</td>\n",
       "      <td>7.2500</td>\n",
       "      <td>NaN</td>\n",
       "      <td>S</td>\n",
       "    </tr>\n",
       "    <tr>\n",
       "      <th>1</th>\n",
       "      <td>1</td>\n",
       "      <td>1</td>\n",
       "      <td>Cumings, Mrs. John Bradley (Florence Briggs Th...</td>\n",
       "      <td>female</td>\n",
       "      <td>38.0</td>\n",
       "      <td>1</td>\n",
       "      <td>0</td>\n",
       "      <td>PC 17599</td>\n",
       "      <td>71.2833</td>\n",
       "      <td>C85</td>\n",
       "      <td>C</td>\n",
       "    </tr>\n",
       "    <tr>\n",
       "      <th>2</th>\n",
       "      <td>1</td>\n",
       "      <td>3</td>\n",
       "      <td>Heikkinen, Miss. Laina</td>\n",
       "      <td>female</td>\n",
       "      <td>26.0</td>\n",
       "      <td>0</td>\n",
       "      <td>0</td>\n",
       "      <td>STON/O2. 3101282</td>\n",
       "      <td>7.9250</td>\n",
       "      <td>NaN</td>\n",
       "      <td>S</td>\n",
       "    </tr>\n",
       "    <tr>\n",
       "      <th>3</th>\n",
       "      <td>1</td>\n",
       "      <td>1</td>\n",
       "      <td>Futrelle, Mrs. Jacques Heath (Lily May Peel)</td>\n",
       "      <td>female</td>\n",
       "      <td>35.0</td>\n",
       "      <td>1</td>\n",
       "      <td>0</td>\n",
       "      <td>113803</td>\n",
       "      <td>53.1000</td>\n",
       "      <td>C123</td>\n",
       "      <td>S</td>\n",
       "    </tr>\n",
       "    <tr>\n",
       "      <th>4</th>\n",
       "      <td>0</td>\n",
       "      <td>3</td>\n",
       "      <td>Allen, Mr. William Henry</td>\n",
       "      <td>male</td>\n",
       "      <td>35.0</td>\n",
       "      <td>0</td>\n",
       "      <td>0</td>\n",
       "      <td>373450</td>\n",
       "      <td>8.0500</td>\n",
       "      <td>NaN</td>\n",
       "      <td>S</td>\n",
       "    </tr>\n",
       "    <tr>\n",
       "      <th>...</th>\n",
       "      <td>...</td>\n",
       "      <td>...</td>\n",
       "      <td>...</td>\n",
       "      <td>...</td>\n",
       "      <td>...</td>\n",
       "      <td>...</td>\n",
       "      <td>...</td>\n",
       "      <td>...</td>\n",
       "      <td>...</td>\n",
       "      <td>...</td>\n",
       "      <td>...</td>\n",
       "    </tr>\n",
       "    <tr>\n",
       "      <th>886</th>\n",
       "      <td>0</td>\n",
       "      <td>2</td>\n",
       "      <td>Montvila, Rev. Juozas</td>\n",
       "      <td>male</td>\n",
       "      <td>27.0</td>\n",
       "      <td>0</td>\n",
       "      <td>0</td>\n",
       "      <td>211536</td>\n",
       "      <td>13.0000</td>\n",
       "      <td>NaN</td>\n",
       "      <td>S</td>\n",
       "    </tr>\n",
       "    <tr>\n",
       "      <th>887</th>\n",
       "      <td>1</td>\n",
       "      <td>1</td>\n",
       "      <td>Graham, Miss. Margaret Edith</td>\n",
       "      <td>female</td>\n",
       "      <td>19.0</td>\n",
       "      <td>0</td>\n",
       "      <td>0</td>\n",
       "      <td>112053</td>\n",
       "      <td>30.0000</td>\n",
       "      <td>B42</td>\n",
       "      <td>S</td>\n",
       "    </tr>\n",
       "    <tr>\n",
       "      <th>888</th>\n",
       "      <td>0</td>\n",
       "      <td>3</td>\n",
       "      <td>Johnston, Miss. Catherine Helen \"Carrie\"</td>\n",
       "      <td>female</td>\n",
       "      <td>NaN</td>\n",
       "      <td>1</td>\n",
       "      <td>2</td>\n",
       "      <td>W./C. 6607</td>\n",
       "      <td>23.4500</td>\n",
       "      <td>NaN</td>\n",
       "      <td>S</td>\n",
       "    </tr>\n",
       "    <tr>\n",
       "      <th>889</th>\n",
       "      <td>1</td>\n",
       "      <td>1</td>\n",
       "      <td>Behr, Mr. Karl Howell</td>\n",
       "      <td>male</td>\n",
       "      <td>26.0</td>\n",
       "      <td>0</td>\n",
       "      <td>0</td>\n",
       "      <td>111369</td>\n",
       "      <td>30.0000</td>\n",
       "      <td>C148</td>\n",
       "      <td>C</td>\n",
       "    </tr>\n",
       "    <tr>\n",
       "      <th>890</th>\n",
       "      <td>0</td>\n",
       "      <td>3</td>\n",
       "      <td>Dooley, Mr. Patrick</td>\n",
       "      <td>male</td>\n",
       "      <td>32.0</td>\n",
       "      <td>0</td>\n",
       "      <td>0</td>\n",
       "      <td>370376</td>\n",
       "      <td>7.7500</td>\n",
       "      <td>NaN</td>\n",
       "      <td>Q</td>\n",
       "    </tr>\n",
       "  </tbody>\n",
       "</table>\n",
       "<p>891 rows × 11 columns</p>\n",
       "</div>"
      ],
      "text/plain": [
       "     Survived  Pclass                                               Name  \\\n",
       "0           0       3                            Braund, Mr. Owen Harris   \n",
       "1           1       1  Cumings, Mrs. John Bradley (Florence Briggs Th...   \n",
       "2           1       3                             Heikkinen, Miss. Laina   \n",
       "3           1       1       Futrelle, Mrs. Jacques Heath (Lily May Peel)   \n",
       "4           0       3                           Allen, Mr. William Henry   \n",
       "..        ...     ...                                                ...   \n",
       "886         0       2                              Montvila, Rev. Juozas   \n",
       "887         1       1                       Graham, Miss. Margaret Edith   \n",
       "888         0       3           Johnston, Miss. Catherine Helen \"Carrie\"   \n",
       "889         1       1                              Behr, Mr. Karl Howell   \n",
       "890         0       3                                Dooley, Mr. Patrick   \n",
       "\n",
       "        Sex   Age  SibSp  Parch            Ticket     Fare Cabin Embarked  \n",
       "0      male  22.0      1      0         A/5 21171   7.2500   NaN        S  \n",
       "1    female  38.0      1      0          PC 17599  71.2833   C85        C  \n",
       "2    female  26.0      0      0  STON/O2. 3101282   7.9250   NaN        S  \n",
       "3    female  35.0      1      0            113803  53.1000  C123        S  \n",
       "4      male  35.0      0      0            373450   8.0500   NaN        S  \n",
       "..      ...   ...    ...    ...               ...      ...   ...      ...  \n",
       "886    male  27.0      0      0            211536  13.0000   NaN        S  \n",
       "887  female  19.0      0      0            112053  30.0000   B42        S  \n",
       "888  female   NaN      1      2        W./C. 6607  23.4500   NaN        S  \n",
       "889    male  26.0      0      0            111369  30.0000  C148        C  \n",
       "890    male  32.0      0      0            370376   7.7500   NaN        Q  \n",
       "\n",
       "[891 rows x 11 columns]"
      ]
     },
     "execution_count": 95,
     "metadata": {},
     "output_type": "execute_result"
    }
   ],
   "source": [
    "df.drop(\"PassengerId\",axis=1,inplace=True) \n",
    "df"
   ]
  },
  {
   "cell_type": "markdown",
   "id": "2d93562d",
   "metadata": {},
   "source": [
    "display the coloumns"
   ]
  },
  {
   "cell_type": "code",
   "execution_count": 97,
   "id": "fe2fb5f5",
   "metadata": {},
   "outputs": [
    {
     "data": {
      "text/plain": [
       "Index(['Survived', 'Pclass', 'Name', 'Sex', 'Age', 'SibSp', 'Parch', 'Ticket',\n",
       "       'Fare', 'Cabin', 'Embarked'],\n",
       "      dtype='object')"
      ]
     },
     "execution_count": 97,
     "metadata": {},
     "output_type": "execute_result"
    }
   ],
   "source": [
    "df.columns"
   ]
  },
  {
   "cell_type": "markdown",
   "id": "2fbee826",
   "metadata": {},
   "source": [
    "check the missing values in df"
   ]
  },
  {
   "cell_type": "code",
   "execution_count": 99,
   "id": "48bbffeb",
   "metadata": {},
   "outputs": [
    {
     "name": "stdout",
     "output_type": "stream",
     "text": [
      "<class 'pandas.core.frame.DataFrame'>\n",
      "RangeIndex: 891 entries, 0 to 890\n",
      "Data columns (total 11 columns):\n",
      " #   Column    Non-Null Count  Dtype  \n",
      "---  ------    --------------  -----  \n",
      " 0   Survived  891 non-null    int64  \n",
      " 1   Pclass    891 non-null    int64  \n",
      " 2   Name      891 non-null    object \n",
      " 3   Sex       891 non-null    object \n",
      " 4   Age       714 non-null    float64\n",
      " 5   SibSp     891 non-null    int64  \n",
      " 6   Parch     891 non-null    int64  \n",
      " 7   Ticket    891 non-null    object \n",
      " 8   Fare      891 non-null    float64\n",
      " 9   Cabin     204 non-null    object \n",
      " 10  Embarked  889 non-null    object \n",
      "dtypes: float64(2), int64(4), object(5)\n",
      "memory usage: 76.7+ KB\n"
     ]
    }
   ],
   "source": [
    "df.info()"
   ]
  },
  {
   "cell_type": "code",
   "execution_count": 100,
   "id": "3bb035b5",
   "metadata": {},
   "outputs": [
    {
     "data": {
      "text/plain": [
       "Survived      0\n",
       "Pclass        0\n",
       "Name          0\n",
       "Sex           0\n",
       "Age         177\n",
       "SibSp         0\n",
       "Parch         0\n",
       "Ticket        0\n",
       "Fare          0\n",
       "Cabin       687\n",
       "Embarked      2\n",
       "dtype: int64"
      ]
     },
     "execution_count": 100,
     "metadata": {},
     "output_type": "execute_result"
    }
   ],
   "source": [
    "df.isnull().sum()  #count of missing values in each column will be generated"
   ]
  },
  {
   "cell_type": "markdown",
   "id": "f18a04d4",
   "metadata": {},
   "source": [
    "fill the missing entries , there are different ways"
   ]
  },
  {
   "cell_type": "code",
   "execution_count": 102,
   "id": "a1519968",
   "metadata": {},
   "outputs": [],
   "source": [
    "df.fillna(method=\"bfill\",inplace=True) #missing values are replaced with its predecessing values "
   ]
  },
  {
   "cell_type": "code",
   "execution_count": 103,
   "id": "51cf6ecd",
   "metadata": {},
   "outputs": [
    {
     "data": {
      "text/plain": [
       "Survived    0\n",
       "Pclass      0\n",
       "Name        0\n",
       "Sex         0\n",
       "Age         0\n",
       "SibSp       0\n",
       "Parch       0\n",
       "Ticket      0\n",
       "Fare        0\n",
       "Cabin       1\n",
       "Embarked    0\n",
       "dtype: int64"
      ]
     },
     "execution_count": 103,
     "metadata": {},
     "output_type": "execute_result"
    }
   ],
   "source": [
    "df.isna().sum() #one missing value is still there in column \"cabin\", this is due to the fact that there wasn't \n",
    "#any predecessing value before the missing value"
   ]
  },
  {
   "cell_type": "markdown",
   "id": "6ed79165",
   "metadata": {},
   "source": [
    "display only the age"
   ]
  },
  {
   "cell_type": "code",
   "execution_count": 104,
   "id": "b0ee549d",
   "metadata": {},
   "outputs": [
    {
     "name": "stdout",
     "output_type": "stream",
     "text": [
      "0      0\n",
      "1      1\n",
      "2      1\n",
      "3      1\n",
      "4      0\n",
      "      ..\n",
      "886    0\n",
      "887    1\n",
      "888    0\n",
      "889    1\n",
      "890    0\n",
      "Name: Survived, Length: 891, dtype: int64\n"
     ]
    }
   ],
   "source": [
    "print(df[\"Survived\"])"
   ]
  },
  {
   "cell_type": "code",
   "execution_count": 105,
   "id": "459bb7eb",
   "metadata": {},
   "outputs": [
    {
     "name": "stdout",
     "output_type": "stream",
     "text": [
      "0      False\n",
      "1      False\n",
      "2      False\n",
      "3      False\n",
      "4      False\n",
      "       ...  \n",
      "886    False\n",
      "887    False\n",
      "888    False\n",
      "889    False\n",
      "890    False\n",
      "Name: Age, Length: 891, dtype: bool\n"
     ]
    }
   ],
   "source": [
    "print(df[\"Age\"]<0)"
   ]
  },
  {
   "cell_type": "code",
   "execution_count": 106,
   "id": "ec5ff581",
   "metadata": {},
   "outputs": [
    {
     "data": {
      "text/html": [
       "<div>\n",
       "<style scoped>\n",
       "    .dataframe tbody tr th:only-of-type {\n",
       "        vertical-align: middle;\n",
       "    }\n",
       "\n",
       "    .dataframe tbody tr th {\n",
       "        vertical-align: top;\n",
       "    }\n",
       "\n",
       "    .dataframe thead th {\n",
       "        text-align: right;\n",
       "    }\n",
       "</style>\n",
       "<table border=\"1\" class=\"dataframe\">\n",
       "  <thead>\n",
       "    <tr style=\"text-align: right;\">\n",
       "      <th></th>\n",
       "      <th>Survived</th>\n",
       "      <th>Pclass</th>\n",
       "      <th>Name</th>\n",
       "      <th>Sex</th>\n",
       "      <th>Age</th>\n",
       "      <th>SibSp</th>\n",
       "      <th>Parch</th>\n",
       "      <th>Ticket</th>\n",
       "      <th>Fare</th>\n",
       "      <th>Cabin</th>\n",
       "      <th>Embarked</th>\n",
       "    </tr>\n",
       "  </thead>\n",
       "  <tbody>\n",
       "    <tr>\n",
       "      <th>0</th>\n",
       "      <td>0</td>\n",
       "      <td>3</td>\n",
       "      <td>Braund, Mr. Owen Harris</td>\n",
       "      <td>male</td>\n",
       "      <td>22.0</td>\n",
       "      <td>1</td>\n",
       "      <td>0</td>\n",
       "      <td>A/5 21171</td>\n",
       "      <td>7.2500</td>\n",
       "      <td>C85</td>\n",
       "      <td>S</td>\n",
       "    </tr>\n",
       "    <tr>\n",
       "      <th>1</th>\n",
       "      <td>1</td>\n",
       "      <td>1</td>\n",
       "      <td>Cumings, Mrs. John Bradley (Florence Briggs Th...</td>\n",
       "      <td>female</td>\n",
       "      <td>38.0</td>\n",
       "      <td>1</td>\n",
       "      <td>0</td>\n",
       "      <td>PC 17599</td>\n",
       "      <td>71.2833</td>\n",
       "      <td>C85</td>\n",
       "      <td>C</td>\n",
       "    </tr>\n",
       "    <tr>\n",
       "      <th>2</th>\n",
       "      <td>1</td>\n",
       "      <td>3</td>\n",
       "      <td>Heikkinen, Miss. Laina</td>\n",
       "      <td>female</td>\n",
       "      <td>26.0</td>\n",
       "      <td>0</td>\n",
       "      <td>0</td>\n",
       "      <td>STON/O2. 3101282</td>\n",
       "      <td>7.9250</td>\n",
       "      <td>C123</td>\n",
       "      <td>S</td>\n",
       "    </tr>\n",
       "    <tr>\n",
       "      <th>3</th>\n",
       "      <td>1</td>\n",
       "      <td>1</td>\n",
       "      <td>Futrelle, Mrs. Jacques Heath (Lily May Peel)</td>\n",
       "      <td>female</td>\n",
       "      <td>35.0</td>\n",
       "      <td>1</td>\n",
       "      <td>0</td>\n",
       "      <td>113803</td>\n",
       "      <td>53.1000</td>\n",
       "      <td>C123</td>\n",
       "      <td>S</td>\n",
       "    </tr>\n",
       "    <tr>\n",
       "      <th>4</th>\n",
       "      <td>0</td>\n",
       "      <td>3</td>\n",
       "      <td>Allen, Mr. William Henry</td>\n",
       "      <td>male</td>\n",
       "      <td>35.0</td>\n",
       "      <td>0</td>\n",
       "      <td>0</td>\n",
       "      <td>373450</td>\n",
       "      <td>8.0500</td>\n",
       "      <td>E46</td>\n",
       "      <td>S</td>\n",
       "    </tr>\n",
       "  </tbody>\n",
       "</table>\n",
       "</div>"
      ],
      "text/plain": [
       "   Survived  Pclass                                               Name  \\\n",
       "0         0       3                            Braund, Mr. Owen Harris   \n",
       "1         1       1  Cumings, Mrs. John Bradley (Florence Briggs Th...   \n",
       "2         1       3                             Heikkinen, Miss. Laina   \n",
       "3         1       1       Futrelle, Mrs. Jacques Heath (Lily May Peel)   \n",
       "4         0       3                           Allen, Mr. William Henry   \n",
       "\n",
       "      Sex   Age  SibSp  Parch            Ticket     Fare Cabin Embarked  \n",
       "0    male  22.0      1      0         A/5 21171   7.2500   C85        S  \n",
       "1  female  38.0      1      0          PC 17599  71.2833   C85        C  \n",
       "2  female  26.0      0      0  STON/O2. 3101282   7.9250  C123        S  \n",
       "3  female  35.0      1      0            113803  53.1000  C123        S  \n",
       "4    male  35.0      0      0            373450   8.0500   E46        S  "
      ]
     },
     "execution_count": 106,
     "metadata": {},
     "output_type": "execute_result"
    }
   ],
   "source": [
    "df.dropna(subset=[\"Age\"],inplace=True)\n",
    "df.head()"
   ]
  },
  {
   "cell_type": "code",
   "execution_count": 108,
   "id": "9475fb05",
   "metadata": {},
   "outputs": [
    {
     "data": {
      "text/plain": [
       "(891, 11)"
      ]
     },
     "execution_count": 108,
     "metadata": {},
     "output_type": "execute_result"
    }
   ],
   "source": [
    "df.shape\n",
    "#one column is removed"
   ]
  },
  {
   "cell_type": "markdown",
   "id": "4f88353e",
   "metadata": {},
   "source": [
    "matplotlib and seaborn are used for data visualisation"
   ]
  },
  {
   "cell_type": "code",
   "execution_count": 110,
   "id": "fcb8a10a",
   "metadata": {},
   "outputs": [],
   "source": [
    "import pandas as pd #pandas is  used for exploratory data analysis\n",
    "import numpy as np\n",
    "import matplotlib.pyplot as plt\n",
    "from matplotlib.patches import Patch\n",
    "#from matplotlib.lines\n",
    "import seaborn as sns"
   ]
  },
  {
   "cell_type": "markdown",
   "id": "25174256",
   "metadata": {},
   "source": [
    "get total count of values from a column using aggregators"
   ]
  },
  {
   "cell_type": "code",
   "execution_count": 113,
   "id": "2f26d8e4",
   "metadata": {},
   "outputs": [
    {
     "data": {
      "text/plain": [
       "Survived\n",
       "0    549\n",
       "1    342\n",
       "Name: count, dtype: int64"
      ]
     },
     "execution_count": 113,
     "metadata": {},
     "output_type": "execute_result"
    }
   ],
   "source": [
    "df[\"Survived\"].value_counts() #count of unique values in column survive"
   ]
  },
  {
   "cell_type": "code",
   "execution_count": 115,
   "id": "9af047cc",
   "metadata": {},
   "outputs": [
    {
     "data": {
      "text/html": [
       "<div>\n",
       "<style scoped>\n",
       "    .dataframe tbody tr th:only-of-type {\n",
       "        vertical-align: middle;\n",
       "    }\n",
       "\n",
       "    .dataframe tbody tr th {\n",
       "        vertical-align: top;\n",
       "    }\n",
       "\n",
       "    .dataframe thead th {\n",
       "        text-align: right;\n",
       "    }\n",
       "</style>\n",
       "<table border=\"1\" class=\"dataframe\">\n",
       "  <thead>\n",
       "    <tr style=\"text-align: right;\">\n",
       "      <th></th>\n",
       "      <th>value_counts</th>\n",
       "    </tr>\n",
       "    <tr>\n",
       "      <th>Survived</th>\n",
       "      <th></th>\n",
       "    </tr>\n",
       "  </thead>\n",
       "  <tbody>\n",
       "    <tr>\n",
       "      <th>0</th>\n",
       "      <td>549</td>\n",
       "    </tr>\n",
       "    <tr>\n",
       "      <th>1</th>\n",
       "      <td>342</td>\n",
       "    </tr>\n",
       "  </tbody>\n",
       "</table>\n",
       "</div>"
      ],
      "text/plain": [
       "          value_counts\n",
       "Survived              \n",
       "0                  549\n",
       "1                  342"
      ]
     },
     "execution_count": 115,
     "metadata": {},
     "output_type": "execute_result"
    }
   ],
   "source": [
    "df[\"Survived\"].agg([\"value_counts\"])"
   ]
  },
  {
   "cell_type": "markdown",
   "id": "415c728d",
   "metadata": {},
   "source": [
    "visualise the count values using count plot"
   ]
  },
  {
   "cell_type": "code",
   "execution_count": 118,
   "id": "15d1b465",
   "metadata": {},
   "outputs": [
    {
     "data": {
      "text/plain": [
       "<Axes: xlabel='Survived', ylabel='count'>"
      ]
     },
     "execution_count": 118,
     "metadata": {},
     "output_type": "execute_result"
    },
    {
     "data": {
      "image/png": "[encoded data removed]",
      "text/plain": [
       "<Figure size 640x480 with 1 Axes>"
      ]
     },
     "metadata": {},
     "output_type": "display_data"
    }
   ],
   "source": [
    "sns.countplot(x=df[\"Survived\"])  #x= from dataframe df choose column survived"
   ]
  },
  {
   "cell_type": "code",
   "execution_count": 117,
   "id": "32e7bd71",
   "metadata": {},
   "outputs": [
    {
     "data": {
      "text/html": [
       "<div>\n",
       "<style scoped>\n",
       "    .dataframe tbody tr th:only-of-type {\n",
       "        vertical-align: middle;\n",
       "    }\n",
       "\n",
       "    .dataframe tbody tr th {\n",
       "        vertical-align: top;\n",
       "    }\n",
       "\n",
       "    .dataframe thead th {\n",
       "        text-align: right;\n",
       "    }\n",
       "</style>\n",
       "<table border=\"1\" class=\"dataframe\">\n",
       "  <thead>\n",
       "    <tr style=\"text-align: right;\">\n",
       "      <th></th>\n",
       "      <th></th>\n",
       "      <th>value_counts</th>\n",
       "    </tr>\n",
       "    <tr>\n",
       "      <th>Survived</th>\n",
       "      <th>Pclass</th>\n",
       "      <th></th>\n",
       "    </tr>\n",
       "  </thead>\n",
       "  <tbody>\n",
       "    <tr>\n",
       "      <th rowspan=\"3\" valign=\"top\">0</th>\n",
       "      <th>3</th>\n",
       "      <td>372</td>\n",
       "    </tr>\n",
       "    <tr>\n",
       "      <th>2</th>\n",
       "      <td>97</td>\n",
       "    </tr>\n",
       "    <tr>\n",
       "      <th>1</th>\n",
       "      <td>80</td>\n",
       "    </tr>\n",
       "    <tr>\n",
       "      <th rowspan=\"3\" valign=\"top\">1</th>\n",
       "      <th>1</th>\n",
       "      <td>136</td>\n",
       "    </tr>\n",
       "    <tr>\n",
       "      <th>3</th>\n",
       "      <td>119</td>\n",
       "    </tr>\n",
       "    <tr>\n",
       "      <th>2</th>\n",
       "      <td>87</td>\n",
       "    </tr>\n",
       "  </tbody>\n",
       "</table>\n",
       "</div>"
      ],
      "text/plain": [
       "                 value_counts\n",
       "Survived Pclass              \n",
       "0        3                372\n",
       "         2                 97\n",
       "         1                 80\n",
       "1        1                136\n",
       "         3                119\n",
       "         2                 87"
      ]
     },
     "execution_count": 117,
     "metadata": {},
     "output_type": "execute_result"
    }
   ],
   "source": [
    "df.groupby([\"Survived\"])[\"Pclass\"].agg([\"value_counts\"]) #group by the unique values of survived with Pclass values"
   ]
  },
  {
   "cell_type": "code",
   "execution_count": 119,
   "id": "db023ad0",
   "metadata": {},
   "outputs": [
    {
     "data": {
      "text/html": [
       "<div>\n",
       "<style scoped>\n",
       "    .dataframe tbody tr th:only-of-type {\n",
       "        vertical-align: middle;\n",
       "    }\n",
       "\n",
       "    .dataframe tbody tr th {\n",
       "        vertical-align: top;\n",
       "    }\n",
       "\n",
       "    .dataframe thead th {\n",
       "        text-align: right;\n",
       "    }\n",
       "</style>\n",
       "<table border=\"1\" class=\"dataframe\">\n",
       "  <thead>\n",
       "    <tr style=\"text-align: right;\">\n",
       "      <th></th>\n",
       "      <th></th>\n",
       "      <th>value_counts</th>\n",
       "    </tr>\n",
       "    <tr>\n",
       "      <th>Survived</th>\n",
       "      <th>Embarked</th>\n",
       "      <th></th>\n",
       "    </tr>\n",
       "  </thead>\n",
       "  <tbody>\n",
       "    <tr>\n",
       "      <th rowspan=\"3\" valign=\"top\">0</th>\n",
       "      <th>S</th>\n",
       "      <td>427</td>\n",
       "    </tr>\n",
       "    <tr>\n",
       "      <th>C</th>\n",
       "      <td>75</td>\n",
       "    </tr>\n",
       "    <tr>\n",
       "      <th>Q</th>\n",
       "      <td>47</td>\n",
       "    </tr>\n",
       "    <tr>\n",
       "      <th rowspan=\"3\" valign=\"top\">1</th>\n",
       "      <th>S</th>\n",
       "      <td>218</td>\n",
       "    </tr>\n",
       "    <tr>\n",
       "      <th>C</th>\n",
       "      <td>94</td>\n",
       "    </tr>\n",
       "    <tr>\n",
       "      <th>Q</th>\n",
       "      <td>30</td>\n",
       "    </tr>\n",
       "  </tbody>\n",
       "</table>\n",
       "</div>"
      ],
      "text/plain": [
       "                   value_counts\n",
       "Survived Embarked              \n",
       "0        S                  427\n",
       "         C                   75\n",
       "         Q                   47\n",
       "1        S                  218\n",
       "         C                   94\n",
       "         Q                   30"
      ]
     },
     "execution_count": 119,
     "metadata": {},
     "output_type": "execute_result"
    }
   ],
   "source": [
    "df.groupby([\"Survived\"])[\"Embarked\"].agg([\"value_counts\"])"
   ]
  },
  {
   "cell_type": "code",
   "execution_count": 120,
   "id": "61d506ea",
   "metadata": {},
   "outputs": [
    {
     "data": {
      "text/plain": [
       "<Axes: xlabel='Pclass', ylabel='count'>"
      ]
     },
     "execution_count": 120,
     "metadata": {},
     "output_type": "execute_result"
    },
    {
     "data": {
      "image/png": "[encoded data removed]",
      "text/plain": [
       "<Figure size 640x480 with 1 Axes>"
      ]
     },
     "metadata": {},
     "output_type": "display_data"
    }
   ],
   "source": [
    "sns.countplot(x=\"Pclass\",data=df,hue=\"Survived\") #color is chosen based on values of survived"
   ]
  },
  {
   "cell_type": "code",
   "execution_count": 122,
   "id": "990d0271",
   "metadata": {},
   "outputs": [
    {
     "data": {
      "text/plain": [
       "<Axes: xlabel='Survived', ylabel='count'>"
      ]
     },
     "execution_count": 122,
     "metadata": {},
     "output_type": "execute_result"
    },
    {
     "data": {
      "image/png": "[encoded data removed]",
      "text/plain": [
       "<Figure size 640x480 with 1 Axes>"
      ]
     },
     "metadata": {},
     "output_type": "display_data"
    }
   ],
   "source": [
    "sns.countplot(x=\"Survived\",data=df,hue=\"Pclass\")\n",
    "#Pclass is the ticket or seat class in titanic"
   ]
  },
  {
   "cell_type": "code",
   "execution_count": 123,
   "id": "673e0303",
   "metadata": {},
   "outputs": [
    {
     "data": {
      "text/html": [
       "<div>\n",
       "<style scoped>\n",
       "    .dataframe tbody tr th:only-of-type {\n",
       "        vertical-align: middle;\n",
       "    }\n",
       "\n",
       "    .dataframe tbody tr th {\n",
       "        vertical-align: top;\n",
       "    }\n",
       "\n",
       "    .dataframe thead th {\n",
       "        text-align: right;\n",
       "    }\n",
       "</style>\n",
       "<table border=\"1\" class=\"dataframe\">\n",
       "  <thead>\n",
       "    <tr style=\"text-align: right;\">\n",
       "      <th></th>\n",
       "      <th>value_counts</th>\n",
       "    </tr>\n",
       "    <tr>\n",
       "      <th>Pclass</th>\n",
       "      <th></th>\n",
       "    </tr>\n",
       "  </thead>\n",
       "  <tbody>\n",
       "    <tr>\n",
       "      <th>3</th>\n",
       "      <td>491</td>\n",
       "    </tr>\n",
       "    <tr>\n",
       "      <th>1</th>\n",
       "      <td>216</td>\n",
       "    </tr>\n",
       "    <tr>\n",
       "      <th>2</th>\n",
       "      <td>184</td>\n",
       "    </tr>\n",
       "  </tbody>\n",
       "</table>\n",
       "</div>"
      ],
      "text/plain": [
       "        value_counts\n",
       "Pclass              \n",
       "3                491\n",
       "1                216\n",
       "2                184"
      ]
     },
     "execution_count": 123,
     "metadata": {},
     "output_type": "execute_result"
    }
   ],
   "source": [
    "df[\"Pclass\"].agg([\"value_counts\"])"
   ]
  },
  {
   "cell_type": "code",
   "execution_count": 125,
   "id": "4dc1efcd",
   "metadata": {},
   "outputs": [
    {
     "data": {
      "text/plain": [
       "<Axes: xlabel='Pclass', ylabel='count'>"
      ]
     },
     "execution_count": 125,
     "metadata": {},
     "output_type": "execute_result"
    },
    {
     "data": {
      "image/png": "[encoded data removed]",
      "text/plain": [
       "<Figure size 640x480 with 1 Axes>"
      ]
     },
     "metadata": {},
     "output_type": "display_data"
    }
   ],
   "source": [
    "sns.countplot(x=df[\"Pclass\"]) #make a countplot of Pclass from df"
   ]
  },
  {
   "cell_type": "code",
   "execution_count": 126,
   "id": "080412ec",
   "metadata": {},
   "outputs": [
    {
     "data": {
      "text/html": [
       "<div>\n",
       "<style scoped>\n",
       "    .dataframe tbody tr th:only-of-type {\n",
       "        vertical-align: middle;\n",
       "    }\n",
       "\n",
       "    .dataframe tbody tr th {\n",
       "        vertical-align: top;\n",
       "    }\n",
       "\n",
       "    .dataframe thead th {\n",
       "        text-align: right;\n",
       "    }\n",
       "</style>\n",
       "<table border=\"1\" class=\"dataframe\">\n",
       "  <thead>\n",
       "    <tr style=\"text-align: right;\">\n",
       "      <th></th>\n",
       "      <th></th>\n",
       "      <th></th>\n",
       "      <th>value_counts</th>\n",
       "    </tr>\n",
       "    <tr>\n",
       "      <th>Sex</th>\n",
       "      <th>Survived</th>\n",
       "      <th>Pclass</th>\n",
       "      <th></th>\n",
       "    </tr>\n",
       "  </thead>\n",
       "  <tbody>\n",
       "    <tr>\n",
       "      <th rowspan=\"6\" valign=\"top\">female</th>\n",
       "      <th rowspan=\"3\" valign=\"top\">0</th>\n",
       "      <th>3</th>\n",
       "      <td>72</td>\n",
       "    </tr>\n",
       "    <tr>\n",
       "      <th>2</th>\n",
       "      <td>6</td>\n",
       "    </tr>\n",
       "    <tr>\n",
       "      <th>1</th>\n",
       "      <td>3</td>\n",
       "    </tr>\n",
       "    <tr>\n",
       "      <th rowspan=\"3\" valign=\"top\">1</th>\n",
       "      <th>1</th>\n",
       "      <td>91</td>\n",
       "    </tr>\n",
       "    <tr>\n",
       "      <th>3</th>\n",
       "      <td>72</td>\n",
       "    </tr>\n",
       "    <tr>\n",
       "      <th>2</th>\n",
       "      <td>70</td>\n",
       "    </tr>\n",
       "    <tr>\n",
       "      <th rowspan=\"6\" valign=\"top\">male</th>\n",
       "      <th rowspan=\"3\" valign=\"top\">0</th>\n",
       "      <th>3</th>\n",
       "      <td>300</td>\n",
       "    </tr>\n",
       "    <tr>\n",
       "      <th>2</th>\n",
       "      <td>91</td>\n",
       "    </tr>\n",
       "    <tr>\n",
       "      <th>1</th>\n",
       "      <td>77</td>\n",
       "    </tr>\n",
       "    <tr>\n",
       "      <th rowspan=\"3\" valign=\"top\">1</th>\n",
       "      <th>3</th>\n",
       "      <td>47</td>\n",
       "    </tr>\n",
       "    <tr>\n",
       "      <th>1</th>\n",
       "      <td>45</td>\n",
       "    </tr>\n",
       "    <tr>\n",
       "      <th>2</th>\n",
       "      <td>17</td>\n",
       "    </tr>\n",
       "  </tbody>\n",
       "</table>\n",
       "</div>"
      ],
      "text/plain": [
       "                        value_counts\n",
       "Sex    Survived Pclass              \n",
       "female 0        3                 72\n",
       "                2                  6\n",
       "                1                  3\n",
       "       1        1                 91\n",
       "                3                 72\n",
       "                2                 70\n",
       "male   0        3                300\n",
       "                2                 91\n",
       "                1                 77\n",
       "       1        3                 47\n",
       "                1                 45\n",
       "                2                 17"
      ]
     },
     "execution_count": 126,
     "metadata": {},
     "output_type": "execute_result"
    }
   ],
   "source": [
    "df.groupby([\"Sex\",\"Survived\"])[\"Pclass\"].agg([\"value_counts\"])\n",
    "#group by sex,survival, pclass"
   ]
  },
  {
   "cell_type": "markdown",
   "id": "dbf27681",
   "metadata": {},
   "source": [
    "we create many sub-plots, they should all be in the same code chunk"
   ]
  },
  {
   "cell_type": "code",
   "execution_count": 146,
   "id": "18d63918",
   "metadata": {},
   "outputs": [
    {
     "data": {
      "text/plain": [
       "Text(0.5, -0.1, 'Pclass 3:male passangers')"
      ]
     },
     "execution_count": 146,
     "metadata": {},
     "output_type": "execute_result"
    },
    {
     "data": {
      "image/png": "[encoded data removed]",
      "text/plain": [
       "<Figure size 2000x1000 with 8 Axes>"
      ]
     },
     "metadata": {},
     "output_type": "display_data"
    }
   ],
   "source": [
    "labels=[\"survived\",\"not survived\"]\n",
    "Pclass=['Pclass 1','Pclass','Pclass 3']\n",
    "\n",
    "female=[29.94,24.20,45.86]\n",
    "male=[21.14,18.72,60.14]\n",
    "\n",
    "plt.figure(figsize=(20,10))\n",
    "\n",
    "\n",
    "plt.subplot(2,4,1)\n",
    "plt.pie(female,labels=Pclass,explode=(0.1,0.1,0.1),autopct='%0.2f%%',textprops={'fontsize':15},shadow=True,startangle=90)\n",
    "plt.title(\"Female Passangers Survived\",y=-0.1,fontsize=16)\n",
    "\n",
    "plt.subplot(2,4,2) \n",
    "plt.pie([96.81,3.19],labels=labels,explode=(0.1,0.1),autopct='%0.2f%%',textprops={'fontsize':15},startangle=240)\n",
    "plt.title(\"Pclass 1:female passangers\",y=-0.1,fontsize=16)\n",
    "\n",
    "plt.subplot(2,4,3)\n",
    "plt.pie([92.11,7.89],labels=labels,explode=(0.1,0.1),autopct='%0.2f%%',textprops={'fontsize':15},startangle=250)\n",
    "plt.title(\"Pclass 2:female passangers\",y=-0.1,fontsize=16)\n",
    "\n",
    "plt.subplot(2,4,4)\n",
    "plt.pie([50,50],labels=labels,explode=(0.1,0.1),autopct='%0.2f%%',textprops={'fontsize':15},startangle=-35)\n",
    "plt.title(\"Pclass 3:female passangers\",y=-0.1,fontsize=16)\n",
    "\n",
    "#plots for male passanger\n",
    "plt.subplot(2,4,5)\n",
    "plt.pie(female,labels=Pclass,explode=(0.1,0.1,0.1),autopct='%0.2f%%',textprops={'fontsize':15},shadow=True,startangle=110)\n",
    "plt.title(\"male Passangers Survived\",y=-0.1,fontsize=18)\n",
    "\n",
    "plt.subplot(2,4,6)\n",
    "plt.pie([36.89,63.11],labels=labels,explode=(0.1,0.1),autopct='%0.2f%%',textprops={'fontsize':15},startangle=20)\n",
    "plt.title(\"Pclass 1:male passangers\",y=-0.1,fontsize=18)\n",
    "\n",
    "plt.subplot(2,4,7)\n",
    "plt.pie([50,50],labels=labels,explode=(0.1,0.1),autopct='%0.2f%%',textprops={'fontsize':15},startangle=20)\n",
    "plt.title(\"Pclass 2:male passangers\",y=-0.1,fontsize=16)\n",
    "\n",
    "plt.subplot(2,4,8)\n",
    "plt.pie([13.54,86.46],labels=labels,explode=(0.1,0.1),autopct='%0.2f%%',textprops={'fontsize':15},startangle=20)\n",
    "plt.title(\"Pclass 3:male passangers\",y=-0.1,fontsize=16)"
   ]
  },
  {
   "cell_type": "markdown",
   "id": "3ab14dfe",
   "metadata": {},
   "source": [
    "histograms #rest of the codes are in a file named \"titan codes\"\n"
   ]
  },
  {
   "cell_type": "code",
   "execution_count": null,
   "id": "629c2074",
   "metadata": {},
   "outputs": [],
   "source": []
  }
 ],
 "metadata": {
  "kernelspec": {
   "display_name": "Python 3 (ipykernel)",
   "language": "python",
   "name": "python3"
  },
  "language_info": {
   "codemirror_mode": {
    "name": "ipython",
    "version": 3
   },
   "file_extension": ".py",
   "mimetype": "text/x-python",
   "name": "python",
   "nbconvert_exporter": "python",
   "pygments_lexer": "ipython3",
   "version": "3.11.5"
  }
 },
 "nbformat": 4,
 "nbformat_minor": 5
}
